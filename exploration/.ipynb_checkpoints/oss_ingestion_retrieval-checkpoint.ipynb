{
 "cells": [
  {
   "cell_type": "markdown",
   "id": "2ffc6a2b",
   "metadata": {
    "id": "2ffc6a2b"
   },
   "source": [
    "<a href=\"https://colab.research.google.com/github/run-llama/llama_index/blob/main/docs/examples/low_level/oss_ingestion_retrieval.ipynb\" target=\"_parent\"><img src=\"https://colab.research.google.com/assets/colab-badge.svg\" alt=\"Open In Colab\"/></a>\n"
   ]
  },
  {
   "cell_type": "markdown",
   "id": "dff7db9e-fbf9-4394-9958-35323799a4e3",
   "metadata": {
    "id": "dff7db9e-fbf9-4394-9958-35323799a4e3"
   },
   "source": [
    "# Building RAG from Scratch (Open-source only!)\n",
    "\n",
    "In this tutorial, we show you how to build a data ingestion pipeline into a vector database, and then build a retrieval pipeline from that vector database, from scratch.\n",
    "\n",
    "Notably, we use a fully open-source stack:\n",
    "\n",
    "- Sentence Transformers as the embedding model\n",
    "- Postgres as the vector store (we support many other [vector stores](https://gpt-index.readthedocs.io/en/stable/core_modules/data_modules/storage/vector_stores.html) too!)\n",
    "- Llama 2 as the LLM (through [llama.cpp](https://github.com/ggerganov/llama.cpp))"
   ]
  },
  {
   "cell_type": "markdown",
   "id": "25764729-40ba-400f-b0f8-08fb9e8bb74a",
   "metadata": {
    "id": "25764729-40ba-400f-b0f8-08fb9e8bb74a"
   },
   "source": [
    "## Setup\n",
    "\n",
    "We setup our open-source components.\n",
    "1. Sentence Transformers\n",
    "2. Llama 2\n",
    "3. We initialize postgres and wrap it with our wrappers/abstractions."
   ]
  },
  {
   "cell_type": "markdown",
   "id": "63935557-a11c-4a22-9248-9c746cc89c4c",
   "metadata": {
    "id": "63935557-a11c-4a22-9248-9c746cc89c4c"
   },
   "source": [
    "#### Sentence Transformers"
   ]
  },
  {
   "cell_type": "code",
   "execution_count": 1,
   "id": "4c08162e-5a48-424c-921f-c9e84a59c72f",
   "metadata": {
    "id": "4c08162e-5a48-424c-921f-c9e84a59c72f"
   },
   "outputs": [],
   "source": [
    "# sentence transformers\n",
    "from llama_index.embeddings import HuggingFaceEmbedding\n",
    "\n",
    "embed_model = HuggingFaceEmbedding(model_name=\"BAAI/bge-small-en\")"
   ]
  },
  {
   "cell_type": "markdown",
   "id": "df10089c-917e-4191-a718-0ef7149a6a1e",
   "metadata": {
    "id": "df10089c-917e-4191-a718-0ef7149a6a1e"
   },
   "source": [
    "#### Llama CPP\n",
    "\n",
    "In this notebook, we use the [`llama-2-chat-13b-ggml`](https://huggingface.co/TheBloke/Llama-2-13B-chat-GGML) model, along with the proper prompt formatting.\n",
    "\n",
    "Check out our [Llama CPP guide](https://gpt-index.readthedocs.io/en/stable/examples/llm/llama_2_llama_cpp.html) for full setup instructions/details."
   ]
  },
  {
   "cell_type": "code",
   "execution_count": 2,
   "id": "3cb975f6-c192-4a26-ae50-e9a319d2a66b",
   "metadata": {
    "id": "3cb975f6-c192-4a26-ae50-e9a319d2a66b"
   },
   "outputs": [
    {
     "name": "stderr",
     "output_type": "stream",
     "text": [
      "llama_model_loader: loaded meta data with 19 key-value pairs and 363 tensors from /Users/richy/Library/Caches/llama_index/models/llama-2-13b-chat.Q4_0.gguf (version GGUF V2)\n",
      "llama_model_loader: - tensor    0:                token_embd.weight q4_0     [  5120, 32000,     1,     1 ]\n",
      "llama_model_loader: - tensor    1:           blk.0.attn_norm.weight f32      [  5120,     1,     1,     1 ]\n",
      "llama_model_loader: - tensor    2:            blk.0.ffn_down.weight q4_0     [ 13824,  5120,     1,     1 ]\n",
      "llama_model_loader: - tensor    3:            blk.0.ffn_gate.weight q4_0     [  5120, 13824,     1,     1 ]\n",
      "llama_model_loader: - tensor    4:              blk.0.ffn_up.weight q4_0     [  5120, 13824,     1,     1 ]\n",
      "llama_model_loader: - tensor    5:            blk.0.ffn_norm.weight f32      [  5120,     1,     1,     1 ]\n",
      "llama_model_loader: - tensor    6:              blk.0.attn_k.weight q4_0     [  5120,  5120,     1,     1 ]\n",
      "llama_model_loader: - tensor    7:         blk.0.attn_output.weight q4_0     [  5120,  5120,     1,     1 ]\n",
      "llama_model_loader: - tensor    8:              blk.0.attn_q.weight q4_0     [  5120,  5120,     1,     1 ]\n",
      "llama_model_loader: - tensor    9:              blk.0.attn_v.weight q4_0     [  5120,  5120,     1,     1 ]\n",
      "llama_model_loader: - tensor   10:           blk.1.attn_norm.weight f32      [  5120,     1,     1,     1 ]\n",
      "llama_model_loader: - tensor   11:            blk.1.ffn_down.weight q4_0     [ 13824,  5120,     1,     1 ]\n",
      "llama_model_loader: - tensor   12:            blk.1.ffn_gate.weight q4_0     [  5120, 13824,     1,     1 ]\n",
      "llama_model_loader: - tensor   13:              blk.1.ffn_up.weight q4_0     [  5120, 13824,     1,     1 ]\n",
      "llama_model_loader: - tensor   14:            blk.1.ffn_norm.weight f32      [  5120,     1,     1,     1 ]\n",
      "llama_model_loader: - tensor   15:              blk.1.attn_k.weight q4_0     [  5120,  5120,     1,     1 ]\n",
      "llama_model_loader: - tensor   16:         blk.1.attn_output.weight q4_0     [  5120,  5120,     1,     1 ]\n",
      "llama_model_loader: - tensor   17:              blk.1.attn_q.weight q4_0     [  5120,  5120,     1,     1 ]\n",
      "llama_model_loader: - tensor   18:              blk.1.attn_v.weight q4_0     [  5120,  5120,     1,     1 ]\n",
      "llama_model_loader: - tensor   19:          blk.10.attn_norm.weight f32      [  5120,     1,     1,     1 ]\n",
      "llama_model_loader: - tensor   20:           blk.10.ffn_down.weight q4_0     [ 13824,  5120,     1,     1 ]\n",
      "llama_model_loader: - tensor   21:           blk.10.ffn_gate.weight q4_0     [  5120, 13824,     1,     1 ]\n",
      "llama_model_loader: - tensor   22:             blk.10.ffn_up.weight q4_0     [  5120, 13824,     1,     1 ]\n",
      "llama_model_loader: - tensor   23:           blk.10.ffn_norm.weight f32      [  5120,     1,     1,     1 ]\n",
      "llama_model_loader: - tensor   24:             blk.10.attn_k.weight q4_0     [  5120,  5120,     1,     1 ]\n",
      "llama_model_loader: - tensor   25:        blk.10.attn_output.weight q4_0     [  5120,  5120,     1,     1 ]\n",
      "llama_model_loader: - tensor   26:             blk.10.attn_q.weight q4_0     [  5120,  5120,     1,     1 ]\n",
      "llama_model_loader: - tensor   27:             blk.10.attn_v.weight q4_0     [  5120,  5120,     1,     1 ]\n",
      "llama_model_loader: - tensor   28:          blk.11.attn_norm.weight f32      [  5120,     1,     1,     1 ]\n",
      "llama_model_loader: - tensor   29:           blk.11.ffn_down.weight q4_0     [ 13824,  5120,     1,     1 ]\n",
      "llama_model_loader: - tensor   30:           blk.11.ffn_gate.weight q4_0     [  5120, 13824,     1,     1 ]\n",
      "llama_model_loader: - tensor   31:             blk.11.ffn_up.weight q4_0     [  5120, 13824,     1,     1 ]\n",
      "llama_model_loader: - tensor   32:           blk.11.ffn_norm.weight f32      [  5120,     1,     1,     1 ]\n",
      "llama_model_loader: - tensor   33:             blk.11.attn_k.weight q4_0     [  5120,  5120,     1,     1 ]\n",
      "llama_model_loader: - tensor   34:        blk.11.attn_output.weight q4_0     [  5120,  5120,     1,     1 ]\n",
      "llama_model_loader: - tensor   35:             blk.11.attn_q.weight q4_0     [  5120,  5120,     1,     1 ]\n",
      "llama_model_loader: - tensor   36:             blk.11.attn_v.weight q4_0     [  5120,  5120,     1,     1 ]\n",
      "llama_model_loader: - tensor   37:          blk.12.attn_norm.weight f32      [  5120,     1,     1,     1 ]\n",
      "llama_model_loader: - tensor   38:           blk.12.ffn_down.weight q4_0     [ 13824,  5120,     1,     1 ]\n",
      "llama_model_loader: - tensor   39:           blk.12.ffn_gate.weight q4_0     [  5120, 13824,     1,     1 ]\n",
      "llama_model_loader: - tensor   40:             blk.12.ffn_up.weight q4_0     [  5120, 13824,     1,     1 ]\n",
      "llama_model_loader: - tensor   41:           blk.12.ffn_norm.weight f32      [  5120,     1,     1,     1 ]\n",
      "llama_model_loader: - tensor   42:             blk.12.attn_k.weight q4_0     [  5120,  5120,     1,     1 ]\n",
      "llama_model_loader: - tensor   43:        blk.12.attn_output.weight q4_0     [  5120,  5120,     1,     1 ]\n",
      "llama_model_loader: - tensor   44:             blk.12.attn_q.weight q4_0     [  5120,  5120,     1,     1 ]\n",
      "llama_model_loader: - tensor   45:             blk.12.attn_v.weight q4_0     [  5120,  5120,     1,     1 ]\n",
      "llama_model_loader: - tensor   46:          blk.13.attn_norm.weight f32      [  5120,     1,     1,     1 ]\n",
      "llama_model_loader: - tensor   47:           blk.13.ffn_down.weight q4_0     [ 13824,  5120,     1,     1 ]\n",
      "llama_model_loader: - tensor   48:           blk.13.ffn_gate.weight q4_0     [  5120, 13824,     1,     1 ]\n",
      "llama_model_loader: - tensor   49:             blk.13.ffn_up.weight q4_0     [  5120, 13824,     1,     1 ]\n",
      "llama_model_loader: - tensor   50:           blk.13.ffn_norm.weight f32      [  5120,     1,     1,     1 ]\n",
      "llama_model_loader: - tensor   51:             blk.13.attn_k.weight q4_0     [  5120,  5120,     1,     1 ]\n",
      "llama_model_loader: - tensor   52:        blk.13.attn_output.weight q4_0     [  5120,  5120,     1,     1 ]\n",
      "llama_model_loader: - tensor   53:             blk.13.attn_q.weight q4_0     [  5120,  5120,     1,     1 ]\n",
      "llama_model_loader: - tensor   54:             blk.13.attn_v.weight q4_0     [  5120,  5120,     1,     1 ]\n",
      "llama_model_loader: - tensor   55:          blk.14.attn_norm.weight f32      [  5120,     1,     1,     1 ]\n",
      "llama_model_loader: - tensor   56:           blk.14.ffn_down.weight q4_0     [ 13824,  5120,     1,     1 ]\n",
      "llama_model_loader: - tensor   57:           blk.14.ffn_gate.weight q4_0     [  5120, 13824,     1,     1 ]\n",
      "llama_model_loader: - tensor   58:             blk.14.ffn_up.weight q4_0     [  5120, 13824,     1,     1 ]\n",
      "llama_model_loader: - tensor   59:           blk.14.ffn_norm.weight f32      [  5120,     1,     1,     1 ]\n",
      "llama_model_loader: - tensor   60:             blk.14.attn_k.weight q4_0     [  5120,  5120,     1,     1 ]\n",
      "llama_model_loader: - tensor   61:        blk.14.attn_output.weight q4_0     [  5120,  5120,     1,     1 ]\n",
      "llama_model_loader: - tensor   62:             blk.14.attn_q.weight q4_0     [  5120,  5120,     1,     1 ]\n",
      "llama_model_loader: - tensor   63:             blk.14.attn_v.weight q4_0     [  5120,  5120,     1,     1 ]\n",
      "llama_model_loader: - tensor   64:             blk.15.attn_k.weight q4_0     [  5120,  5120,     1,     1 ]\n",
      "llama_model_loader: - tensor   65:             blk.15.attn_q.weight q4_0     [  5120,  5120,     1,     1 ]\n",
      "llama_model_loader: - tensor   66:           blk.2.attn_norm.weight f32      [  5120,     1,     1,     1 ]\n",
      "llama_model_loader: - tensor   67:            blk.2.ffn_down.weight q4_0     [ 13824,  5120,     1,     1 ]\n",
      "llama_model_loader: - tensor   68:            blk.2.ffn_gate.weight q4_0     [  5120, 13824,     1,     1 ]\n",
      "llama_model_loader: - tensor   69:              blk.2.ffn_up.weight q4_0     [  5120, 13824,     1,     1 ]\n",
      "llama_model_loader: - tensor   70:            blk.2.ffn_norm.weight f32      [  5120,     1,     1,     1 ]\n",
      "llama_model_loader: - tensor   71:              blk.2.attn_k.weight q4_0     [  5120,  5120,     1,     1 ]\n",
      "llama_model_loader: - tensor   72:         blk.2.attn_output.weight q4_0     [  5120,  5120,     1,     1 ]\n",
      "llama_model_loader: - tensor   73:              blk.2.attn_q.weight q4_0     [  5120,  5120,     1,     1 ]\n",
      "llama_model_loader: - tensor   74:              blk.2.attn_v.weight q4_0     [  5120,  5120,     1,     1 ]\n",
      "llama_model_loader: - tensor   75:           blk.3.attn_norm.weight f32      [  5120,     1,     1,     1 ]\n",
      "llama_model_loader: - tensor   76:            blk.3.ffn_down.weight q4_0     [ 13824,  5120,     1,     1 ]\n",
      "llama_model_loader: - tensor   77:            blk.3.ffn_gate.weight q4_0     [  5120, 13824,     1,     1 ]\n",
      "llama_model_loader: - tensor   78:              blk.3.ffn_up.weight q4_0     [  5120, 13824,     1,     1 ]\n",
      "llama_model_loader: - tensor   79:            blk.3.ffn_norm.weight f32      [  5120,     1,     1,     1 ]\n",
      "llama_model_loader: - tensor   80:              blk.3.attn_k.weight q4_0     [  5120,  5120,     1,     1 ]\n",
      "llama_model_loader: - tensor   81:         blk.3.attn_output.weight q4_0     [  5120,  5120,     1,     1 ]\n",
      "llama_model_loader: - tensor   82:              blk.3.attn_q.weight q4_0     [  5120,  5120,     1,     1 ]\n",
      "llama_model_loader: - tensor   83:              blk.3.attn_v.weight q4_0     [  5120,  5120,     1,     1 ]\n",
      "llama_model_loader: - tensor   84:           blk.4.attn_norm.weight f32      [  5120,     1,     1,     1 ]\n",
      "llama_model_loader: - tensor   85:            blk.4.ffn_down.weight q4_0     [ 13824,  5120,     1,     1 ]\n",
      "llama_model_loader: - tensor   86:            blk.4.ffn_gate.weight q4_0     [  5120, 13824,     1,     1 ]\n",
      "llama_model_loader: - tensor   87:              blk.4.ffn_up.weight q4_0     [  5120, 13824,     1,     1 ]\n",
      "llama_model_loader: - tensor   88:            blk.4.ffn_norm.weight f32      [  5120,     1,     1,     1 ]\n",
      "llama_model_loader: - tensor   89:              blk.4.attn_k.weight q4_0     [  5120,  5120,     1,     1 ]\n",
      "llama_model_loader: - tensor   90:         blk.4.attn_output.weight q4_0     [  5120,  5120,     1,     1 ]\n",
      "llama_model_loader: - tensor   91:              blk.4.attn_q.weight q4_0     [  5120,  5120,     1,     1 ]\n",
      "llama_model_loader: - tensor   92:              blk.4.attn_v.weight q4_0     [  5120,  5120,     1,     1 ]\n",
      "llama_model_loader: - tensor   93:           blk.5.attn_norm.weight f32      [  5120,     1,     1,     1 ]\n",
      "llama_model_loader: - tensor   94:            blk.5.ffn_down.weight q4_0     [ 13824,  5120,     1,     1 ]\n",
      "llama_model_loader: - tensor   95:            blk.5.ffn_gate.weight q4_0     [  5120, 13824,     1,     1 ]\n",
      "llama_model_loader: - tensor   96:              blk.5.ffn_up.weight q4_0     [  5120, 13824,     1,     1 ]\n",
      "llama_model_loader: - tensor   97:            blk.5.ffn_norm.weight f32      [  5120,     1,     1,     1 ]\n",
      "llama_model_loader: - tensor   98:              blk.5.attn_k.weight q4_0     [  5120,  5120,     1,     1 ]\n",
      "llama_model_loader: - tensor   99:         blk.5.attn_output.weight q4_0     [  5120,  5120,     1,     1 ]\n",
      "llama_model_loader: - tensor  100:              blk.5.attn_q.weight q4_0     [  5120,  5120,     1,     1 ]\n",
      "llama_model_loader: - tensor  101:              blk.5.attn_v.weight q4_0     [  5120,  5120,     1,     1 ]\n",
      "llama_model_loader: - tensor  102:           blk.6.attn_norm.weight f32      [  5120,     1,     1,     1 ]\n",
      "llama_model_loader: - tensor  103:            blk.6.ffn_down.weight q4_0     [ 13824,  5120,     1,     1 ]\n",
      "llama_model_loader: - tensor  104:            blk.6.ffn_gate.weight q4_0     [  5120, 13824,     1,     1 ]\n",
      "llama_model_loader: - tensor  105:              blk.6.ffn_up.weight q4_0     [  5120, 13824,     1,     1 ]\n",
      "llama_model_loader: - tensor  106:            blk.6.ffn_norm.weight f32      [  5120,     1,     1,     1 ]\n",
      "llama_model_loader: - tensor  107:              blk.6.attn_k.weight q4_0     [  5120,  5120,     1,     1 ]\n",
      "llama_model_loader: - tensor  108:         blk.6.attn_output.weight q4_0     [  5120,  5120,     1,     1 ]\n",
      "llama_model_loader: - tensor  109:              blk.6.attn_q.weight q4_0     [  5120,  5120,     1,     1 ]\n",
      "llama_model_loader: - tensor  110:              blk.6.attn_v.weight q4_0     [  5120,  5120,     1,     1 ]\n",
      "llama_model_loader: - tensor  111:           blk.7.attn_norm.weight f32      [  5120,     1,     1,     1 ]\n",
      "llama_model_loader: - tensor  112:            blk.7.ffn_down.weight q4_0     [ 13824,  5120,     1,     1 ]\n",
      "llama_model_loader: - tensor  113:            blk.7.ffn_gate.weight q4_0     [  5120, 13824,     1,     1 ]\n",
      "llama_model_loader: - tensor  114:              blk.7.ffn_up.weight q4_0     [  5120, 13824,     1,     1 ]\n",
      "llama_model_loader: - tensor  115:            blk.7.ffn_norm.weight f32      [  5120,     1,     1,     1 ]\n",
      "llama_model_loader: - tensor  116:              blk.7.attn_k.weight q4_0     [  5120,  5120,     1,     1 ]\n",
      "llama_model_loader: - tensor  117:         blk.7.attn_output.weight q4_0     [  5120,  5120,     1,     1 ]\n",
      "llama_model_loader: - tensor  118:              blk.7.attn_q.weight q4_0     [  5120,  5120,     1,     1 ]\n",
      "llama_model_loader: - tensor  119:              blk.7.attn_v.weight q4_0     [  5120,  5120,     1,     1 ]\n",
      "llama_model_loader: - tensor  120:           blk.8.attn_norm.weight f32      [  5120,     1,     1,     1 ]\n",
      "llama_model_loader: - tensor  121:            blk.8.ffn_down.weight q4_0     [ 13824,  5120,     1,     1 ]\n",
      "llama_model_loader: - tensor  122:            blk.8.ffn_gate.weight q4_0     [  5120, 13824,     1,     1 ]\n",
      "llama_model_loader: - tensor  123:              blk.8.ffn_up.weight q4_0     [  5120, 13824,     1,     1 ]\n",
      "llama_model_loader: - tensor  124:            blk.8.ffn_norm.weight f32      [  5120,     1,     1,     1 ]\n",
      "llama_model_loader: - tensor  125:              blk.8.attn_k.weight q4_0     [  5120,  5120,     1,     1 ]\n",
      "llama_model_loader: - tensor  126:         blk.8.attn_output.weight q4_0     [  5120,  5120,     1,     1 ]\n",
      "llama_model_loader: - tensor  127:              blk.8.attn_q.weight q4_0     [  5120,  5120,     1,     1 ]\n",
      "llama_model_loader: - tensor  128:              blk.8.attn_v.weight q4_0     [  5120,  5120,     1,     1 ]\n",
      "llama_model_loader: - tensor  129:           blk.9.attn_norm.weight f32      [  5120,     1,     1,     1 ]\n",
      "llama_model_loader: - tensor  130:            blk.9.ffn_down.weight q4_0     [ 13824,  5120,     1,     1 ]\n",
      "llama_model_loader: - tensor  131:            blk.9.ffn_gate.weight q4_0     [  5120, 13824,     1,     1 ]\n",
      "llama_model_loader: - tensor  132:              blk.9.ffn_up.weight q4_0     [  5120, 13824,     1,     1 ]\n",
      "llama_model_loader: - tensor  133:            blk.9.ffn_norm.weight f32      [  5120,     1,     1,     1 ]\n",
      "llama_model_loader: - tensor  134:              blk.9.attn_k.weight q4_0     [  5120,  5120,     1,     1 ]\n",
      "llama_model_loader: - tensor  135:         blk.9.attn_output.weight q4_0     [  5120,  5120,     1,     1 ]\n",
      "llama_model_loader: - tensor  136:              blk.9.attn_q.weight q4_0     [  5120,  5120,     1,     1 ]\n",
      "llama_model_loader: - tensor  137:              blk.9.attn_v.weight q4_0     [  5120,  5120,     1,     1 ]\n",
      "llama_model_loader: - tensor  138:          blk.15.attn_norm.weight f32      [  5120,     1,     1,     1 ]\n",
      "llama_model_loader: - tensor  139:           blk.15.ffn_down.weight q4_0     [ 13824,  5120,     1,     1 ]\n",
      "llama_model_loader: - tensor  140:           blk.15.ffn_gate.weight q4_0     [  5120, 13824,     1,     1 ]\n",
      "llama_model_loader: - tensor  141:             blk.15.ffn_up.weight q4_0     [  5120, 13824,     1,     1 ]\n",
      "llama_model_loader: - tensor  142:           blk.15.ffn_norm.weight f32      [  5120,     1,     1,     1 ]\n",
      "llama_model_loader: - tensor  143:        blk.15.attn_output.weight q4_0     [  5120,  5120,     1,     1 ]\n",
      "llama_model_loader: - tensor  144:             blk.15.attn_v.weight q4_0     [  5120,  5120,     1,     1 ]\n",
      "llama_model_loader: - tensor  145:          blk.16.attn_norm.weight f32      [  5120,     1,     1,     1 ]\n",
      "llama_model_loader: - tensor  146:           blk.16.ffn_down.weight q4_0     [ 13824,  5120,     1,     1 ]\n",
      "llama_model_loader: - tensor  147:           blk.16.ffn_gate.weight q4_0     [  5120, 13824,     1,     1 ]\n",
      "llama_model_loader: - tensor  148:             blk.16.ffn_up.weight q4_0     [  5120, 13824,     1,     1 ]\n",
      "llama_model_loader: - tensor  149:           blk.16.ffn_norm.weight f32      [  5120,     1,     1,     1 ]\n",
      "llama_model_loader: - tensor  150:             blk.16.attn_k.weight q4_0     [  5120,  5120,     1,     1 ]\n",
      "llama_model_loader: - tensor  151:        blk.16.attn_output.weight q4_0     [  5120,  5120,     1,     1 ]\n",
      "llama_model_loader: - tensor  152:             blk.16.attn_q.weight q4_0     [  5120,  5120,     1,     1 ]\n",
      "llama_model_loader: - tensor  153:             blk.16.attn_v.weight q4_0     [  5120,  5120,     1,     1 ]\n",
      "llama_model_loader: - tensor  154:          blk.17.attn_norm.weight f32      [  5120,     1,     1,     1 ]\n",
      "llama_model_loader: - tensor  155:           blk.17.ffn_down.weight q4_0     [ 13824,  5120,     1,     1 ]\n",
      "llama_model_loader: - tensor  156:           blk.17.ffn_gate.weight q4_0     [  5120, 13824,     1,     1 ]\n",
      "llama_model_loader: - tensor  157:             blk.17.ffn_up.weight q4_0     [  5120, 13824,     1,     1 ]\n",
      "llama_model_loader: - tensor  158:           blk.17.ffn_norm.weight f32      [  5120,     1,     1,     1 ]\n",
      "llama_model_loader: - tensor  159:             blk.17.attn_k.weight q4_0     [  5120,  5120,     1,     1 ]\n",
      "llama_model_loader: - tensor  160:        blk.17.attn_output.weight q4_0     [  5120,  5120,     1,     1 ]\n",
      "llama_model_loader: - tensor  161:             blk.17.attn_q.weight q4_0     [  5120,  5120,     1,     1 ]\n",
      "llama_model_loader: - tensor  162:             blk.17.attn_v.weight q4_0     [  5120,  5120,     1,     1 ]\n",
      "llama_model_loader: - tensor  163:          blk.18.attn_norm.weight f32      [  5120,     1,     1,     1 ]\n",
      "llama_model_loader: - tensor  164:           blk.18.ffn_down.weight q4_0     [ 13824,  5120,     1,     1 ]\n",
      "llama_model_loader: - tensor  165:           blk.18.ffn_gate.weight q4_0     [  5120, 13824,     1,     1 ]\n",
      "llama_model_loader: - tensor  166:             blk.18.ffn_up.weight q4_0     [  5120, 13824,     1,     1 ]\n",
      "llama_model_loader: - tensor  167:           blk.18.ffn_norm.weight f32      [  5120,     1,     1,     1 ]\n",
      "llama_model_loader: - tensor  168:             blk.18.attn_k.weight q4_0     [  5120,  5120,     1,     1 ]\n",
      "llama_model_loader: - tensor  169:        blk.18.attn_output.weight q4_0     [  5120,  5120,     1,     1 ]\n",
      "llama_model_loader: - tensor  170:             blk.18.attn_q.weight q4_0     [  5120,  5120,     1,     1 ]\n",
      "llama_model_loader: - tensor  171:             blk.18.attn_v.weight q4_0     [  5120,  5120,     1,     1 ]\n",
      "llama_model_loader: - tensor  172:          blk.19.attn_norm.weight f32      [  5120,     1,     1,     1 ]\n",
      "llama_model_loader: - tensor  173:           blk.19.ffn_down.weight q4_0     [ 13824,  5120,     1,     1 ]\n",
      "llama_model_loader: - tensor  174:           blk.19.ffn_gate.weight q4_0     [  5120, 13824,     1,     1 ]\n",
      "llama_model_loader: - tensor  175:             blk.19.ffn_up.weight q4_0     [  5120, 13824,     1,     1 ]\n",
      "llama_model_loader: - tensor  176:           blk.19.ffn_norm.weight f32      [  5120,     1,     1,     1 ]\n",
      "llama_model_loader: - tensor  177:             blk.19.attn_k.weight q4_0     [  5120,  5120,     1,     1 ]\n",
      "llama_model_loader: - tensor  178:        blk.19.attn_output.weight q4_0     [  5120,  5120,     1,     1 ]\n",
      "llama_model_loader: - tensor  179:             blk.19.attn_q.weight q4_0     [  5120,  5120,     1,     1 ]\n",
      "llama_model_loader: - tensor  180:             blk.19.attn_v.weight q4_0     [  5120,  5120,     1,     1 ]\n",
      "llama_model_loader: - tensor  181:          blk.20.attn_norm.weight f32      [  5120,     1,     1,     1 ]\n",
      "llama_model_loader: - tensor  182:           blk.20.ffn_down.weight q4_0     [ 13824,  5120,     1,     1 ]\n",
      "llama_model_loader: - tensor  183:           blk.20.ffn_gate.weight q4_0     [  5120, 13824,     1,     1 ]\n",
      "llama_model_loader: - tensor  184:             blk.20.ffn_up.weight q4_0     [  5120, 13824,     1,     1 ]\n",
      "llama_model_loader: - tensor  185:           blk.20.ffn_norm.weight f32      [  5120,     1,     1,     1 ]\n",
      "llama_model_loader: - tensor  186:             blk.20.attn_k.weight q4_0     [  5120,  5120,     1,     1 ]\n",
      "llama_model_loader: - tensor  187:        blk.20.attn_output.weight q4_0     [  5120,  5120,     1,     1 ]\n",
      "llama_model_loader: - tensor  188:             blk.20.attn_q.weight q4_0     [  5120,  5120,     1,     1 ]\n",
      "llama_model_loader: - tensor  189:             blk.20.attn_v.weight q4_0     [  5120,  5120,     1,     1 ]\n",
      "llama_model_loader: - tensor  190:          blk.21.attn_norm.weight f32      [  5120,     1,     1,     1 ]\n",
      "llama_model_loader: - tensor  191:           blk.21.ffn_down.weight q4_0     [ 13824,  5120,     1,     1 ]\n",
      "llama_model_loader: - tensor  192:           blk.21.ffn_gate.weight q4_0     [  5120, 13824,     1,     1 ]\n",
      "llama_model_loader: - tensor  193:             blk.21.ffn_up.weight q4_0     [  5120, 13824,     1,     1 ]\n",
      "llama_model_loader: - tensor  194:           blk.21.ffn_norm.weight f32      [  5120,     1,     1,     1 ]\n",
      "llama_model_loader: - tensor  195:             blk.21.attn_k.weight q4_0     [  5120,  5120,     1,     1 ]\n",
      "llama_model_loader: - tensor  196:        blk.21.attn_output.weight q4_0     [  5120,  5120,     1,     1 ]\n",
      "llama_model_loader: - tensor  197:             blk.21.attn_q.weight q4_0     [  5120,  5120,     1,     1 ]\n",
      "llama_model_loader: - tensor  198:             blk.21.attn_v.weight q4_0     [  5120,  5120,     1,     1 ]\n",
      "llama_model_loader: - tensor  199:          blk.22.attn_norm.weight f32      [  5120,     1,     1,     1 ]\n",
      "llama_model_loader: - tensor  200:           blk.22.ffn_down.weight q4_0     [ 13824,  5120,     1,     1 ]\n",
      "llama_model_loader: - tensor  201:           blk.22.ffn_gate.weight q4_0     [  5120, 13824,     1,     1 ]\n",
      "llama_model_loader: - tensor  202:             blk.22.ffn_up.weight q4_0     [  5120, 13824,     1,     1 ]\n",
      "llama_model_loader: - tensor  203:           blk.22.ffn_norm.weight f32      [  5120,     1,     1,     1 ]\n",
      "llama_model_loader: - tensor  204:             blk.22.attn_k.weight q4_0     [  5120,  5120,     1,     1 ]\n",
      "llama_model_loader: - tensor  205:        blk.22.attn_output.weight q4_0     [  5120,  5120,     1,     1 ]\n",
      "llama_model_loader: - tensor  206:             blk.22.attn_q.weight q4_0     [  5120,  5120,     1,     1 ]\n",
      "llama_model_loader: - tensor  207:             blk.22.attn_v.weight q4_0     [  5120,  5120,     1,     1 ]\n",
      "llama_model_loader: - tensor  208:          blk.23.attn_norm.weight f32      [  5120,     1,     1,     1 ]\n",
      "llama_model_loader: - tensor  209:           blk.23.ffn_down.weight q4_0     [ 13824,  5120,     1,     1 ]\n",
      "llama_model_loader: - tensor  210:           blk.23.ffn_gate.weight q4_0     [  5120, 13824,     1,     1 ]\n",
      "llama_model_loader: - tensor  211:             blk.23.ffn_up.weight q4_0     [  5120, 13824,     1,     1 ]\n",
      "llama_model_loader: - tensor  212:           blk.23.ffn_norm.weight f32      [  5120,     1,     1,     1 ]\n",
      "llama_model_loader: - tensor  213:             blk.23.attn_k.weight q4_0     [  5120,  5120,     1,     1 ]\n",
      "llama_model_loader: - tensor  214:        blk.23.attn_output.weight q4_0     [  5120,  5120,     1,     1 ]\n",
      "llama_model_loader: - tensor  215:             blk.23.attn_q.weight q4_0     [  5120,  5120,     1,     1 ]\n",
      "llama_model_loader: - tensor  216:             blk.23.attn_v.weight q4_0     [  5120,  5120,     1,     1 ]\n",
      "llama_model_loader: - tensor  217:          blk.24.attn_norm.weight f32      [  5120,     1,     1,     1 ]\n",
      "llama_model_loader: - tensor  218:           blk.24.ffn_down.weight q4_0     [ 13824,  5120,     1,     1 ]\n",
      "llama_model_loader: - tensor  219:           blk.24.ffn_gate.weight q4_0     [  5120, 13824,     1,     1 ]\n",
      "llama_model_loader: - tensor  220:             blk.24.ffn_up.weight q4_0     [  5120, 13824,     1,     1 ]\n",
      "llama_model_loader: - tensor  221:           blk.24.ffn_norm.weight f32      [  5120,     1,     1,     1 ]\n",
      "llama_model_loader: - tensor  222:             blk.24.attn_k.weight q4_0     [  5120,  5120,     1,     1 ]\n",
      "llama_model_loader: - tensor  223:        blk.24.attn_output.weight q4_0     [  5120,  5120,     1,     1 ]\n",
      "llama_model_loader: - tensor  224:             blk.24.attn_q.weight q4_0     [  5120,  5120,     1,     1 ]\n",
      "llama_model_loader: - tensor  225:             blk.24.attn_v.weight q4_0     [  5120,  5120,     1,     1 ]\n",
      "llama_model_loader: - tensor  226:          blk.25.attn_norm.weight f32      [  5120,     1,     1,     1 ]\n",
      "llama_model_loader: - tensor  227:           blk.25.ffn_down.weight q4_0     [ 13824,  5120,     1,     1 ]\n",
      "llama_model_loader: - tensor  228:           blk.25.ffn_gate.weight q4_0     [  5120, 13824,     1,     1 ]\n",
      "llama_model_loader: - tensor  229:             blk.25.ffn_up.weight q4_0     [  5120, 13824,     1,     1 ]\n",
      "llama_model_loader: - tensor  230:           blk.25.ffn_norm.weight f32      [  5120,     1,     1,     1 ]\n",
      "llama_model_loader: - tensor  231:             blk.25.attn_k.weight q4_0     [  5120,  5120,     1,     1 ]\n",
      "llama_model_loader: - tensor  232:        blk.25.attn_output.weight q4_0     [  5120,  5120,     1,     1 ]\n",
      "llama_model_loader: - tensor  233:             blk.25.attn_q.weight q4_0     [  5120,  5120,     1,     1 ]\n",
      "llama_model_loader: - tensor  234:             blk.25.attn_v.weight q4_0     [  5120,  5120,     1,     1 ]\n",
      "llama_model_loader: - tensor  235:          blk.26.attn_norm.weight f32      [  5120,     1,     1,     1 ]\n",
      "llama_model_loader: - tensor  236:           blk.26.ffn_down.weight q4_0     [ 13824,  5120,     1,     1 ]\n",
      "llama_model_loader: - tensor  237:           blk.26.ffn_gate.weight q4_0     [  5120, 13824,     1,     1 ]\n",
      "llama_model_loader: - tensor  238:             blk.26.ffn_up.weight q4_0     [  5120, 13824,     1,     1 ]\n",
      "llama_model_loader: - tensor  239:           blk.26.ffn_norm.weight f32      [  5120,     1,     1,     1 ]\n",
      "llama_model_loader: - tensor  240:             blk.26.attn_k.weight q4_0     [  5120,  5120,     1,     1 ]\n",
      "llama_model_loader: - tensor  241:        blk.26.attn_output.weight q4_0     [  5120,  5120,     1,     1 ]\n",
      "llama_model_loader: - tensor  242:             blk.26.attn_q.weight q4_0     [  5120,  5120,     1,     1 ]\n",
      "llama_model_loader: - tensor  243:             blk.26.attn_v.weight q4_0     [  5120,  5120,     1,     1 ]\n",
      "llama_model_loader: - tensor  244:          blk.27.attn_norm.weight f32      [  5120,     1,     1,     1 ]\n",
      "llama_model_loader: - tensor  245:           blk.27.ffn_down.weight q4_0     [ 13824,  5120,     1,     1 ]\n",
      "llama_model_loader: - tensor  246:           blk.27.ffn_gate.weight q4_0     [  5120, 13824,     1,     1 ]\n",
      "llama_model_loader: - tensor  247:             blk.27.ffn_up.weight q4_0     [  5120, 13824,     1,     1 ]\n",
      "llama_model_loader: - tensor  248:           blk.27.ffn_norm.weight f32      [  5120,     1,     1,     1 ]\n",
      "llama_model_loader: - tensor  249:             blk.27.attn_k.weight q4_0     [  5120,  5120,     1,     1 ]\n",
      "llama_model_loader: - tensor  250:        blk.27.attn_output.weight q4_0     [  5120,  5120,     1,     1 ]\n",
      "llama_model_loader: - tensor  251:             blk.27.attn_q.weight q4_0     [  5120,  5120,     1,     1 ]\n",
      "llama_model_loader: - tensor  252:             blk.27.attn_v.weight q4_0     [  5120,  5120,     1,     1 ]\n",
      "llama_model_loader: - tensor  253:          blk.28.attn_norm.weight f32      [  5120,     1,     1,     1 ]\n",
      "llama_model_loader: - tensor  254:           blk.28.ffn_down.weight q4_0     [ 13824,  5120,     1,     1 ]\n",
      "llama_model_loader: - tensor  255:           blk.28.ffn_gate.weight q4_0     [  5120, 13824,     1,     1 ]\n",
      "llama_model_loader: - tensor  256:             blk.28.ffn_up.weight q4_0     [  5120, 13824,     1,     1 ]\n",
      "llama_model_loader: - tensor  257:           blk.28.ffn_norm.weight f32      [  5120,     1,     1,     1 ]\n",
      "llama_model_loader: - tensor  258:             blk.28.attn_k.weight q4_0     [  5120,  5120,     1,     1 ]\n",
      "llama_model_loader: - tensor  259:        blk.28.attn_output.weight q4_0     [  5120,  5120,     1,     1 ]\n",
      "llama_model_loader: - tensor  260:             blk.28.attn_q.weight q4_0     [  5120,  5120,     1,     1 ]\n",
      "llama_model_loader: - tensor  261:             blk.28.attn_v.weight q4_0     [  5120,  5120,     1,     1 ]\n",
      "llama_model_loader: - tensor  262:          blk.29.attn_norm.weight f32      [  5120,     1,     1,     1 ]\n",
      "llama_model_loader: - tensor  263:           blk.29.ffn_down.weight q4_0     [ 13824,  5120,     1,     1 ]\n",
      "llama_model_loader: - tensor  264:           blk.29.ffn_gate.weight q4_0     [  5120, 13824,     1,     1 ]\n",
      "llama_model_loader: - tensor  265:             blk.29.ffn_up.weight q4_0     [  5120, 13824,     1,     1 ]\n",
      "llama_model_loader: - tensor  266:           blk.29.ffn_norm.weight f32      [  5120,     1,     1,     1 ]\n",
      "llama_model_loader: - tensor  267:             blk.29.attn_k.weight q4_0     [  5120,  5120,     1,     1 ]\n",
      "llama_model_loader: - tensor  268:        blk.29.attn_output.weight q4_0     [  5120,  5120,     1,     1 ]\n",
      "llama_model_loader: - tensor  269:             blk.29.attn_q.weight q4_0     [  5120,  5120,     1,     1 ]\n",
      "llama_model_loader: - tensor  270:             blk.29.attn_v.weight q4_0     [  5120,  5120,     1,     1 ]\n",
      "llama_model_loader: - tensor  271:           blk.30.ffn_gate.weight q4_0     [  5120, 13824,     1,     1 ]\n",
      "llama_model_loader: - tensor  272:             blk.30.ffn_up.weight q4_0     [  5120, 13824,     1,     1 ]\n",
      "llama_model_loader: - tensor  273:             blk.30.attn_k.weight q4_0     [  5120,  5120,     1,     1 ]\n",
      "llama_model_loader: - tensor  274:        blk.30.attn_output.weight q4_0     [  5120,  5120,     1,     1 ]\n",
      "llama_model_loader: - tensor  275:             blk.30.attn_q.weight q4_0     [  5120,  5120,     1,     1 ]\n",
      "llama_model_loader: - tensor  276:             blk.30.attn_v.weight q4_0     [  5120,  5120,     1,     1 ]\n",
      "llama_model_loader: - tensor  277:                    output.weight q6_K     [  5120, 32000,     1,     1 ]\n",
      "llama_model_loader: - tensor  278:          blk.30.attn_norm.weight f32      [  5120,     1,     1,     1 ]\n",
      "llama_model_loader: - tensor  279:           blk.30.ffn_down.weight q4_0     [ 13824,  5120,     1,     1 ]\n",
      "llama_model_loader: - tensor  280:           blk.30.ffn_norm.weight f32      [  5120,     1,     1,     1 ]\n",
      "llama_model_loader: - tensor  281:          blk.31.attn_norm.weight f32      [  5120,     1,     1,     1 ]\n",
      "llama_model_loader: - tensor  282:           blk.31.ffn_down.weight q4_0     [ 13824,  5120,     1,     1 ]\n",
      "llama_model_loader: - tensor  283:           blk.31.ffn_gate.weight q4_0     [  5120, 13824,     1,     1 ]\n",
      "llama_model_loader: - tensor  284:             blk.31.ffn_up.weight q4_0     [  5120, 13824,     1,     1 ]\n",
      "llama_model_loader: - tensor  285:           blk.31.ffn_norm.weight f32      [  5120,     1,     1,     1 ]\n",
      "llama_model_loader: - tensor  286:             blk.31.attn_k.weight q4_0     [  5120,  5120,     1,     1 ]\n",
      "llama_model_loader: - tensor  287:        blk.31.attn_output.weight q4_0     [  5120,  5120,     1,     1 ]\n",
      "llama_model_loader: - tensor  288:             blk.31.attn_q.weight q4_0     [  5120,  5120,     1,     1 ]\n",
      "llama_model_loader: - tensor  289:             blk.31.attn_v.weight q4_0     [  5120,  5120,     1,     1 ]\n",
      "llama_model_loader: - tensor  290:          blk.32.attn_norm.weight f32      [  5120,     1,     1,     1 ]\n",
      "llama_model_loader: - tensor  291:           blk.32.ffn_down.weight q4_0     [ 13824,  5120,     1,     1 ]\n",
      "llama_model_loader: - tensor  292:           blk.32.ffn_gate.weight q4_0     [  5120, 13824,     1,     1 ]\n",
      "llama_model_loader: - tensor  293:             blk.32.ffn_up.weight q4_0     [  5120, 13824,     1,     1 ]\n",
      "llama_model_loader: - tensor  294:           blk.32.ffn_norm.weight f32      [  5120,     1,     1,     1 ]\n",
      "llama_model_loader: - tensor  295:             blk.32.attn_k.weight q4_0     [  5120,  5120,     1,     1 ]\n",
      "llama_model_loader: - tensor  296:        blk.32.attn_output.weight q4_0     [  5120,  5120,     1,     1 ]\n",
      "llama_model_loader: - tensor  297:             blk.32.attn_q.weight q4_0     [  5120,  5120,     1,     1 ]\n",
      "llama_model_loader: - tensor  298:             blk.32.attn_v.weight q4_0     [  5120,  5120,     1,     1 ]\n",
      "llama_model_loader: - tensor  299:          blk.33.attn_norm.weight f32      [  5120,     1,     1,     1 ]\n",
      "llama_model_loader: - tensor  300:           blk.33.ffn_down.weight q4_0     [ 13824,  5120,     1,     1 ]\n",
      "llama_model_loader: - tensor  301:           blk.33.ffn_gate.weight q4_0     [  5120, 13824,     1,     1 ]\n",
      "llama_model_loader: - tensor  302:             blk.33.ffn_up.weight q4_0     [  5120, 13824,     1,     1 ]\n",
      "llama_model_loader: - tensor  303:           blk.33.ffn_norm.weight f32      [  5120,     1,     1,     1 ]\n",
      "llama_model_loader: - tensor  304:             blk.33.attn_k.weight q4_0     [  5120,  5120,     1,     1 ]\n",
      "llama_model_loader: - tensor  305:        blk.33.attn_output.weight q4_0     [  5120,  5120,     1,     1 ]\n",
      "llama_model_loader: - tensor  306:             blk.33.attn_q.weight q4_0     [  5120,  5120,     1,     1 ]\n",
      "llama_model_loader: - tensor  307:             blk.33.attn_v.weight q4_0     [  5120,  5120,     1,     1 ]\n",
      "llama_model_loader: - tensor  308:          blk.34.attn_norm.weight f32      [  5120,     1,     1,     1 ]\n",
      "llama_model_loader: - tensor  309:           blk.34.ffn_down.weight q4_0     [ 13824,  5120,     1,     1 ]\n",
      "llama_model_loader: - tensor  310:           blk.34.ffn_gate.weight q4_0     [  5120, 13824,     1,     1 ]\n",
      "llama_model_loader: - tensor  311:             blk.34.ffn_up.weight q4_0     [  5120, 13824,     1,     1 ]\n",
      "llama_model_loader: - tensor  312:           blk.34.ffn_norm.weight f32      [  5120,     1,     1,     1 ]\n",
      "llama_model_loader: - tensor  313:             blk.34.attn_k.weight q4_0     [  5120,  5120,     1,     1 ]\n",
      "llama_model_loader: - tensor  314:        blk.34.attn_output.weight q4_0     [  5120,  5120,     1,     1 ]\n",
      "llama_model_loader: - tensor  315:             blk.34.attn_q.weight q4_0     [  5120,  5120,     1,     1 ]\n",
      "llama_model_loader: - tensor  316:             blk.34.attn_v.weight q4_0     [  5120,  5120,     1,     1 ]\n",
      "llama_model_loader: - tensor  317:          blk.35.attn_norm.weight f32      [  5120,     1,     1,     1 ]\n",
      "llama_model_loader: - tensor  318:           blk.35.ffn_down.weight q4_0     [ 13824,  5120,     1,     1 ]\n",
      "llama_model_loader: - tensor  319:           blk.35.ffn_gate.weight q4_0     [  5120, 13824,     1,     1 ]\n",
      "llama_model_loader: - tensor  320:             blk.35.ffn_up.weight q4_0     [  5120, 13824,     1,     1 ]\n",
      "llama_model_loader: - tensor  321:           blk.35.ffn_norm.weight f32      [  5120,     1,     1,     1 ]\n",
      "llama_model_loader: - tensor  322:             blk.35.attn_k.weight q4_0     [  5120,  5120,     1,     1 ]\n",
      "llama_model_loader: - tensor  323:        blk.35.attn_output.weight q4_0     [  5120,  5120,     1,     1 ]\n",
      "llama_model_loader: - tensor  324:             blk.35.attn_q.weight q4_0     [  5120,  5120,     1,     1 ]\n",
      "llama_model_loader: - tensor  325:             blk.35.attn_v.weight q4_0     [  5120,  5120,     1,     1 ]\n",
      "llama_model_loader: - tensor  326:          blk.36.attn_norm.weight f32      [  5120,     1,     1,     1 ]\n",
      "llama_model_loader: - tensor  327:           blk.36.ffn_down.weight q4_0     [ 13824,  5120,     1,     1 ]\n",
      "llama_model_loader: - tensor  328:           blk.36.ffn_gate.weight q4_0     [  5120, 13824,     1,     1 ]\n",
      "llama_model_loader: - tensor  329:             blk.36.ffn_up.weight q4_0     [  5120, 13824,     1,     1 ]\n",
      "llama_model_loader: - tensor  330:           blk.36.ffn_norm.weight f32      [  5120,     1,     1,     1 ]\n",
      "llama_model_loader: - tensor  331:             blk.36.attn_k.weight q4_0     [  5120,  5120,     1,     1 ]\n",
      "llama_model_loader: - tensor  332:        blk.36.attn_output.weight q4_0     [  5120,  5120,     1,     1 ]\n",
      "llama_model_loader: - tensor  333:             blk.36.attn_q.weight q4_0     [  5120,  5120,     1,     1 ]\n",
      "llama_model_loader: - tensor  334:             blk.36.attn_v.weight q4_0     [  5120,  5120,     1,     1 ]\n",
      "llama_model_loader: - tensor  335:          blk.37.attn_norm.weight f32      [  5120,     1,     1,     1 ]\n",
      "llama_model_loader: - tensor  336:           blk.37.ffn_down.weight q4_0     [ 13824,  5120,     1,     1 ]\n",
      "llama_model_loader: - tensor  337:           blk.37.ffn_gate.weight q4_0     [  5120, 13824,     1,     1 ]\n",
      "llama_model_loader: - tensor  338:             blk.37.ffn_up.weight q4_0     [  5120, 13824,     1,     1 ]\n",
      "llama_model_loader: - tensor  339:           blk.37.ffn_norm.weight f32      [  5120,     1,     1,     1 ]\n",
      "llama_model_loader: - tensor  340:             blk.37.attn_k.weight q4_0     [  5120,  5120,     1,     1 ]\n",
      "llama_model_loader: - tensor  341:        blk.37.attn_output.weight q4_0     [  5120,  5120,     1,     1 ]\n",
      "llama_model_loader: - tensor  342:             blk.37.attn_q.weight q4_0     [  5120,  5120,     1,     1 ]\n",
      "llama_model_loader: - tensor  343:             blk.37.attn_v.weight q4_0     [  5120,  5120,     1,     1 ]\n",
      "llama_model_loader: - tensor  344:          blk.38.attn_norm.weight f32      [  5120,     1,     1,     1 ]\n",
      "llama_model_loader: - tensor  345:           blk.38.ffn_down.weight q4_0     [ 13824,  5120,     1,     1 ]\n",
      "llama_model_loader: - tensor  346:           blk.38.ffn_gate.weight q4_0     [  5120, 13824,     1,     1 ]\n",
      "llama_model_loader: - tensor  347:             blk.38.ffn_up.weight q4_0     [  5120, 13824,     1,     1 ]\n",
      "llama_model_loader: - tensor  348:           blk.38.ffn_norm.weight f32      [  5120,     1,     1,     1 ]\n",
      "llama_model_loader: - tensor  349:             blk.38.attn_k.weight q4_0     [  5120,  5120,     1,     1 ]\n",
      "llama_model_loader: - tensor  350:        blk.38.attn_output.weight q4_0     [  5120,  5120,     1,     1 ]\n",
      "llama_model_loader: - tensor  351:             blk.38.attn_q.weight q4_0     [  5120,  5120,     1,     1 ]\n",
      "llama_model_loader: - tensor  352:             blk.38.attn_v.weight q4_0     [  5120,  5120,     1,     1 ]\n",
      "llama_model_loader: - tensor  353:          blk.39.attn_norm.weight f32      [  5120,     1,     1,     1 ]\n",
      "llama_model_loader: - tensor  354:           blk.39.ffn_down.weight q4_0     [ 13824,  5120,     1,     1 ]\n",
      "llama_model_loader: - tensor  355:           blk.39.ffn_gate.weight q4_0     [  5120, 13824,     1,     1 ]\n",
      "llama_model_loader: - tensor  356:             blk.39.ffn_up.weight q4_0     [  5120, 13824,     1,     1 ]\n",
      "llama_model_loader: - tensor  357:           blk.39.ffn_norm.weight f32      [  5120,     1,     1,     1 ]\n",
      "llama_model_loader: - tensor  358:             blk.39.attn_k.weight q4_0     [  5120,  5120,     1,     1 ]\n",
      "llama_model_loader: - tensor  359:        blk.39.attn_output.weight q4_0     [  5120,  5120,     1,     1 ]\n",
      "llama_model_loader: - tensor  360:             blk.39.attn_q.weight q4_0     [  5120,  5120,     1,     1 ]\n",
      "llama_model_loader: - tensor  361:             blk.39.attn_v.weight q4_0     [  5120,  5120,     1,     1 ]\n",
      "llama_model_loader: - tensor  362:               output_norm.weight f32      [  5120,     1,     1,     1 ]\n",
      "llama_model_loader: - kv   0:                       general.architecture str     \n",
      "llama_model_loader: - kv   1:                               general.name str     \n",
      "llama_model_loader: - kv   2:                       llama.context_length u32     \n",
      "llama_model_loader: - kv   3:                     llama.embedding_length u32     \n",
      "llama_model_loader: - kv   4:                          llama.block_count u32     \n",
      "llama_model_loader: - kv   5:                  llama.feed_forward_length u32     \n",
      "llama_model_loader: - kv   6:                 llama.rope.dimension_count u32     \n",
      "llama_model_loader: - kv   7:                 llama.attention.head_count u32     \n",
      "llama_model_loader: - kv   8:              llama.attention.head_count_kv u32     \n",
      "llama_model_loader: - kv   9:     llama.attention.layer_norm_rms_epsilon f32     \n",
      "llama_model_loader: - kv  10:                          general.file_type u32     \n",
      "llama_model_loader: - kv  11:                       tokenizer.ggml.model str     \n",
      "llama_model_loader: - kv  12:                      tokenizer.ggml.tokens arr     \n",
      "llama_model_loader: - kv  13:                      tokenizer.ggml.scores arr     \n",
      "llama_model_loader: - kv  14:                  tokenizer.ggml.token_type arr     \n",
      "llama_model_loader: - kv  15:                tokenizer.ggml.bos_token_id u32     \n",
      "llama_model_loader: - kv  16:                tokenizer.ggml.eos_token_id u32     \n",
      "llama_model_loader: - kv  17:            tokenizer.ggml.unknown_token_id u32     \n",
      "llama_model_loader: - kv  18:               general.quantization_version u32     \n",
      "llama_model_loader: - type  f32:   81 tensors\n",
      "llama_model_loader: - type q4_0:  281 tensors\n",
      "llama_model_loader: - type q6_K:    1 tensors\n",
      "llm_load_vocab: special tokens definition check successful ( 259/32000 ).\n",
      "llm_load_print_meta: format           = GGUF V2\n",
      "llm_load_print_meta: arch             = llama\n",
      "llm_load_print_meta: vocab type       = SPM\n",
      "llm_load_print_meta: n_vocab          = 32000\n",
      "llm_load_print_meta: n_merges         = 0\n",
      "llm_load_print_meta: n_ctx_train      = 4096\n",
      "llm_load_print_meta: n_embd           = 5120\n",
      "llm_load_print_meta: n_head           = 40\n",
      "llm_load_print_meta: n_head_kv        = 40\n",
      "llm_load_print_meta: n_layer          = 40\n",
      "llm_load_print_meta: n_rot            = 128\n",
      "llm_load_print_meta: n_gqa            = 1\n",
      "llm_load_print_meta: f_norm_eps       = 0.0e+00\n",
      "llm_load_print_meta: f_norm_rms_eps   = 1.0e-05\n",
      "llm_load_print_meta: f_clamp_kqv      = 0.0e+00\n",
      "llm_load_print_meta: f_max_alibi_bias = 0.0e+00\n",
      "llm_load_print_meta: n_ff             = 13824\n",
      "llm_load_print_meta: rope scaling     = linear\n",
      "llm_load_print_meta: freq_base_train  = 10000.0\n",
      "llm_load_print_meta: freq_scale_train = 1\n",
      "llm_load_print_meta: n_yarn_orig_ctx  = 4096\n",
      "llm_load_print_meta: rope_finetuned   = unknown\n",
      "llm_load_print_meta: model type       = 13B\n",
      "llm_load_print_meta: model ftype      = mostly Q4_0\n",
      "llm_load_print_meta: model params     = 13.02 B\n",
      "llm_load_print_meta: model size       = 6.86 GiB (4.53 BPW) \n",
      "llm_load_print_meta: general.name   = LLaMA v2\n",
      "llm_load_print_meta: BOS token = 1 '<s>'\n",
      "llm_load_print_meta: EOS token = 2 '</s>'\n",
      "llm_load_print_meta: UNK token = 0 '<unk>'\n",
      "llm_load_print_meta: LF token  = 13 '<0x0A>'\n",
      "llm_load_tensors: ggml ctx size =    0.13 MB\n",
      "llm_load_tensors: mem required  = 7024.03 MB\n",
      "...................................................................................................\n",
      "llama_new_context_with_model: n_ctx      = 3900\n",
      "llama_new_context_with_model: freq_base  = 10000.0\n",
      "llama_new_context_with_model: freq_scale = 1\n",
      "llama_new_context_with_model: kv self size  = 3046.88 MB\n",
      "llama_build_graph: non-view tensors processed: 924/924\n",
      "ggml_metal_init: allocating\n",
      "ggml_metal_init: found device: Apple M1 Pro\n",
      "ggml_metal_init: picking default device: Apple M1 Pro\n",
      "ggml_metal_init: default.metallib not found, loading from source\n",
      "ggml_metal_init: loading '/Users/richy/.pyenv/versions/3.8.10/envs/llm/lib/python3.8/site-packages/llama_cpp/ggml-metal.metal'\n",
      "ggml_metal_init: GPU name:   Apple M1 Pro\n",
      "ggml_metal_init: GPU family: MTLGPUFamilyApple7 (1007)\n",
      "ggml_metal_init: hasUnifiedMemory              = true\n",
      "ggml_metal_init: recommendedMaxWorkingSetSize  = 10922.67 MB\n",
      "ggml_metal_init: maxTransferRate               = built-in GPU\n",
      "llama_new_context_with_model: compute buffer total size = 348.93 MB\n",
      "llama_new_context_with_model: max tensor size =   128.17 MB\n",
      "ggml_metal_add_buffer: allocated 'data            ' buffer, size =  7024.61 MB, ( 8081.25 / 10922.67)\n",
      "ggml_metal_add_buffer: allocated 'kv              ' buffer, size =  3046.89 MB, (11128.14 / 10922.67), warning: current allocated size is greater than the recommended max working set size\n",
      "ggml_metal_add_buffer: allocated 'alloc           ' buffer, size =   342.31 MB, (11470.45 / 10922.67), warning: current allocated size is greater than the recommended max working set size\n",
      "AVX = 0 | AVX2 = 0 | AVX512 = 0 | AVX512_VBMI = 0 | AVX512_VNNI = 0 | FMA = 0 | NEON = 1 | ARM_FMA = 1 | F16C = 0 | FP16_VA = 1 | WASM_SIMD = 0 | BLAS = 1 | SSE3 = 0 | SSSE3 = 0 | VSX = 0 | \n"
     ]
    }
   ],
   "source": [
    "from llama_index.llms import LlamaCPP\n",
    "\n",
    "# model_url = \"https://huggingface.co/TheBloke/Llama-2-13B-chat-GGML/resolve/main/llama-2-13b-chat.ggmlv3.q4_0.bin\"\n",
    "model_url = \"https://huggingface.co/TheBloke/Llama-2-13B-chat-GGUF/resolve/main/llama-2-13b-chat.Q4_0.gguf\"\n",
    "\n",
    "llm = LlamaCPP(\n",
    "    # You can pass in the URL to a GGML model to download it automatically\n",
    "    model_url=model_url,\n",
    "    # optionally, you can set the path to a pre-downloaded model instead of model_url\n",
    "    model_path=None,\n",
    "    temperature=0.1,\n",
    "    max_new_tokens=256,\n",
    "    # llama2 has a context window of 4096 tokens, but we set it lower to allow for some wiggle room\n",
    "    context_window=3900,\n",
    "    # kwargs to pass to __call__()\n",
    "    generate_kwargs={},\n",
    "    # kwargs to pass to __init__()\n",
    "    # set to at least 1 to use GPU\n",
    "    model_kwargs={\"n_gpu_layers\": 1},\n",
    "    verbose=True,\n",
    ")"
   ]
  },
  {
   "cell_type": "markdown",
   "id": "3273ff8e-7b9a-427a-ad1d-aa3099e9d9b8",
   "metadata": {
    "id": "3273ff8e-7b9a-427a-ad1d-aa3099e9d9b8"
   },
   "source": [
    "#### Define Service Context"
   ]
  },
  {
   "cell_type": "code",
   "execution_count": 3,
   "id": "1746a171-5b20-4853-8574-71f1547bce30",
   "metadata": {
    "id": "1746a171-5b20-4853-8574-71f1547bce30"
   },
   "outputs": [],
   "source": [
    "from llama_index import ServiceContext\n",
    "\n",
    "service_context = ServiceContext.from_defaults(\n",
    "    llm=llm, embed_model=embed_model\n",
    ")"
   ]
  },
  {
   "cell_type": "markdown",
   "id": "ba02cfe2-8b51-4e01-a840-d6508c76ade3",
   "metadata": {
    "id": "ba02cfe2-8b51-4e01-a840-d6508c76ade3"
   },
   "source": [
    "#### Initialize Postgres\n",
    "\n",
    "Using an existing postgres running at localhost, create the database we'll be using.\n",
    "\n",
    "**NOTE**: Of course there are plenty of other open-source/self-hosted databases you can use! e.g. Chroma, Qdrant, Weaviate, and many more. Take a look at our [vector store guide](https://gpt-index.readthedocs.io/en/stable/core_modules/data_modules/storage/vector_stores.html).\n",
    "\n",
    "**NOTE**: You will need to setup postgres on your local system. Here's an example of how to set it up on OSX: https://www.sqlshack.com/setting-up-a-postgresql-database-on-mac/.\n",
    "\n",
    "**NOTE**: You will also need to install pgvector (https://github.com/pgvector/pgvector).\n",
    "\n",
    "You can add a role like the following:\n",
    "```\n",
    "CREATE ROLE <user> WITH LOGIN PASSWORD '<password>';\n",
    "ALTER ROLE <user> SUPERUSER;\n",
    "```"
   ]
  },
  {
   "cell_type": "code",
   "execution_count": 4,
   "id": "8e730f40-5aa4-4e89-b4ff-26d84183dfed",
   "metadata": {
    "id": "8e730f40-5aa4-4e89-b4ff-26d84183dfed"
   },
   "outputs": [],
   "source": [
    "import psycopg2\n",
    "\n",
    "db_name = \"vector_db\"\n",
    "host = \"localhost\"\n",
    "password = \"123\"\n",
    "port = \"5432\"\n",
    "user = \"richyc\"\n",
    "# conn = psycopg2.connect(connection_string)\n",
    "conn = psycopg2.connect(\n",
    "    dbname=\"postgres\",\n",
    "    host=host,\n",
    "    password=password,\n",
    "    port=port,\n",
    "    user=user,\n",
    ")\n",
    "conn.autocommit = True\n",
    "\n",
    "with conn.cursor() as c:\n",
    "    c.execute(f\"DROP DATABASE IF EXISTS {db_name}\")\n",
    "    c.execute(f\"CREATE DATABASE {db_name}\")"
   ]
  },
  {
   "cell_type": "code",
   "execution_count": 5,
   "id": "6ba2d25a-a0aa-4d11-93b0-6288dc008148",
   "metadata": {
    "id": "6ba2d25a-a0aa-4d11-93b0-6288dc008148"
   },
   "outputs": [],
   "source": [
    "from sqlalchemy import make_url\n",
    "from llama_index.vector_stores import PGVectorStore\n",
    "\n",
    "vector_store = PGVectorStore.from_params(\n",
    "    database=db_name,\n",
    "    host=host,\n",
    "    password=password,\n",
    "    port=port,\n",
    "    user=user,\n",
    "    table_name=\"llama2_paper\",\n",
    "    embed_dim=384,  # openai embedding dimension\n",
    ")"
   ]
  },
  {
   "cell_type": "markdown",
   "id": "e65e0a69-0668-4df4-a809-71f38695cfea",
   "metadata": {
    "id": "e65e0a69-0668-4df4-a809-71f38695cfea"
   },
   "source": [
    "## Build an Ingestion Pipeline from Scratch\n",
    "\n",
    "We show how to build an ingestion pipeline as mentioned in the introduction.\n",
    "\n",
    "We fast-track the steps here (can skip metadata extraction). More details can be found [in our dedicated ingestion guide](https://gpt-index.readthedocs.io/en/latest/examples/low_level/ingestion.html)."
   ]
  },
  {
   "cell_type": "markdown",
   "id": "48febfa0-6a5a-44c9-900e-4316c35d8e81",
   "metadata": {
    "id": "48febfa0-6a5a-44c9-900e-4316c35d8e81"
   },
   "source": [
    "### 1. Load Data"
   ]
  },
  {
   "cell_type": "code",
   "execution_count": 48,
   "id": "c99ea359-6bc8-4489-a595-a6278503d91d",
   "metadata": {},
   "outputs": [
    {
     "name": "stderr",
     "output_type": "stream",
     "text": [
      "huggingface/tokenizers: The current process just got forked, after parallelism has already been used. Disabling parallelism to avoid deadlocks...\n",
      "To disable this warning, you can either:\n",
      "\t- Avoid using `tokenizers` before the fork if possible\n",
      "\t- Explicitly set the environment variable TOKENIZERS_PARALLELISM=(true | false)\n"
     ]
    },
    {
     "name": "stdout",
     "output_type": "stream",
     "text": [
      "Requirement already satisfied: nest_asyncio in /Users/richy/.pyenv/versions/3.8.10/envs/llm/lib/python3.8/site-packages (1.5.8)\n"
     ]
    }
   ],
   "source": [
    "!pip install nest_asyncio"
   ]
  },
  {
   "cell_type": "code",
   "execution_count": 49,
   "id": "640fcc02-0d50-4443-b8c7-f3953e006461",
   "metadata": {
    "id": "640fcc02-0d50-4443-b8c7-f3953e006461"
   },
   "outputs": [],
   "source": [
    "from llama_index import download_loader\n",
    "import nest_asyncio\n",
    "nest_asyncio.apply()\n",
    "\n",
    "AsyncWebPageReader = download_loader(\"AsyncWebPageReader\")"
   ]
  },
  {
   "cell_type": "code",
   "execution_count": 50,
   "id": "d9c64ce4-b778-4f3b-bc7e-266e0e124308",
   "metadata": {
    "id": "d9c64ce4-b778-4f3b-bc7e-266e0e124308"
   },
   "outputs": [],
   "source": [
    "loader = AsyncWebPageReader()\n",
    "documents = loader.load_data(urls=['https://insurify.com/car-insurance'])"
   ]
  },
  {
   "cell_type": "markdown",
   "id": "9c001b7c-3e79-4d11-bd0e-dc774da25de1",
   "metadata": {
    "id": "9c001b7c-3e79-4d11-bd0e-dc774da25de1"
   },
   "source": [
    "### 2. Use a Text Splitter to Split Documents"
   ]
  },
  {
   "cell_type": "code",
   "execution_count": 51,
   "id": "c8125e1e-097a-4588-a65a-102dba5b8eff",
   "metadata": {
    "id": "c8125e1e-097a-4588-a65a-102dba5b8eff"
   },
   "outputs": [],
   "source": [
    "from llama_index.text_splitter import SentenceSplitter"
   ]
  },
  {
   "cell_type": "code",
   "execution_count": 52,
   "id": "f2519370-c907-4c46-9afb-a1295f69dbb0",
   "metadata": {
    "id": "f2519370-c907-4c46-9afb-a1295f69dbb0"
   },
   "outputs": [],
   "source": [
    "text_splitter = SentenceSplitter(\n",
    "    chunk_size=1024,\n",
    "    # separator=\" \",\n",
    ")"
   ]
  },
  {
   "cell_type": "code",
   "execution_count": 53,
   "id": "972b4008-eb9f-48e6-95c8-1328e231f98b",
   "metadata": {
    "id": "972b4008-eb9f-48e6-95c8-1328e231f98b"
   },
   "outputs": [],
   "source": [
    "text_chunks = []\n",
    "# maintain relationship with source doc index, to help inject doc metadata in (3)\n",
    "doc_idxs = []\n",
    "for doc_idx, doc in enumerate(documents):\n",
    "    cur_text_chunks = text_splitter.split_text(doc.text)\n",
    "    text_chunks.extend(cur_text_chunks)\n",
    "    doc_idxs.extend([doc_idx] * len(cur_text_chunks))"
   ]
  },
  {
   "cell_type": "markdown",
   "id": "5aaae403-d46e-450b-b19f-27ca66e28f1c",
   "metadata": {
    "id": "5aaae403-d46e-450b-b19f-27ca66e28f1c"
   },
   "source": [
    "### 3. Manually Construct Nodes from Text Chunks"
   ]
  },
  {
   "cell_type": "code",
   "execution_count": 54,
   "id": "ee261129-0f56-4672-9804-a38ea05244cb",
   "metadata": {
    "id": "ee261129-0f56-4672-9804-a38ea05244cb"
   },
   "outputs": [],
   "source": [
    "from llama_index.schema import TextNode\n",
    "\n",
    "nodes = []\n",
    "for idx, text_chunk in enumerate(text_chunks):\n",
    "    node = TextNode(\n",
    "        text=text_chunk,\n",
    "    )\n",
    "    src_doc = documents[doc_idxs[idx]]\n",
    "    node.metadata = src_doc.metadata\n",
    "    nodes.append(node)"
   ]
  },
  {
   "cell_type": "markdown",
   "id": "65eac30b-27ec-4206-947c-81104dc8babe",
   "metadata": {
    "id": "65eac30b-27ec-4206-947c-81104dc8babe"
   },
   "source": [
    "### 4. Generate Embeddings for each Node\n",
    "\n",
    "Here we generate embeddings for each Node using a sentence_transformers model."
   ]
  },
  {
   "cell_type": "code",
   "execution_count": 56,
   "id": "82ef7573-a608-420d-91ab-9fbf17af3e9d",
   "metadata": {
    "id": "82ef7573-a608-420d-91ab-9fbf17af3e9d"
   },
   "outputs": [],
   "source": [
    "for node in nodes:\n",
    "    node_embedding = embed_model.get_text_embedding(\n",
    "        node.get_content(metadata_mode=\"all\")\n",
    "    )\n",
    "    node.embedding = node_embedding"
   ]
  },
  {
   "cell_type": "markdown",
   "id": "e7fe354a-4f87-4b13-aae4-f7b7b1fe118e",
   "metadata": {
    "id": "e7fe354a-4f87-4b13-aae4-f7b7b1fe118e"
   },
   "source": [
    "### 5. Load Nodes into a Vector Store\n",
    "\n",
    "We now insert these nodes into our `PostgresVectorStore`.\n",
    "\n",
    "Note: if vector extension does not exist, run `brew install pgvector` and then `CREATE EXTENSION IF NOT EXISTS vector` in postgres."
   ]
  },
  {
   "cell_type": "code",
   "execution_count": 58,
   "id": "44add008-616b-4e47-8f61-553befeb7ca4",
   "metadata": {
    "id": "44add008-616b-4e47-8f61-553befeb7ca4"
   },
   "outputs": [
    {
     "data": {
      "text/plain": [
       "['e8c08e31-5187-4461-9d4e-6b970a53a71d',\n",
       " 'd58d16c0-7605-4f00-8a24-4f91bface950',\n",
       " 'a5a324a7-500c-4b52-bbfb-ee8e60d4dbde',\n",
       " '3a35a8df-a52d-4980-b795-cbb81f31abd9',\n",
       " '6067a3ba-4593-4646-add5-62a1f1fcef66',\n",
       " '89fb8010-22b7-409a-b4bb-c91f2eb53e67',\n",
       " '5534ef42-dfb6-47e4-b431-cf5f9b5d3673',\n",
       " '56127eda-fdc5-41f0-9204-3c433d5d17a4',\n",
       " 'c9a82010-ed24-4024-8d67-e6286456d184',\n",
       " 'a45fcf0f-b94a-44c1-bd85-b39c5e3f2836',\n",
       " '0dbe7820-5b67-40c8-9638-4eff5dd09602',\n",
       " 'fcd9a921-417e-43b6-97fa-e658db15affc',\n",
       " '89dfed1e-eb21-4495-b106-3ad56044cdc0',\n",
       " '084076db-1f78-43b8-8c57-cbd7eb831e65',\n",
       " '4f02d385-1c6e-45c9-b316-099b5336381b',\n",
       " '894fc7d6-28be-426a-88eb-545a98b2bf2c',\n",
       " '7cb16d40-d5b9-4811-add4-3d3a79efcb26',\n",
       " '6a877829-bc9e-48bf-8d18-62a101efec0d',\n",
       " '9dbc98c4-0f7e-44d1-9fdb-dbb48435a063',\n",
       " '5a99ddb5-6e09-4ba8-916d-24d33e62705f',\n",
       " '63365753-a662-40df-97a0-d6fc901fdd04',\n",
       " 'b8cc01d6-230e-4680-bceb-2addcd30a887',\n",
       " 'e195f3b4-4a85-440e-bda4-f3cd91f7ccaf',\n",
       " '3920387d-6613-44c3-821b-d98d0ac9cc2b',\n",
       " 'b198cc35-a08e-4d8e-9833-929df6b84aba',\n",
       " '231866ba-109a-4957-8d59-0e6d5d708ffc',\n",
       " 'f0703d32-819a-4fa7-a0ae-8e29780e9d2c',\n",
       " 'ec310003-b1c4-45d6-8e02-aacad8b76329',\n",
       " '3fd7ee56-1899-475a-aca9-bb6df5d24908',\n",
       " '804dd6e1-a2a9-465a-866f-7e5ff8add490',\n",
       " '7e5f5cad-99d9-45aa-9564-e2d9b2a1bd0b',\n",
       " '9f7afa6e-9fbf-4c26-b08b-c0c6b50e0c57',\n",
       " '26522e15-d0b8-45c2-a7ca-d2839242244d',\n",
       " 'a6afa1fe-6e57-41ed-98f7-458fe62b4b7f',\n",
       " '76bc0e12-b0c2-438d-ad35-2cbebe271411',\n",
       " '0cf4167c-8f21-4eb1-ab32-ca58115850be',\n",
       " 'e5e9ad43-3d8f-4c84-99dd-611015cb6906',\n",
       " 'dbbe83fc-9717-4a03-ae8f-dd33fc7b38c2',\n",
       " '3d469a55-f964-4dd9-abf9-98dbf7eab105',\n",
       " '159d8429-6702-4df1-b806-6d3da206ef8d',\n",
       " '024b75eb-b4e0-4c34-90cf-ff5f4c72f1ce',\n",
       " 'a62040dc-063c-454a-87b5-064f0201b57b',\n",
       " 'cdbd93aa-1664-4614-a150-66b14e521580',\n",
       " 'f2d1e56a-d8d4-4239-9e2e-fdb0aee4dc1a',\n",
       " '91d99f46-b937-48e4-94f6-cbfa78666d70',\n",
       " '81fdeb43-7a99-455f-97e4-02970fd2d928',\n",
       " '2520f986-cd57-4e3a-9f39-ce5ce6954e4d',\n",
       " 'e3310d74-72bc-4b24-9c8b-971ad45cb35a',\n",
       " 'a7cc0275-9aa7-4423-aaf7-0dc72b48e1b2',\n",
       " 'eaa4b306-d672-4191-b49b-3cbccdd9930b',\n",
       " '993aaad8-5d90-49ec-b319-f97fb4a2252b',\n",
       " 'ec36aa96-b801-4018-a21a-79bd120f6755',\n",
       " '74da0e5b-158c-40ec-a6da-021924d1a2ac',\n",
       " 'd866534a-fb1a-43a1-abdc-10b9a8ec2df5',\n",
       " 'dba59810-68f2-4071-bf22-1d0ccdf16c6a',\n",
       " '76570926-4183-44bc-8595-1f810058fcd9',\n",
       " 'e28a97c3-9982-435c-8d82-af57f2edfc9f',\n",
       " '7b70334e-7b40-4f46-b477-34c8c75ac2d4',\n",
       " '579cb0d7-e106-4076-8f14-893e4a22505a',\n",
       " '8d2a6464-b1bc-4dd3-9d56-dc3ea0871372',\n",
       " '16de5ee9-4c53-4711-8c6e-28b963e161f9',\n",
       " '2dc5bd28-65ac-4f10-be2a-51655fcfb0de',\n",
       " 'fed48d6f-58c0-4c59-864d-7bc196d4dd6f',\n",
       " '1b253301-87bd-4fa0-b084-517a2954ac72',\n",
       " 'db1c2b21-15f7-46f1-abdd-2fc9dd194ec9',\n",
       " '46cab751-54ad-4294-92e4-8e10674d39cb',\n",
       " '63c582b3-aa41-40cf-bddb-e3061da6a896',\n",
       " 'f78c5eb4-bd97-4136-8fd0-4ecd0f7d7683',\n",
       " 'd7bbe1cd-b2d2-465a-9124-228063d82590',\n",
       " '370bc777-994c-423f-b074-49692920127a',\n",
       " '0595d7a7-35f7-4678-bd75-5456c8104e44',\n",
       " 'b27d530b-5088-4589-bf6e-754fcf80609c',\n",
       " '743b3634-e5b0-43c8-822e-4655c281033c',\n",
       " '5e8e561f-5190-404e-be2d-1d75dc09ec1f',\n",
       " '491d5b58-1963-474f-b9c3-f7f2f95e8cc0',\n",
       " '9a720920-9fa0-4213-a87b-6708fd23fa5f',\n",
       " 'bcc5711e-30ba-422a-b71d-f4d6eb939934',\n",
       " '774443ee-9002-4985-9ecf-7a7bdcec1998',\n",
       " 'f606437d-ae21-4957-a811-2f219a03118a',\n",
       " 'd8295904-933c-46e4-b1a1-fb64e6821942',\n",
       " '03e1a52e-2efd-42cc-b7a6-23a669554f18',\n",
       " '35b9a2f0-7aad-4d7a-ad5e-5c2418ea7b0a',\n",
       " '3cd3f3ea-ad7b-4426-885b-0a420d47fa4e',\n",
       " 'a3fcb926-3fda-4844-b63d-2cc1f2ce5f15',\n",
       " 'efb29363-e714-4954-9bff-01147f80a2fb',\n",
       " 'fdc61be8-917e-4eea-b13f-33a26283631d',\n",
       " '689eaa1d-12c6-40af-9fc3-48caf3ab64f7',\n",
       " '018f9f09-af05-49d9-b4cc-2718d724b2f2',\n",
       " '0bfab617-04ff-4c1f-b90a-a1d2ce0b09c9',\n",
       " 'c4143d8c-a167-4c13-a8d5-0cc72be85a55',\n",
       " 'be4f9613-3908-480a-9a84-cec507e88bd2',\n",
       " 'b4a2c1da-f19d-4cca-874d-133a2a110c04',\n",
       " 'a671982b-3364-4acf-82dd-7284886cfbda',\n",
       " '4e70a2f0-33ed-43f0-8863-2872a7fc090b',\n",
       " '0565a058-1642-4935-954c-16e17c99f30e',\n",
       " '8a0445db-3f65-492e-bc07-01f95af8c6c9',\n",
       " 'ce9e389f-4c84-4dd4-a9f6-739338dc0bff',\n",
       " '89cbf69a-3246-435b-83b4-37c7bdac4fcf',\n",
       " '8dc3c7c5-0c43-4f5f-86aa-cdc0a462fdf9',\n",
       " '3bf3d1be-9406-4473-9b5d-d25efb757750',\n",
       " 'c225e83a-3ff0-4175-9020-954cc4c5da93',\n",
       " '97f7403e-d258-469e-85cf-e149bff3e5f4',\n",
       " 'b4bfe7c0-2240-46a6-b1be-1a000e5f77f8',\n",
       " '834ca238-3fc2-4158-93bd-35bbf3e355bb',\n",
       " '487250ef-6507-4779-92be-ba5fb945d5e2',\n",
       " '86d51d07-7c53-4ee7-bc10-6d412f6e15fa',\n",
       " '2fae6a2c-9f4b-494e-bd54-28b9640c8e9e',\n",
       " '17b63d71-0723-4d23-b831-87939a49af93',\n",
       " '69c80662-70f6-4741-9dda-06181a28777c',\n",
       " '4f12ac5d-c098-49f5-aa3c-549b23eeda6d',\n",
       " 'bb25798b-8afb-4a87-8391-e9d85ad540c4',\n",
       " '2fc2d90f-b727-44b6-b0e1-340b945db502',\n",
       " '3c7cb566-a2c7-4f34-b101-75962fa7b08c',\n",
       " '1362c1c0-5a40-4858-8bae-1521ae181897',\n",
       " 'ea21657c-7ce5-4ec9-b5f3-03a0fbe23e1c',\n",
       " '09733c26-8a9b-44db-ba10-b0f1164c4002',\n",
       " '24e3b791-841c-4300-b6c8-8fd760ed5aa8',\n",
       " '58a63192-cec1-4079-ab42-25d06abadae4',\n",
       " '7216f4ed-cc98-49ef-a0cc-f3efbd3e796d',\n",
       " '4970dab9-6337-4e0b-92c1-e8e62b53effe',\n",
       " '6641eb6a-e15d-4fcc-9110-765889c6cd18',\n",
       " 'b51776d2-baf2-49f0-aa1e-147e3a8439e7',\n",
       " 'dfbecc86-7824-4873-8bdc-a673f85ed8a2',\n",
       " '41f33e14-586e-4be2-8a86-0630aee2c656',\n",
       " 'ea92cb5b-fd83-4cbe-95f8-25646fefce1e',\n",
       " '511c5dec-8ee0-4c5e-9d66-c0cc8bc9fec6',\n",
       " '6459526a-79ea-4086-8c64-7590bf60c579',\n",
       " 'fad3155b-eb9f-43a3-92a8-dc038886075a',\n",
       " '0ef125a0-d7af-48e9-b2b3-cf0bfcd1ecbd',\n",
       " 'af71acd4-98a6-402f-9f62-e7e5f8bb35d4',\n",
       " '0ea28def-97a4-463f-b849-168e1a2d1458',\n",
       " '0e7a3585-7d32-40fc-9182-754d4c1f371e',\n",
       " '17a575c3-a228-41f9-a786-05f6463ede69',\n",
       " '66917e7e-18a0-4531-a906-493989352b7e',\n",
       " '08972f0f-4152-440c-b679-8c1211bbd263',\n",
       " 'c58cceff-7c35-4068-906e-ee2caeb83d27',\n",
       " '6bf7cc83-c2a4-4410-b3fd-c1df17b3f463',\n",
       " '88c9d709-6e08-4686-aad8-af27a6e8794b',\n",
       " 'fe935c5a-d83a-4bef-941e-46b2bbe7fc9c',\n",
       " '8ecac36f-945a-417e-b002-2239c0f92b37',\n",
       " '31295fbb-c074-4421-9e47-115facf26b0c',\n",
       " '4b82b756-4bf4-486b-b9eb-877809bd0f2c',\n",
       " '88d912e8-ed8f-43b5-aa79-7fd53e520f1a',\n",
       " '457629e3-cad9-40e8-a74b-9b6f1c6ada12',\n",
       " '5e3ff4fe-a6f9-4bec-91f3-a0dc37a4f96d',\n",
       " '67ff3707-efac-4532-b3fe-7840265673d8',\n",
       " 'ea92f273-4014-4d99-baf2-92e6f0da7981',\n",
       " 'c711a5aa-51e6-4037-811c-bea5d9114f42',\n",
       " 'bfe90129-3bf5-43c5-983d-0457ed33ba23',\n",
       " 'b25be783-e1aa-40fa-860a-d89d7bcf2bd0',\n",
       " 'd4a1890e-40b8-40a9-be4a-b7260bd024ed',\n",
       " 'b17ad2b6-c47e-402c-b363-7c95b2b40df6',\n",
       " '71cbce59-ec12-47de-ae96-2cf388c615e1',\n",
       " '3f0793f5-7021-4fdc-87a1-c082b995d636',\n",
       " 'b51cbb59-5fa3-450a-9a94-2443277387f0',\n",
       " 'db537cc8-b468-449e-b019-bc5f54188a47',\n",
       " '1890c78a-8be7-4399-88a5-3d35ae817bc3',\n",
       " 'a9cde578-4f57-415e-8b99-628e88f484bc',\n",
       " 'ebb71e59-1e1f-4a32-a89a-14b4c67fff52',\n",
       " '3422d78f-751a-47ba-8c9d-5d96eb499280',\n",
       " '1f76182e-1103-42a7-938c-4aaaeb0c5a2b',\n",
       " '52606031-bba5-40a9-b3d9-b6656aff72bd',\n",
       " '6703d600-a97d-4645-b6ee-2d51412bf862',\n",
       " '79d326ea-d29c-4159-906a-5792a3523484',\n",
       " '396207cb-b5ed-476b-a42e-263fd45e083c',\n",
       " 'fb3c51ae-5aa2-4c60-858e-cfc104a2ead7',\n",
       " 'dc6e6122-792d-4b24-b8cc-c30b135c4b30',\n",
       " 'd97fb9af-0043-413f-9e2d-a50159e3e773',\n",
       " 'e70e881c-4398-4506-97bb-bfd4227eabd8',\n",
       " 'c30e0c43-156c-407d-9053-8cdf5f002b4a',\n",
       " '444bb592-44d5-4ccb-a53e-9128265dedc3',\n",
       " 'b06b3649-bb7e-4778-8711-212982d0f6f1',\n",
       " 'd4c8346c-70b7-499e-b0aa-e1d66a341aee',\n",
       " '02e9bd77-4139-4020-bb72-6c8ff4587b9e',\n",
       " 'd7010165-0b60-49bf-b634-4aee892ec972',\n",
       " 'd2cf8a7d-7949-45ae-8e77-b956c1b3c2df',\n",
       " 'c899448f-88c1-48a2-b535-a536ebee35bc',\n",
       " '9a1fd088-5e42-43ec-8ed5-3f8a87aadde5',\n",
       " 'a3084faa-0214-4fb8-9d08-b8a19ddc15be',\n",
       " '6b1b4bf9-a89b-4005-8d41-2d0e0bf539c7',\n",
       " 'c6589e7f-d3ad-4a5e-81c5-4d9a8427d45f',\n",
       " '9c00dc7d-7382-4993-8f77-12edf637f6e8',\n",
       " '9b134f94-9e3a-425f-8971-1848a6ab1167',\n",
       " 'b4df3a42-f99c-44b2-baef-4401d0464498',\n",
       " '0dd1eb9e-b9f5-45d6-8942-a91d287ae70f',\n",
       " '5a9ce5b2-2634-49eb-ae96-f5cdc4f28478',\n",
       " '62ce54ef-7fbd-4944-a28c-96fc06280996',\n",
       " '18525573-1ce5-40ee-bc63-ad90d07c1627',\n",
       " 'f752dfad-a3b1-4d05-90ef-62597519d7ab',\n",
       " 'cae0a62a-53f1-463e-a863-06b81baf16b3',\n",
       " '75f89269-9c7f-47f4-961f-c40e052dbf28',\n",
       " '5ff70357-4452-4000-9a90-bf72e0c882b6',\n",
       " '11ce4c88-f3d2-4980-a6fd-8ae7fc6652cd',\n",
       " '452f13c6-493d-458a-9859-48a31f45eb70',\n",
       " '59811a8e-1ab9-4a48-ab4e-ffed7e4d396c',\n",
       " 'c0a082a1-320a-434d-8287-2d7e1dc83e39',\n",
       " '26c6fa38-73a9-4e3d-92d8-762c1c11ff6c',\n",
       " '37aca3b1-5e5f-4283-9547-108e6a6e7286',\n",
       " '33a3c5a6-e886-496c-bf97-bb029ac7b71c',\n",
       " '65c7e6b7-3afa-403b-9f70-a2d72a9162d4',\n",
       " '3dacb121-7d93-42a1-885c-df5b0d50769d',\n",
       " 'e2e085c1-fd89-4175-93a7-2c8b067c3375',\n",
       " '7a5a696b-cd48-44ee-b2c2-3ad927fd36c2',\n",
       " 'fc107b3c-5733-4594-8f23-14fddc0addf9',\n",
       " 'ca2a63e0-b4bc-4744-a41f-9221a3249d8c',\n",
       " '68af648e-173e-4a35-9251-f13c1be35b73',\n",
       " '47cee764-d7f9-45a4-8e7a-df60c5aaeeef',\n",
       " '99b9b15b-9ca6-4748-9461-beb2940a473f',\n",
       " '7573fbf9-2941-4cfb-bc67-487a688dc705',\n",
       " 'b70bfdaa-73d4-428c-8d7c-b27e61101675',\n",
       " 'd479e65b-797c-4d80-bf3c-d60b7f1a18ad']"
      ]
     },
     "execution_count": 58,
     "metadata": {},
     "output_type": "execute_result"
    }
   ],
   "source": [
    "vector_store.add(nodes)"
   ]
  },
  {
   "cell_type": "markdown",
   "id": "d574a062-1900-4b74-be9a-6248ffb8bbbe",
   "metadata": {
    "id": "d574a062-1900-4b74-be9a-6248ffb8bbbe"
   },
   "source": [
    "## Build Retrieval Pipeline from Scratch\n",
    "\n",
    "We show how to build a retrieval pipeline. Similar to ingestion, we fast-track the steps. Take a look at our [retrieval guide](https://gpt-index.readthedocs.io/en/latest/examples/low_level/retrieval.html) for more details!"
   ]
  },
  {
   "cell_type": "code",
   "execution_count": 59,
   "id": "cd7a7465-6a3a-4379-8ac9-1dad7d8441e2",
   "metadata": {
    "id": "cd7a7465-6a3a-4379-8ac9-1dad7d8441e2"
   },
   "outputs": [],
   "source": [
    "query_str = \"Can you tell me about the types of car insurance coverage?\""
   ]
  },
  {
   "cell_type": "markdown",
   "id": "20b076aa-4ebb-4f26-8b31-387a01a47405",
   "metadata": {
    "id": "20b076aa-4ebb-4f26-8b31-387a01a47405"
   },
   "source": [
    "### 1. Generate a Query Embedding"
   ]
  },
  {
   "cell_type": "code",
   "execution_count": 60,
   "id": "159bda45-beb5-48bc-bf33-b9d1c44188b9",
   "metadata": {
    "id": "159bda45-beb5-48bc-bf33-b9d1c44188b9"
   },
   "outputs": [],
   "source": [
    "query_embedding = embed_model.get_query_embedding(query_str)"
   ]
  },
  {
   "cell_type": "markdown",
   "id": "cf2c8594-bc95-41b0-a0bb-35b4f02a734f",
   "metadata": {
    "id": "cf2c8594-bc95-41b0-a0bb-35b4f02a734f"
   },
   "source": [
    "### 2. Query the Vector Database"
   ]
  },
  {
   "cell_type": "code",
   "execution_count": 61,
   "id": "b5c62ffc-2092-4fd0-85c4-acde0b6c3b4f",
   "metadata": {
    "id": "b5c62ffc-2092-4fd0-85c4-acde0b6c3b4f"
   },
   "outputs": [],
   "source": [
    "# construct vector store query\n",
    "from llama_index.vector_stores import VectorStoreQuery\n",
    "\n",
    "query_mode = \"default\"\n",
    "# query_mode = \"sparse\"\n",
    "# query_mode = \"hybrid\"\n",
    "\n",
    "vector_store_query = VectorStoreQuery(\n",
    "    query_embedding=query_embedding, similarity_top_k=2, mode=query_mode\n",
    ")"
   ]
  },
  {
   "cell_type": "code",
   "execution_count": 62,
   "id": "06051002-db44-404b-a946-2b37b3b6ca67",
   "metadata": {
    "id": "06051002-db44-404b-a946-2b37b3b6ca67"
   },
   "outputs": [
    {
     "name": "stdout",
     "output_type": "stream",
     "text": [
      "It’s typically just enough coverage to meet your state’s minimum requirements, and nothing more. It provides essential financial protection for bodily injury and property damage liability if you’re in an accident. When you choose this minimum coverage, you don’t get protection for your own vehicle.</p><p>A liability-only policy may make sense if the cost to repair or replace your vehicle doesn’t justify the additional expense of full coverage, or if you’re on a tight budget and prioritize lower premiums over comprehensive protection. It may also be suitable if you frequently use public transportation and don’t spend much time behind the wheel.</p></div></div></li><li><div class=\"dC_yF\"><img alt=\"illustration card https://a.storyblok.com/f/162273/x/38dc81ba93/drive-1.svg\" loading=\"lazy\" width=\"48\" height=\"48\" src=\"https://a.storyblok.com/f/162273/x/38dc81ba93/drive-1.svg/m/48x48/smart/\"/><div><h4>Full coverage: Good for drivers who want more coverage for their own vehicle</h4><p><a href=\"/car-insurance/coverage/full-coverage/\" target=\"_self\"><strong>Full-coverage car insurance</strong></a> includes liability coverage for at least your state’s minimum insurance requirements, plus comprehensive and collision coverage for your car. In addition to covering damages you cause to others in an accident, a full-coverage policy can help pay to repair or replace your own vehicle.</p><p>Full coverage is a great option for new or high-value vehicles. Collision and comprehensive coverages can save you from significant financial losses due to accidents, theft, and natural disasters. If you lease or finance your car, your lender or leasing company will require you to carry full coverage.</p></div></div></li></ul><h3 id=\"additional-car-insurance-coverages-to-consider\">Additional car insurance coverages to consider</h3><p>In addition to liability, comprehensive, and collision coverage, most insurance companies offer a range of supplemental coverages, including:</p><ul class=\"fj_Cp\"><li><div class=\"dC_yF\"><img alt=\"illustration card https://a.storyblok.com/f/162273/x/5285c4cd74/uninsured-or-underinsured-motorist-coverage.svg\" loading=\"lazy\" width=\"48\" height=\"48\" src=\"https://a.storyblok.com/f/162273/x/5285c4cd74/uninsured-or-underinsured-motorist-coverage.svg/m/48x48/smart/\"/><div><h4>Uninsured and underinsured motorist coverage</h4><p>You can’t control another driver’s insurance decisions. Uninsured and underinsured motorist coverage protects you against drivers who don’t have adequate coverage. If they don’t have insurance to pay for the damage they cause, this coverage steps in for you. UM/UIM also provides coverage for hit-and-runs.</p></div></div></li><li><div class=\"dC_yF\"><img alt=\"illustration card https://a.storyblok.com/f/162273/x/4c9753bdbe/medical-payments.svg\" loading=\"lazy\" width=\"48\" height=\"48\" src=\"https://a.storyblok.com/f/162273/x/4c9753bdbe/medical-payments.svg/m/48x48/smart/\"/><div><h4>Medical payments coverage</h4><p>When accidents result in medical bills, medical payments coverage can help. It’s financial protection for you and your passengers, no matter who’s at fault for the accident.\n"
     ]
    }
   ],
   "source": [
    "# returns a VectorStoreQueryResult\n",
    "query_result = vector_store.query(vector_store_query)\n",
    "print(query_result.nodes[0].get_content())"
   ]
  },
  {
   "cell_type": "markdown",
   "id": "dff153ee-5774-4374-98a6-038775fb1d6a",
   "metadata": {
    "id": "dff153ee-5774-4374-98a6-038775fb1d6a"
   },
   "source": [
    "### 3. Parse Result into a Set of Nodes"
   ]
  },
  {
   "cell_type": "code",
   "execution_count": 63,
   "id": "9efda092-69ee-404e-8667-28e866c0e4d1",
   "metadata": {
    "id": "9efda092-69ee-404e-8667-28e866c0e4d1"
   },
   "outputs": [],
   "source": [
    "from llama_index.schema import NodeWithScore\n",
    "from typing import Optional\n",
    "\n",
    "nodes_with_scores = []\n",
    "for index, node in enumerate(query_result.nodes):\n",
    "    score: Optional[float] = None\n",
    "    if query_result.similarities is not None:\n",
    "        score = query_result.similarities[index]\n",
    "    nodes_with_scores.append(NodeWithScore(node=node, score=score))"
   ]
  },
  {
   "cell_type": "markdown",
   "id": "445ee65d-bd12-46e5-817d-e21d97718338",
   "metadata": {
    "id": "445ee65d-bd12-46e5-817d-e21d97718338"
   },
   "source": [
    "### 4. Put into a Retriever"
   ]
  },
  {
   "cell_type": "code",
   "execution_count": 64,
   "id": "f817dbf4-926c-4aa2-a3b6-946c45df0893",
   "metadata": {
    "id": "f817dbf4-926c-4aa2-a3b6-946c45df0893"
   },
   "outputs": [],
   "source": [
    "from llama_index import QueryBundle\n",
    "from llama_index.retrievers import BaseRetriever\n",
    "from typing import Any, List\n",
    "\n",
    "\n",
    "class VectorDBRetriever(BaseRetriever):\n",
    "    \"\"\"Retriever over a postgres vector store.\"\"\"\n",
    "\n",
    "    def __init__(\n",
    "        self,\n",
    "        vector_store: PGVectorStore,\n",
    "        embed_model: Any,\n",
    "        query_mode: str = \"default\",\n",
    "        similarity_top_k: int = 2,\n",
    "    ) -> None:\n",
    "        \"\"\"Init params.\"\"\"\n",
    "        self._vector_store = vector_store\n",
    "        self._embed_model = embed_model\n",
    "        self._query_mode = query_mode\n",
    "        self._similarity_top_k = similarity_top_k\n",
    "\n",
    "    def _retrieve(self, query_bundle: QueryBundle) -> List[NodeWithScore]:\n",
    "        \"\"\"Retrieve.\"\"\"\n",
    "        query_embedding = embed_model.get_query_embedding(query_str)\n",
    "        vector_store_query = VectorStoreQuery(\n",
    "            query_embedding=query_embedding,\n",
    "            similarity_top_k=self._similarity_top_k,\n",
    "            mode=self._query_mode,\n",
    "        )\n",
    "        query_result = vector_store.query(vector_store_query)\n",
    "\n",
    "        nodes_with_scores = []\n",
    "        for index, node in enumerate(query_result.nodes):\n",
    "            score: Optional[float] = None\n",
    "            if query_result.similarities is not None:\n",
    "                score = query_result.similarities[index]\n",
    "            nodes_with_scores.append(NodeWithScore(node=node, score=score))\n",
    "\n",
    "        return nodes_with_scores"
   ]
  },
  {
   "cell_type": "code",
   "execution_count": 65,
   "id": "6dbaf309-a3fb-4d01-bc7b-4efab92e6e3d",
   "metadata": {
    "id": "6dbaf309-a3fb-4d01-bc7b-4efab92e6e3d"
   },
   "outputs": [],
   "source": [
    "retriever = VectorDBRetriever(\n",
    "    vector_store, embed_model, query_mode=\"default\", similarity_top_k=2\n",
    ")"
   ]
  },
  {
   "cell_type": "markdown",
   "id": "977c28a6-065a-408a-b007-e611d2d99153",
   "metadata": {
    "id": "977c28a6-065a-408a-b007-e611d2d99153"
   },
   "source": [
    "## Plug this into our RetrieverQueryEngine to synthesize a response"
   ]
  },
  {
   "cell_type": "code",
   "execution_count": 66,
   "id": "ae459e87-daff-433d-a2bd-fd4a934357ef",
   "metadata": {
    "id": "ae459e87-daff-433d-a2bd-fd4a934357ef"
   },
   "outputs": [],
   "source": [
    "from llama_index.query_engine import RetrieverQueryEngine\n",
    "\n",
    "query_engine = RetrieverQueryEngine.from_args(\n",
    "    retriever, service_context=service_context\n",
    ")"
   ]
  },
  {
   "cell_type": "code",
   "execution_count": 67,
   "id": "312bdaba-6a91-4601-96f9-c64d1ae09007",
   "metadata": {
    "id": "312bdaba-6a91-4601-96f9-c64d1ae09007",
    "outputId": "55c8447e-73b0-4274-9120-2e8598f06971"
   },
   "outputs": [
    {
     "name": "stderr",
     "output_type": "stream",
     "text": [
      "Llama.generate: prefix-match hit\n",
      "\n",
      "llama_print_timings:        load time =   18266.67 ms\n",
      "llama_print_timings:      sample time =      13.55 ms /   103 runs   (    0.13 ms per token,  7600.92 tokens per second)\n",
      "llama_print_timings: prompt eval time =   37336.94 ms /  1991 tokens (   18.75 ms per token,    53.33 tokens per second)\n",
      "llama_print_timings:        eval time =    6782.37 ms /   102 runs   (   66.49 ms per token,    15.04 tokens per second)\n",
      "llama_print_timings:       total time =   44385.95 ms\n"
     ]
    }
   ],
   "source": [
    "query_str = \"Can you tell me about the types of car insurance coverage?\"\n",
    "\n",
    "response = query_engine.query(query_str)"
   ]
  },
  {
   "cell_type": "code",
   "execution_count": 68,
   "id": "72f1096f-96b6-4a90-8524-b9ebe4532661",
   "metadata": {
    "id": "72f1096f-96b6-4a90-8524-b9ebe4532661",
    "outputId": "2da20c0e-6956-4bc5-f27e-ec962a69c0da"
   },
   "outputs": [
    {
     "name": "stdout",
     "output_type": "stream",
     "text": [
      " Sure! There are several types of car insurance coverage available, including liability-only, full coverage, uninsured or underinsured motorist coverage, medical payments coverage, and comprehensive and collision coverage. Each type of coverage provides different levels of protection for your vehicle and your financial assets in the event of an accident or other loss. It's important to carefully consider your needs and budget when selecting car insurance coverage to ensure you have the right level of protection for your specific situation.\n"
     ]
    }
   ],
   "source": [
    "print(str(response))"
   ]
  },
  {
   "cell_type": "code",
   "execution_count": 70,
   "id": "f7838289-5a59-4042-b4b7-037f66d99be4",
   "metadata": {
    "id": "f7838289-5a59-4042-b4b7-037f66d99be4"
   },
   "outputs": [
    {
     "name": "stdout",
     "output_type": "stream",
     "text": [
      "{'Source': 'https://insurify.com/car-insurance/'}\n"
     ]
    }
   ],
   "source": [
    "print(response.source_nodes[0].metadata)"
   ]
  },
  {
   "cell_type": "code",
   "execution_count": 71,
   "id": "8b3b6435-75f1-426b-a719-50598ff5ba16",
   "metadata": {},
   "outputs": [
    {
     "data": {
      "text/plain": [
       "2"
      ]
     },
     "execution_count": 71,
     "metadata": {},
     "output_type": "execute_result"
    }
   ],
   "source": [
    "len(response.source_nodes)"
   ]
  },
  {
   "cell_type": "code",
   "execution_count": null,
   "id": "f303dfd6-343c-4bbe-a281-6aef862760fa",
   "metadata": {},
   "outputs": [],
   "source": []
  }
 ],
 "metadata": {
  "colab": {
   "provenance": []
  },
  "kernelspec": {
   "display_name": "Python 3 (ipykernel)",
   "language": "python",
   "name": "python3"
  },
  "language_info": {
   "codemirror_mode": {
    "name": "ipython",
    "version": 3
   },
   "file_extension": ".py",
   "mimetype": "text/x-python",
   "name": "python",
   "nbconvert_exporter": "python",
   "pygments_lexer": "ipython3",
   "version": "3.8.10"
  }
 },
 "nbformat": 4,
 "nbformat_minor": 5
}
