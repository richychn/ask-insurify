{
 "cells": [
  {
   "cell_type": "markdown",
   "id": "2ffc6a2b",
   "metadata": {
    "id": "2ffc6a2b"
   },
   "source": [
    "<a href=\"https://colab.research.google.com/github/run-llama/llama_index/blob/main/docs/examples/low_level/oss_ingestion_retrieval.ipynb\" target=\"_parent\"><img src=\"https://colab.research.google.com/assets/colab-badge.svg\" alt=\"Open In Colab\"/></a>\n"
   ]
  },
  {
   "cell_type": "markdown",
   "id": "dff7db9e-fbf9-4394-9958-35323799a4e3",
   "metadata": {
    "id": "dff7db9e-fbf9-4394-9958-35323799a4e3"
   },
   "source": [
    "# Building RAG from Scratch (Open-source only!)\n",
    "\n",
    "In this tutorial, we show you how to build a data ingestion pipeline into a vector database, and then build a retrieval pipeline from that vector database, from scratch.\n",
    "\n",
    "Notably, we use a fully open-source stack:\n",
    "\n",
    "- Sentence Transformers as the embedding model\n",
    "- Postgres as the vector store (we support many other [vector stores](https://gpt-index.readthedocs.io/en/stable/core_modules/data_modules/storage/vector_stores.html) too!)\n",
    "- Llama 2 as the LLM (through [llama.cpp](https://github.com/ggerganov/llama.cpp))"
   ]
  },
  {
   "cell_type": "markdown",
   "id": "25764729-40ba-400f-b0f8-08fb9e8bb74a",
   "metadata": {
    "id": "25764729-40ba-400f-b0f8-08fb9e8bb74a"
   },
   "source": [
    "## Setup\n",
    "\n",
    "We setup our open-source components.\n",
    "1. Sentence Transformers\n",
    "2. Llama 2\n",
    "3. We initialize postgres and wrap it with our wrappers/abstractions."
   ]
  },
  {
   "cell_type": "markdown",
   "id": "63935557-a11c-4a22-9248-9c746cc89c4c",
   "metadata": {
    "id": "63935557-a11c-4a22-9248-9c746cc89c4c"
   },
   "source": [
    "#### Sentence Transformers"
   ]
  },
  {
   "cell_type": "code",
   "execution_count": 1,
   "id": "4c08162e-5a48-424c-921f-c9e84a59c72f",
   "metadata": {
    "id": "4c08162e-5a48-424c-921f-c9e84a59c72f"
   },
   "outputs": [],
   "source": [
    "# sentence transformers\n",
    "from llama_index.embeddings import HuggingFaceEmbedding\n",
    "\n",
    "embed_model = HuggingFaceEmbedding(model_name=\"BAAI/bge-small-en\")"
   ]
  },
  {
   "cell_type": "markdown",
   "id": "df10089c-917e-4191-a718-0ef7149a6a1e",
   "metadata": {
    "id": "df10089c-917e-4191-a718-0ef7149a6a1e"
   },
   "source": [
    "#### Llama CPP\n",
    "\n",
    "In this notebook, we use the [`llama-2-chat-13b-ggml`](https://huggingface.co/TheBloke/Llama-2-13B-chat-GGML) model, along with the proper prompt formatting.\n",
    "\n",
    "Check out our [Llama CPP guide](https://gpt-index.readthedocs.io/en/stable/examples/llm/llama_2_llama_cpp.html) for full setup instructions/details."
   ]
  },
  {
   "cell_type": "code",
   "execution_count": 2,
   "id": "3cb975f6-c192-4a26-ae50-e9a319d2a66b",
   "metadata": {
    "id": "3cb975f6-c192-4a26-ae50-e9a319d2a66b"
   },
   "outputs": [
    {
     "name": "stderr",
     "output_type": "stream",
     "text": [
      "llama_model_loader: loaded meta data with 19 key-value pairs and 363 tensors from /Users/richy/Library/Caches/llama_index/models/llama-2-13b-chat.Q4_0.gguf (version GGUF V2)\n",
      "llama_model_loader: - tensor    0:                token_embd.weight q4_0     [  5120, 32000,     1,     1 ]\n",
      "llama_model_loader: - tensor    1:           blk.0.attn_norm.weight f32      [  5120,     1,     1,     1 ]\n",
      "llama_model_loader: - tensor    2:            blk.0.ffn_down.weight q4_0     [ 13824,  5120,     1,     1 ]\n",
      "llama_model_loader: - tensor    3:            blk.0.ffn_gate.weight q4_0     [  5120, 13824,     1,     1 ]\n",
      "llama_model_loader: - tensor    4:              blk.0.ffn_up.weight q4_0     [  5120, 13824,     1,     1 ]\n",
      "llama_model_loader: - tensor    5:            blk.0.ffn_norm.weight f32      [  5120,     1,     1,     1 ]\n",
      "llama_model_loader: - tensor    6:              blk.0.attn_k.weight q4_0     [  5120,  5120,     1,     1 ]\n",
      "llama_model_loader: - tensor    7:         blk.0.attn_output.weight q4_0     [  5120,  5120,     1,     1 ]\n",
      "llama_model_loader: - tensor    8:              blk.0.attn_q.weight q4_0     [  5120,  5120,     1,     1 ]\n",
      "llama_model_loader: - tensor    9:              blk.0.attn_v.weight q4_0     [  5120,  5120,     1,     1 ]\n",
      "llama_model_loader: - tensor   10:           blk.1.attn_norm.weight f32      [  5120,     1,     1,     1 ]\n",
      "llama_model_loader: - tensor   11:            blk.1.ffn_down.weight q4_0     [ 13824,  5120,     1,     1 ]\n",
      "llama_model_loader: - tensor   12:            blk.1.ffn_gate.weight q4_0     [  5120, 13824,     1,     1 ]\n",
      "llama_model_loader: - tensor   13:              blk.1.ffn_up.weight q4_0     [  5120, 13824,     1,     1 ]\n",
      "llama_model_loader: - tensor   14:            blk.1.ffn_norm.weight f32      [  5120,     1,     1,     1 ]\n",
      "llama_model_loader: - tensor   15:              blk.1.attn_k.weight q4_0     [  5120,  5120,     1,     1 ]\n",
      "llama_model_loader: - tensor   16:         blk.1.attn_output.weight q4_0     [  5120,  5120,     1,     1 ]\n",
      "llama_model_loader: - tensor   17:              blk.1.attn_q.weight q4_0     [  5120,  5120,     1,     1 ]\n",
      "llama_model_loader: - tensor   18:              blk.1.attn_v.weight q4_0     [  5120,  5120,     1,     1 ]\n",
      "llama_model_loader: - tensor   19:          blk.10.attn_norm.weight f32      [  5120,     1,     1,     1 ]\n",
      "llama_model_loader: - tensor   20:           blk.10.ffn_down.weight q4_0     [ 13824,  5120,     1,     1 ]\n",
      "llama_model_loader: - tensor   21:           blk.10.ffn_gate.weight q4_0     [  5120, 13824,     1,     1 ]\n",
      "llama_model_loader: - tensor   22:             blk.10.ffn_up.weight q4_0     [  5120, 13824,     1,     1 ]\n",
      "llama_model_loader: - tensor   23:           blk.10.ffn_norm.weight f32      [  5120,     1,     1,     1 ]\n",
      "llama_model_loader: - tensor   24:             blk.10.attn_k.weight q4_0     [  5120,  5120,     1,     1 ]\n",
      "llama_model_loader: - tensor   25:        blk.10.attn_output.weight q4_0     [  5120,  5120,     1,     1 ]\n",
      "llama_model_loader: - tensor   26:             blk.10.attn_q.weight q4_0     [  5120,  5120,     1,     1 ]\n",
      "llama_model_loader: - tensor   27:             blk.10.attn_v.weight q4_0     [  5120,  5120,     1,     1 ]\n",
      "llama_model_loader: - tensor   28:          blk.11.attn_norm.weight f32      [  5120,     1,     1,     1 ]\n",
      "llama_model_loader: - tensor   29:           blk.11.ffn_down.weight q4_0     [ 13824,  5120,     1,     1 ]\n",
      "llama_model_loader: - tensor   30:           blk.11.ffn_gate.weight q4_0     [  5120, 13824,     1,     1 ]\n",
      "llama_model_loader: - tensor   31:             blk.11.ffn_up.weight q4_0     [  5120, 13824,     1,     1 ]\n",
      "llama_model_loader: - tensor   32:           blk.11.ffn_norm.weight f32      [  5120,     1,     1,     1 ]\n",
      "llama_model_loader: - tensor   33:             blk.11.attn_k.weight q4_0     [  5120,  5120,     1,     1 ]\n",
      "llama_model_loader: - tensor   34:        blk.11.attn_output.weight q4_0     [  5120,  5120,     1,     1 ]\n",
      "llama_model_loader: - tensor   35:             blk.11.attn_q.weight q4_0     [  5120,  5120,     1,     1 ]\n",
      "llama_model_loader: - tensor   36:             blk.11.attn_v.weight q4_0     [  5120,  5120,     1,     1 ]\n",
      "llama_model_loader: - tensor   37:          blk.12.attn_norm.weight f32      [  5120,     1,     1,     1 ]\n",
      "llama_model_loader: - tensor   38:           blk.12.ffn_down.weight q4_0     [ 13824,  5120,     1,     1 ]\n",
      "llama_model_loader: - tensor   39:           blk.12.ffn_gate.weight q4_0     [  5120, 13824,     1,     1 ]\n",
      "llama_model_loader: - tensor   40:             blk.12.ffn_up.weight q4_0     [  5120, 13824,     1,     1 ]\n",
      "llama_model_loader: - tensor   41:           blk.12.ffn_norm.weight f32      [  5120,     1,     1,     1 ]\n",
      "llama_model_loader: - tensor   42:             blk.12.attn_k.weight q4_0     [  5120,  5120,     1,     1 ]\n",
      "llama_model_loader: - tensor   43:        blk.12.attn_output.weight q4_0     [  5120,  5120,     1,     1 ]\n",
      "llama_model_loader: - tensor   44:             blk.12.attn_q.weight q4_0     [  5120,  5120,     1,     1 ]\n",
      "llama_model_loader: - tensor   45:             blk.12.attn_v.weight q4_0     [  5120,  5120,     1,     1 ]\n",
      "llama_model_loader: - tensor   46:          blk.13.attn_norm.weight f32      [  5120,     1,     1,     1 ]\n",
      "llama_model_loader: - tensor   47:           blk.13.ffn_down.weight q4_0     [ 13824,  5120,     1,     1 ]\n",
      "llama_model_loader: - tensor   48:           blk.13.ffn_gate.weight q4_0     [  5120, 13824,     1,     1 ]\n",
      "llama_model_loader: - tensor   49:             blk.13.ffn_up.weight q4_0     [  5120, 13824,     1,     1 ]\n",
      "llama_model_loader: - tensor   50:           blk.13.ffn_norm.weight f32      [  5120,     1,     1,     1 ]\n",
      "llama_model_loader: - tensor   51:             blk.13.attn_k.weight q4_0     [  5120,  5120,     1,     1 ]\n",
      "llama_model_loader: - tensor   52:        blk.13.attn_output.weight q4_0     [  5120,  5120,     1,     1 ]\n",
      "llama_model_loader: - tensor   53:             blk.13.attn_q.weight q4_0     [  5120,  5120,     1,     1 ]\n",
      "llama_model_loader: - tensor   54:             blk.13.attn_v.weight q4_0     [  5120,  5120,     1,     1 ]\n",
      "llama_model_loader: - tensor   55:          blk.14.attn_norm.weight f32      [  5120,     1,     1,     1 ]\n",
      "llama_model_loader: - tensor   56:           blk.14.ffn_down.weight q4_0     [ 13824,  5120,     1,     1 ]\n",
      "llama_model_loader: - tensor   57:           blk.14.ffn_gate.weight q4_0     [  5120, 13824,     1,     1 ]\n",
      "llama_model_loader: - tensor   58:             blk.14.ffn_up.weight q4_0     [  5120, 13824,     1,     1 ]\n",
      "llama_model_loader: - tensor   59:           blk.14.ffn_norm.weight f32      [  5120,     1,     1,     1 ]\n",
      "llama_model_loader: - tensor   60:             blk.14.attn_k.weight q4_0     [  5120,  5120,     1,     1 ]\n",
      "llama_model_loader: - tensor   61:        blk.14.attn_output.weight q4_0     [  5120,  5120,     1,     1 ]\n",
      "llama_model_loader: - tensor   62:             blk.14.attn_q.weight q4_0     [  5120,  5120,     1,     1 ]\n",
      "llama_model_loader: - tensor   63:             blk.14.attn_v.weight q4_0     [  5120,  5120,     1,     1 ]\n",
      "llama_model_loader: - tensor   64:             blk.15.attn_k.weight q4_0     [  5120,  5120,     1,     1 ]\n",
      "llama_model_loader: - tensor   65:             blk.15.attn_q.weight q4_0     [  5120,  5120,     1,     1 ]\n",
      "llama_model_loader: - tensor   66:           blk.2.attn_norm.weight f32      [  5120,     1,     1,     1 ]\n",
      "llama_model_loader: - tensor   67:            blk.2.ffn_down.weight q4_0     [ 13824,  5120,     1,     1 ]\n",
      "llama_model_loader: - tensor   68:            blk.2.ffn_gate.weight q4_0     [  5120, 13824,     1,     1 ]\n",
      "llama_model_loader: - tensor   69:              blk.2.ffn_up.weight q4_0     [  5120, 13824,     1,     1 ]\n",
      "llama_model_loader: - tensor   70:            blk.2.ffn_norm.weight f32      [  5120,     1,     1,     1 ]\n",
      "llama_model_loader: - tensor   71:              blk.2.attn_k.weight q4_0     [  5120,  5120,     1,     1 ]\n",
      "llama_model_loader: - tensor   72:         blk.2.attn_output.weight q4_0     [  5120,  5120,     1,     1 ]\n",
      "llama_model_loader: - tensor   73:              blk.2.attn_q.weight q4_0     [  5120,  5120,     1,     1 ]\n",
      "llama_model_loader: - tensor   74:              blk.2.attn_v.weight q4_0     [  5120,  5120,     1,     1 ]\n",
      "llama_model_loader: - tensor   75:           blk.3.attn_norm.weight f32      [  5120,     1,     1,     1 ]\n",
      "llama_model_loader: - tensor   76:            blk.3.ffn_down.weight q4_0     [ 13824,  5120,     1,     1 ]\n",
      "llama_model_loader: - tensor   77:            blk.3.ffn_gate.weight q4_0     [  5120, 13824,     1,     1 ]\n",
      "llama_model_loader: - tensor   78:              blk.3.ffn_up.weight q4_0     [  5120, 13824,     1,     1 ]\n",
      "llama_model_loader: - tensor   79:            blk.3.ffn_norm.weight f32      [  5120,     1,     1,     1 ]\n",
      "llama_model_loader: - tensor   80:              blk.3.attn_k.weight q4_0     [  5120,  5120,     1,     1 ]\n",
      "llama_model_loader: - tensor   81:         blk.3.attn_output.weight q4_0     [  5120,  5120,     1,     1 ]\n",
      "llama_model_loader: - tensor   82:              blk.3.attn_q.weight q4_0     [  5120,  5120,     1,     1 ]\n",
      "llama_model_loader: - tensor   83:              blk.3.attn_v.weight q4_0     [  5120,  5120,     1,     1 ]\n",
      "llama_model_loader: - tensor   84:           blk.4.attn_norm.weight f32      [  5120,     1,     1,     1 ]\n",
      "llama_model_loader: - tensor   85:            blk.4.ffn_down.weight q4_0     [ 13824,  5120,     1,     1 ]\n",
      "llama_model_loader: - tensor   86:            blk.4.ffn_gate.weight q4_0     [  5120, 13824,     1,     1 ]\n",
      "llama_model_loader: - tensor   87:              blk.4.ffn_up.weight q4_0     [  5120, 13824,     1,     1 ]\n",
      "llama_model_loader: - tensor   88:            blk.4.ffn_norm.weight f32      [  5120,     1,     1,     1 ]\n",
      "llama_model_loader: - tensor   89:              blk.4.attn_k.weight q4_0     [  5120,  5120,     1,     1 ]\n",
      "llama_model_loader: - tensor   90:         blk.4.attn_output.weight q4_0     [  5120,  5120,     1,     1 ]\n",
      "llama_model_loader: - tensor   91:              blk.4.attn_q.weight q4_0     [  5120,  5120,     1,     1 ]\n",
      "llama_model_loader: - tensor   92:              blk.4.attn_v.weight q4_0     [  5120,  5120,     1,     1 ]\n",
      "llama_model_loader: - tensor   93:           blk.5.attn_norm.weight f32      [  5120,     1,     1,     1 ]\n",
      "llama_model_loader: - tensor   94:            blk.5.ffn_down.weight q4_0     [ 13824,  5120,     1,     1 ]\n",
      "llama_model_loader: - tensor   95:            blk.5.ffn_gate.weight q4_0     [  5120, 13824,     1,     1 ]\n",
      "llama_model_loader: - tensor   96:              blk.5.ffn_up.weight q4_0     [  5120, 13824,     1,     1 ]\n",
      "llama_model_loader: - tensor   97:            blk.5.ffn_norm.weight f32      [  5120,     1,     1,     1 ]\n",
      "llama_model_loader: - tensor   98:              blk.5.attn_k.weight q4_0     [  5120,  5120,     1,     1 ]\n",
      "llama_model_loader: - tensor   99:         blk.5.attn_output.weight q4_0     [  5120,  5120,     1,     1 ]\n",
      "llama_model_loader: - tensor  100:              blk.5.attn_q.weight q4_0     [  5120,  5120,     1,     1 ]\n",
      "llama_model_loader: - tensor  101:              blk.5.attn_v.weight q4_0     [  5120,  5120,     1,     1 ]\n",
      "llama_model_loader: - tensor  102:           blk.6.attn_norm.weight f32      [  5120,     1,     1,     1 ]\n",
      "llama_model_loader: - tensor  103:            blk.6.ffn_down.weight q4_0     [ 13824,  5120,     1,     1 ]\n",
      "llama_model_loader: - tensor  104:            blk.6.ffn_gate.weight q4_0     [  5120, 13824,     1,     1 ]\n",
      "llama_model_loader: - tensor  105:              blk.6.ffn_up.weight q4_0     [  5120, 13824,     1,     1 ]\n",
      "llama_model_loader: - tensor  106:            blk.6.ffn_norm.weight f32      [  5120,     1,     1,     1 ]\n",
      "llama_model_loader: - tensor  107:              blk.6.attn_k.weight q4_0     [  5120,  5120,     1,     1 ]\n",
      "llama_model_loader: - tensor  108:         blk.6.attn_output.weight q4_0     [  5120,  5120,     1,     1 ]\n",
      "llama_model_loader: - tensor  109:              blk.6.attn_q.weight q4_0     [  5120,  5120,     1,     1 ]\n",
      "llama_model_loader: - tensor  110:              blk.6.attn_v.weight q4_0     [  5120,  5120,     1,     1 ]\n",
      "llama_model_loader: - tensor  111:           blk.7.attn_norm.weight f32      [  5120,     1,     1,     1 ]\n",
      "llama_model_loader: - tensor  112:            blk.7.ffn_down.weight q4_0     [ 13824,  5120,     1,     1 ]\n",
      "llama_model_loader: - tensor  113:            blk.7.ffn_gate.weight q4_0     [  5120, 13824,     1,     1 ]\n",
      "llama_model_loader: - tensor  114:              blk.7.ffn_up.weight q4_0     [  5120, 13824,     1,     1 ]\n",
      "llama_model_loader: - tensor  115:            blk.7.ffn_norm.weight f32      [  5120,     1,     1,     1 ]\n",
      "llama_model_loader: - tensor  116:              blk.7.attn_k.weight q4_0     [  5120,  5120,     1,     1 ]\n",
      "llama_model_loader: - tensor  117:         blk.7.attn_output.weight q4_0     [  5120,  5120,     1,     1 ]\n",
      "llama_model_loader: - tensor  118:              blk.7.attn_q.weight q4_0     [  5120,  5120,     1,     1 ]\n",
      "llama_model_loader: - tensor  119:              blk.7.attn_v.weight q4_0     [  5120,  5120,     1,     1 ]\n",
      "llama_model_loader: - tensor  120:           blk.8.attn_norm.weight f32      [  5120,     1,     1,     1 ]\n",
      "llama_model_loader: - tensor  121:            blk.8.ffn_down.weight q4_0     [ 13824,  5120,     1,     1 ]\n",
      "llama_model_loader: - tensor  122:            blk.8.ffn_gate.weight q4_0     [  5120, 13824,     1,     1 ]\n",
      "llama_model_loader: - tensor  123:              blk.8.ffn_up.weight q4_0     [  5120, 13824,     1,     1 ]\n",
      "llama_model_loader: - tensor  124:            blk.8.ffn_norm.weight f32      [  5120,     1,     1,     1 ]\n",
      "llama_model_loader: - tensor  125:              blk.8.attn_k.weight q4_0     [  5120,  5120,     1,     1 ]\n",
      "llama_model_loader: - tensor  126:         blk.8.attn_output.weight q4_0     [  5120,  5120,     1,     1 ]\n",
      "llama_model_loader: - tensor  127:              blk.8.attn_q.weight q4_0     [  5120,  5120,     1,     1 ]\n",
      "llama_model_loader: - tensor  128:              blk.8.attn_v.weight q4_0     [  5120,  5120,     1,     1 ]\n",
      "llama_model_loader: - tensor  129:           blk.9.attn_norm.weight f32      [  5120,     1,     1,     1 ]\n",
      "llama_model_loader: - tensor  130:            blk.9.ffn_down.weight q4_0     [ 13824,  5120,     1,     1 ]\n",
      "llama_model_loader: - tensor  131:            blk.9.ffn_gate.weight q4_0     [  5120, 13824,     1,     1 ]\n",
      "llama_model_loader: - tensor  132:              blk.9.ffn_up.weight q4_0     [  5120, 13824,     1,     1 ]\n",
      "llama_model_loader: - tensor  133:            blk.9.ffn_norm.weight f32      [  5120,     1,     1,     1 ]\n",
      "llama_model_loader: - tensor  134:              blk.9.attn_k.weight q4_0     [  5120,  5120,     1,     1 ]\n",
      "llama_model_loader: - tensor  135:         blk.9.attn_output.weight q4_0     [  5120,  5120,     1,     1 ]\n",
      "llama_model_loader: - tensor  136:              blk.9.attn_q.weight q4_0     [  5120,  5120,     1,     1 ]\n",
      "llama_model_loader: - tensor  137:              blk.9.attn_v.weight q4_0     [  5120,  5120,     1,     1 ]\n",
      "llama_model_loader: - tensor  138:          blk.15.attn_norm.weight f32      [  5120,     1,     1,     1 ]\n",
      "llama_model_loader: - tensor  139:           blk.15.ffn_down.weight q4_0     [ 13824,  5120,     1,     1 ]\n",
      "llama_model_loader: - tensor  140:           blk.15.ffn_gate.weight q4_0     [  5120, 13824,     1,     1 ]\n",
      "llama_model_loader: - tensor  141:             blk.15.ffn_up.weight q4_0     [  5120, 13824,     1,     1 ]\n",
      "llama_model_loader: - tensor  142:           blk.15.ffn_norm.weight f32      [  5120,     1,     1,     1 ]\n",
      "llama_model_loader: - tensor  143:        blk.15.attn_output.weight q4_0     [  5120,  5120,     1,     1 ]\n",
      "llama_model_loader: - tensor  144:             blk.15.attn_v.weight q4_0     [  5120,  5120,     1,     1 ]\n",
      "llama_model_loader: - tensor  145:          blk.16.attn_norm.weight f32      [  5120,     1,     1,     1 ]\n",
      "llama_model_loader: - tensor  146:           blk.16.ffn_down.weight q4_0     [ 13824,  5120,     1,     1 ]\n",
      "llama_model_loader: - tensor  147:           blk.16.ffn_gate.weight q4_0     [  5120, 13824,     1,     1 ]\n",
      "llama_model_loader: - tensor  148:             blk.16.ffn_up.weight q4_0     [  5120, 13824,     1,     1 ]\n",
      "llama_model_loader: - tensor  149:           blk.16.ffn_norm.weight f32      [  5120,     1,     1,     1 ]\n",
      "llama_model_loader: - tensor  150:             blk.16.attn_k.weight q4_0     [  5120,  5120,     1,     1 ]\n",
      "llama_model_loader: - tensor  151:        blk.16.attn_output.weight q4_0     [  5120,  5120,     1,     1 ]\n",
      "llama_model_loader: - tensor  152:             blk.16.attn_q.weight q4_0     [  5120,  5120,     1,     1 ]\n",
      "llama_model_loader: - tensor  153:             blk.16.attn_v.weight q4_0     [  5120,  5120,     1,     1 ]\n",
      "llama_model_loader: - tensor  154:          blk.17.attn_norm.weight f32      [  5120,     1,     1,     1 ]\n",
      "llama_model_loader: - tensor  155:           blk.17.ffn_down.weight q4_0     [ 13824,  5120,     1,     1 ]\n",
      "llama_model_loader: - tensor  156:           blk.17.ffn_gate.weight q4_0     [  5120, 13824,     1,     1 ]\n",
      "llama_model_loader: - tensor  157:             blk.17.ffn_up.weight q4_0     [  5120, 13824,     1,     1 ]\n",
      "llama_model_loader: - tensor  158:           blk.17.ffn_norm.weight f32      [  5120,     1,     1,     1 ]\n",
      "llama_model_loader: - tensor  159:             blk.17.attn_k.weight q4_0     [  5120,  5120,     1,     1 ]\n",
      "llama_model_loader: - tensor  160:        blk.17.attn_output.weight q4_0     [  5120,  5120,     1,     1 ]\n",
      "llama_model_loader: - tensor  161:             blk.17.attn_q.weight q4_0     [  5120,  5120,     1,     1 ]\n",
      "llama_model_loader: - tensor  162:             blk.17.attn_v.weight q4_0     [  5120,  5120,     1,     1 ]\n",
      "llama_model_loader: - tensor  163:          blk.18.attn_norm.weight f32      [  5120,     1,     1,     1 ]\n",
      "llama_model_loader: - tensor  164:           blk.18.ffn_down.weight q4_0     [ 13824,  5120,     1,     1 ]\n",
      "llama_model_loader: - tensor  165:           blk.18.ffn_gate.weight q4_0     [  5120, 13824,     1,     1 ]\n",
      "llama_model_loader: - tensor  166:             blk.18.ffn_up.weight q4_0     [  5120, 13824,     1,     1 ]\n",
      "llama_model_loader: - tensor  167:           blk.18.ffn_norm.weight f32      [  5120,     1,     1,     1 ]\n",
      "llama_model_loader: - tensor  168:             blk.18.attn_k.weight q4_0     [  5120,  5120,     1,     1 ]\n",
      "llama_model_loader: - tensor  169:        blk.18.attn_output.weight q4_0     [  5120,  5120,     1,     1 ]\n",
      "llama_model_loader: - tensor  170:             blk.18.attn_q.weight q4_0     [  5120,  5120,     1,     1 ]\n",
      "llama_model_loader: - tensor  171:             blk.18.attn_v.weight q4_0     [  5120,  5120,     1,     1 ]\n",
      "llama_model_loader: - tensor  172:          blk.19.attn_norm.weight f32      [  5120,     1,     1,     1 ]\n",
      "llama_model_loader: - tensor  173:           blk.19.ffn_down.weight q4_0     [ 13824,  5120,     1,     1 ]\n",
      "llama_model_loader: - tensor  174:           blk.19.ffn_gate.weight q4_0     [  5120, 13824,     1,     1 ]\n",
      "llama_model_loader: - tensor  175:             blk.19.ffn_up.weight q4_0     [  5120, 13824,     1,     1 ]\n",
      "llama_model_loader: - tensor  176:           blk.19.ffn_norm.weight f32      [  5120,     1,     1,     1 ]\n",
      "llama_model_loader: - tensor  177:             blk.19.attn_k.weight q4_0     [  5120,  5120,     1,     1 ]\n",
      "llama_model_loader: - tensor  178:        blk.19.attn_output.weight q4_0     [  5120,  5120,     1,     1 ]\n",
      "llama_model_loader: - tensor  179:             blk.19.attn_q.weight q4_0     [  5120,  5120,     1,     1 ]\n",
      "llama_model_loader: - tensor  180:             blk.19.attn_v.weight q4_0     [  5120,  5120,     1,     1 ]\n",
      "llama_model_loader: - tensor  181:          blk.20.attn_norm.weight f32      [  5120,     1,     1,     1 ]\n",
      "llama_model_loader: - tensor  182:           blk.20.ffn_down.weight q4_0     [ 13824,  5120,     1,     1 ]\n",
      "llama_model_loader: - tensor  183:           blk.20.ffn_gate.weight q4_0     [  5120, 13824,     1,     1 ]\n",
      "llama_model_loader: - tensor  184:             blk.20.ffn_up.weight q4_0     [  5120, 13824,     1,     1 ]\n",
      "llama_model_loader: - tensor  185:           blk.20.ffn_norm.weight f32      [  5120,     1,     1,     1 ]\n",
      "llama_model_loader: - tensor  186:             blk.20.attn_k.weight q4_0     [  5120,  5120,     1,     1 ]\n",
      "llama_model_loader: - tensor  187:        blk.20.attn_output.weight q4_0     [  5120,  5120,     1,     1 ]\n",
      "llama_model_loader: - tensor  188:             blk.20.attn_q.weight q4_0     [  5120,  5120,     1,     1 ]\n",
      "llama_model_loader: - tensor  189:             blk.20.attn_v.weight q4_0     [  5120,  5120,     1,     1 ]\n",
      "llama_model_loader: - tensor  190:          blk.21.attn_norm.weight f32      [  5120,     1,     1,     1 ]\n",
      "llama_model_loader: - tensor  191:           blk.21.ffn_down.weight q4_0     [ 13824,  5120,     1,     1 ]\n",
      "llama_model_loader: - tensor  192:           blk.21.ffn_gate.weight q4_0     [  5120, 13824,     1,     1 ]\n",
      "llama_model_loader: - tensor  193:             blk.21.ffn_up.weight q4_0     [  5120, 13824,     1,     1 ]\n",
      "llama_model_loader: - tensor  194:           blk.21.ffn_norm.weight f32      [  5120,     1,     1,     1 ]\n",
      "llama_model_loader: - tensor  195:             blk.21.attn_k.weight q4_0     [  5120,  5120,     1,     1 ]\n",
      "llama_model_loader: - tensor  196:        blk.21.attn_output.weight q4_0     [  5120,  5120,     1,     1 ]\n",
      "llama_model_loader: - tensor  197:             blk.21.attn_q.weight q4_0     [  5120,  5120,     1,     1 ]\n",
      "llama_model_loader: - tensor  198:             blk.21.attn_v.weight q4_0     [  5120,  5120,     1,     1 ]\n",
      "llama_model_loader: - tensor  199:          blk.22.attn_norm.weight f32      [  5120,     1,     1,     1 ]\n",
      "llama_model_loader: - tensor  200:           blk.22.ffn_down.weight q4_0     [ 13824,  5120,     1,     1 ]\n",
      "llama_model_loader: - tensor  201:           blk.22.ffn_gate.weight q4_0     [  5120, 13824,     1,     1 ]\n",
      "llama_model_loader: - tensor  202:             blk.22.ffn_up.weight q4_0     [  5120, 13824,     1,     1 ]\n",
      "llama_model_loader: - tensor  203:           blk.22.ffn_norm.weight f32      [  5120,     1,     1,     1 ]\n",
      "llama_model_loader: - tensor  204:             blk.22.attn_k.weight q4_0     [  5120,  5120,     1,     1 ]\n",
      "llama_model_loader: - tensor  205:        blk.22.attn_output.weight q4_0     [  5120,  5120,     1,     1 ]\n",
      "llama_model_loader: - tensor  206:             blk.22.attn_q.weight q4_0     [  5120,  5120,     1,     1 ]\n",
      "llama_model_loader: - tensor  207:             blk.22.attn_v.weight q4_0     [  5120,  5120,     1,     1 ]\n",
      "llama_model_loader: - tensor  208:          blk.23.attn_norm.weight f32      [  5120,     1,     1,     1 ]\n",
      "llama_model_loader: - tensor  209:           blk.23.ffn_down.weight q4_0     [ 13824,  5120,     1,     1 ]\n",
      "llama_model_loader: - tensor  210:           blk.23.ffn_gate.weight q4_0     [  5120, 13824,     1,     1 ]\n",
      "llama_model_loader: - tensor  211:             blk.23.ffn_up.weight q4_0     [  5120, 13824,     1,     1 ]\n",
      "llama_model_loader: - tensor  212:           blk.23.ffn_norm.weight f32      [  5120,     1,     1,     1 ]\n",
      "llama_model_loader: - tensor  213:             blk.23.attn_k.weight q4_0     [  5120,  5120,     1,     1 ]\n",
      "llama_model_loader: - tensor  214:        blk.23.attn_output.weight q4_0     [  5120,  5120,     1,     1 ]\n",
      "llama_model_loader: - tensor  215:             blk.23.attn_q.weight q4_0     [  5120,  5120,     1,     1 ]\n",
      "llama_model_loader: - tensor  216:             blk.23.attn_v.weight q4_0     [  5120,  5120,     1,     1 ]\n",
      "llama_model_loader: - tensor  217:          blk.24.attn_norm.weight f32      [  5120,     1,     1,     1 ]\n",
      "llama_model_loader: - tensor  218:           blk.24.ffn_down.weight q4_0     [ 13824,  5120,     1,     1 ]\n",
      "llama_model_loader: - tensor  219:           blk.24.ffn_gate.weight q4_0     [  5120, 13824,     1,     1 ]\n",
      "llama_model_loader: - tensor  220:             blk.24.ffn_up.weight q4_0     [  5120, 13824,     1,     1 ]\n",
      "llama_model_loader: - tensor  221:           blk.24.ffn_norm.weight f32      [  5120,     1,     1,     1 ]\n",
      "llama_model_loader: - tensor  222:             blk.24.attn_k.weight q4_0     [  5120,  5120,     1,     1 ]\n",
      "llama_model_loader: - tensor  223:        blk.24.attn_output.weight q4_0     [  5120,  5120,     1,     1 ]\n",
      "llama_model_loader: - tensor  224:             blk.24.attn_q.weight q4_0     [  5120,  5120,     1,     1 ]\n",
      "llama_model_loader: - tensor  225:             blk.24.attn_v.weight q4_0     [  5120,  5120,     1,     1 ]\n",
      "llama_model_loader: - tensor  226:          blk.25.attn_norm.weight f32      [  5120,     1,     1,     1 ]\n",
      "llama_model_loader: - tensor  227:           blk.25.ffn_down.weight q4_0     [ 13824,  5120,     1,     1 ]\n",
      "llama_model_loader: - tensor  228:           blk.25.ffn_gate.weight q4_0     [  5120, 13824,     1,     1 ]\n",
      "llama_model_loader: - tensor  229:             blk.25.ffn_up.weight q4_0     [  5120, 13824,     1,     1 ]\n",
      "llama_model_loader: - tensor  230:           blk.25.ffn_norm.weight f32      [  5120,     1,     1,     1 ]\n",
      "llama_model_loader: - tensor  231:             blk.25.attn_k.weight q4_0     [  5120,  5120,     1,     1 ]\n",
      "llama_model_loader: - tensor  232:        blk.25.attn_output.weight q4_0     [  5120,  5120,     1,     1 ]\n",
      "llama_model_loader: - tensor  233:             blk.25.attn_q.weight q4_0     [  5120,  5120,     1,     1 ]\n",
      "llama_model_loader: - tensor  234:             blk.25.attn_v.weight q4_0     [  5120,  5120,     1,     1 ]\n",
      "llama_model_loader: - tensor  235:          blk.26.attn_norm.weight f32      [  5120,     1,     1,     1 ]\n",
      "llama_model_loader: - tensor  236:           blk.26.ffn_down.weight q4_0     [ 13824,  5120,     1,     1 ]\n",
      "llama_model_loader: - tensor  237:           blk.26.ffn_gate.weight q4_0     [  5120, 13824,     1,     1 ]\n",
      "llama_model_loader: - tensor  238:             blk.26.ffn_up.weight q4_0     [  5120, 13824,     1,     1 ]\n",
      "llama_model_loader: - tensor  239:           blk.26.ffn_norm.weight f32      [  5120,     1,     1,     1 ]\n",
      "llama_model_loader: - tensor  240:             blk.26.attn_k.weight q4_0     [  5120,  5120,     1,     1 ]\n",
      "llama_model_loader: - tensor  241:        blk.26.attn_output.weight q4_0     [  5120,  5120,     1,     1 ]\n",
      "llama_model_loader: - tensor  242:             blk.26.attn_q.weight q4_0     [  5120,  5120,     1,     1 ]\n",
      "llama_model_loader: - tensor  243:             blk.26.attn_v.weight q4_0     [  5120,  5120,     1,     1 ]\n",
      "llama_model_loader: - tensor  244:          blk.27.attn_norm.weight f32      [  5120,     1,     1,     1 ]\n",
      "llama_model_loader: - tensor  245:           blk.27.ffn_down.weight q4_0     [ 13824,  5120,     1,     1 ]\n",
      "llama_model_loader: - tensor  246:           blk.27.ffn_gate.weight q4_0     [  5120, 13824,     1,     1 ]\n",
      "llama_model_loader: - tensor  247:             blk.27.ffn_up.weight q4_0     [  5120, 13824,     1,     1 ]\n",
      "llama_model_loader: - tensor  248:           blk.27.ffn_norm.weight f32      [  5120,     1,     1,     1 ]\n",
      "llama_model_loader: - tensor  249:             blk.27.attn_k.weight q4_0     [  5120,  5120,     1,     1 ]\n",
      "llama_model_loader: - tensor  250:        blk.27.attn_output.weight q4_0     [  5120,  5120,     1,     1 ]\n",
      "llama_model_loader: - tensor  251:             blk.27.attn_q.weight q4_0     [  5120,  5120,     1,     1 ]\n",
      "llama_model_loader: - tensor  252:             blk.27.attn_v.weight q4_0     [  5120,  5120,     1,     1 ]\n",
      "llama_model_loader: - tensor  253:          blk.28.attn_norm.weight f32      [  5120,     1,     1,     1 ]\n",
      "llama_model_loader: - tensor  254:           blk.28.ffn_down.weight q4_0     [ 13824,  5120,     1,     1 ]\n",
      "llama_model_loader: - tensor  255:           blk.28.ffn_gate.weight q4_0     [  5120, 13824,     1,     1 ]\n",
      "llama_model_loader: - tensor  256:             blk.28.ffn_up.weight q4_0     [  5120, 13824,     1,     1 ]\n",
      "llama_model_loader: - tensor  257:           blk.28.ffn_norm.weight f32      [  5120,     1,     1,     1 ]\n",
      "llama_model_loader: - tensor  258:             blk.28.attn_k.weight q4_0     [  5120,  5120,     1,     1 ]\n",
      "llama_model_loader: - tensor  259:        blk.28.attn_output.weight q4_0     [  5120,  5120,     1,     1 ]\n",
      "llama_model_loader: - tensor  260:             blk.28.attn_q.weight q4_0     [  5120,  5120,     1,     1 ]\n",
      "llama_model_loader: - tensor  261:             blk.28.attn_v.weight q4_0     [  5120,  5120,     1,     1 ]\n",
      "llama_model_loader: - tensor  262:          blk.29.attn_norm.weight f32      [  5120,     1,     1,     1 ]\n",
      "llama_model_loader: - tensor  263:           blk.29.ffn_down.weight q4_0     [ 13824,  5120,     1,     1 ]\n",
      "llama_model_loader: - tensor  264:           blk.29.ffn_gate.weight q4_0     [  5120, 13824,     1,     1 ]\n",
      "llama_model_loader: - tensor  265:             blk.29.ffn_up.weight q4_0     [  5120, 13824,     1,     1 ]\n",
      "llama_model_loader: - tensor  266:           blk.29.ffn_norm.weight f32      [  5120,     1,     1,     1 ]\n",
      "llama_model_loader: - tensor  267:             blk.29.attn_k.weight q4_0     [  5120,  5120,     1,     1 ]\n",
      "llama_model_loader: - tensor  268:        blk.29.attn_output.weight q4_0     [  5120,  5120,     1,     1 ]\n",
      "llama_model_loader: - tensor  269:             blk.29.attn_q.weight q4_0     [  5120,  5120,     1,     1 ]\n",
      "llama_model_loader: - tensor  270:             blk.29.attn_v.weight q4_0     [  5120,  5120,     1,     1 ]\n",
      "llama_model_loader: - tensor  271:           blk.30.ffn_gate.weight q4_0     [  5120, 13824,     1,     1 ]\n",
      "llama_model_loader: - tensor  272:             blk.30.ffn_up.weight q4_0     [  5120, 13824,     1,     1 ]\n",
      "llama_model_loader: - tensor  273:             blk.30.attn_k.weight q4_0     [  5120,  5120,     1,     1 ]\n",
      "llama_model_loader: - tensor  274:        blk.30.attn_output.weight q4_0     [  5120,  5120,     1,     1 ]\n",
      "llama_model_loader: - tensor  275:             blk.30.attn_q.weight q4_0     [  5120,  5120,     1,     1 ]\n",
      "llama_model_loader: - tensor  276:             blk.30.attn_v.weight q4_0     [  5120,  5120,     1,     1 ]\n",
      "llama_model_loader: - tensor  277:                    output.weight q6_K     [  5120, 32000,     1,     1 ]\n",
      "llama_model_loader: - tensor  278:          blk.30.attn_norm.weight f32      [  5120,     1,     1,     1 ]\n",
      "llama_model_loader: - tensor  279:           blk.30.ffn_down.weight q4_0     [ 13824,  5120,     1,     1 ]\n",
      "llama_model_loader: - tensor  280:           blk.30.ffn_norm.weight f32      [  5120,     1,     1,     1 ]\n",
      "llama_model_loader: - tensor  281:          blk.31.attn_norm.weight f32      [  5120,     1,     1,     1 ]\n",
      "llama_model_loader: - tensor  282:           blk.31.ffn_down.weight q4_0     [ 13824,  5120,     1,     1 ]\n",
      "llama_model_loader: - tensor  283:           blk.31.ffn_gate.weight q4_0     [  5120, 13824,     1,     1 ]\n",
      "llama_model_loader: - tensor  284:             blk.31.ffn_up.weight q4_0     [  5120, 13824,     1,     1 ]\n",
      "llama_model_loader: - tensor  285:           blk.31.ffn_norm.weight f32      [  5120,     1,     1,     1 ]\n",
      "llama_model_loader: - tensor  286:             blk.31.attn_k.weight q4_0     [  5120,  5120,     1,     1 ]\n",
      "llama_model_loader: - tensor  287:        blk.31.attn_output.weight q4_0     [  5120,  5120,     1,     1 ]\n",
      "llama_model_loader: - tensor  288:             blk.31.attn_q.weight q4_0     [  5120,  5120,     1,     1 ]\n",
      "llama_model_loader: - tensor  289:             blk.31.attn_v.weight q4_0     [  5120,  5120,     1,     1 ]\n",
      "llama_model_loader: - tensor  290:          blk.32.attn_norm.weight f32      [  5120,     1,     1,     1 ]\n",
      "llama_model_loader: - tensor  291:           blk.32.ffn_down.weight q4_0     [ 13824,  5120,     1,     1 ]\n",
      "llama_model_loader: - tensor  292:           blk.32.ffn_gate.weight q4_0     [  5120, 13824,     1,     1 ]\n",
      "llama_model_loader: - tensor  293:             blk.32.ffn_up.weight q4_0     [  5120, 13824,     1,     1 ]\n",
      "llama_model_loader: - tensor  294:           blk.32.ffn_norm.weight f32      [  5120,     1,     1,     1 ]\n",
      "llama_model_loader: - tensor  295:             blk.32.attn_k.weight q4_0     [  5120,  5120,     1,     1 ]\n",
      "llama_model_loader: - tensor  296:        blk.32.attn_output.weight q4_0     [  5120,  5120,     1,     1 ]\n",
      "llama_model_loader: - tensor  297:             blk.32.attn_q.weight q4_0     [  5120,  5120,     1,     1 ]\n",
      "llama_model_loader: - tensor  298:             blk.32.attn_v.weight q4_0     [  5120,  5120,     1,     1 ]\n",
      "llama_model_loader: - tensor  299:          blk.33.attn_norm.weight f32      [  5120,     1,     1,     1 ]\n",
      "llama_model_loader: - tensor  300:           blk.33.ffn_down.weight q4_0     [ 13824,  5120,     1,     1 ]\n",
      "llama_model_loader: - tensor  301:           blk.33.ffn_gate.weight q4_0     [  5120, 13824,     1,     1 ]\n",
      "llama_model_loader: - tensor  302:             blk.33.ffn_up.weight q4_0     [  5120, 13824,     1,     1 ]\n",
      "llama_model_loader: - tensor  303:           blk.33.ffn_norm.weight f32      [  5120,     1,     1,     1 ]\n",
      "llama_model_loader: - tensor  304:             blk.33.attn_k.weight q4_0     [  5120,  5120,     1,     1 ]\n",
      "llama_model_loader: - tensor  305:        blk.33.attn_output.weight q4_0     [  5120,  5120,     1,     1 ]\n",
      "llama_model_loader: - tensor  306:             blk.33.attn_q.weight q4_0     [  5120,  5120,     1,     1 ]\n",
      "llama_model_loader: - tensor  307:             blk.33.attn_v.weight q4_0     [  5120,  5120,     1,     1 ]\n",
      "llama_model_loader: - tensor  308:          blk.34.attn_norm.weight f32      [  5120,     1,     1,     1 ]\n",
      "llama_model_loader: - tensor  309:           blk.34.ffn_down.weight q4_0     [ 13824,  5120,     1,     1 ]\n",
      "llama_model_loader: - tensor  310:           blk.34.ffn_gate.weight q4_0     [  5120, 13824,     1,     1 ]\n",
      "llama_model_loader: - tensor  311:             blk.34.ffn_up.weight q4_0     [  5120, 13824,     1,     1 ]\n",
      "llama_model_loader: - tensor  312:           blk.34.ffn_norm.weight f32      [  5120,     1,     1,     1 ]\n",
      "llama_model_loader: - tensor  313:             blk.34.attn_k.weight q4_0     [  5120,  5120,     1,     1 ]\n",
      "llama_model_loader: - tensor  314:        blk.34.attn_output.weight q4_0     [  5120,  5120,     1,     1 ]\n",
      "llama_model_loader: - tensor  315:             blk.34.attn_q.weight q4_0     [  5120,  5120,     1,     1 ]\n",
      "llama_model_loader: - tensor  316:             blk.34.attn_v.weight q4_0     [  5120,  5120,     1,     1 ]\n",
      "llama_model_loader: - tensor  317:          blk.35.attn_norm.weight f32      [  5120,     1,     1,     1 ]\n",
      "llama_model_loader: - tensor  318:           blk.35.ffn_down.weight q4_0     [ 13824,  5120,     1,     1 ]\n",
      "llama_model_loader: - tensor  319:           blk.35.ffn_gate.weight q4_0     [  5120, 13824,     1,     1 ]\n",
      "llama_model_loader: - tensor  320:             blk.35.ffn_up.weight q4_0     [  5120, 13824,     1,     1 ]\n",
      "llama_model_loader: - tensor  321:           blk.35.ffn_norm.weight f32      [  5120,     1,     1,     1 ]\n",
      "llama_model_loader: - tensor  322:             blk.35.attn_k.weight q4_0     [  5120,  5120,     1,     1 ]\n",
      "llama_model_loader: - tensor  323:        blk.35.attn_output.weight q4_0     [  5120,  5120,     1,     1 ]\n",
      "llama_model_loader: - tensor  324:             blk.35.attn_q.weight q4_0     [  5120,  5120,     1,     1 ]\n",
      "llama_model_loader: - tensor  325:             blk.35.attn_v.weight q4_0     [  5120,  5120,     1,     1 ]\n",
      "llama_model_loader: - tensor  326:          blk.36.attn_norm.weight f32      [  5120,     1,     1,     1 ]\n",
      "llama_model_loader: - tensor  327:           blk.36.ffn_down.weight q4_0     [ 13824,  5120,     1,     1 ]\n",
      "llama_model_loader: - tensor  328:           blk.36.ffn_gate.weight q4_0     [  5120, 13824,     1,     1 ]\n",
      "llama_model_loader: - tensor  329:             blk.36.ffn_up.weight q4_0     [  5120, 13824,     1,     1 ]\n",
      "llama_model_loader: - tensor  330:           blk.36.ffn_norm.weight f32      [  5120,     1,     1,     1 ]\n",
      "llama_model_loader: - tensor  331:             blk.36.attn_k.weight q4_0     [  5120,  5120,     1,     1 ]\n",
      "llama_model_loader: - tensor  332:        blk.36.attn_output.weight q4_0     [  5120,  5120,     1,     1 ]\n",
      "llama_model_loader: - tensor  333:             blk.36.attn_q.weight q4_0     [  5120,  5120,     1,     1 ]\n",
      "llama_model_loader: - tensor  334:             blk.36.attn_v.weight q4_0     [  5120,  5120,     1,     1 ]\n",
      "llama_model_loader: - tensor  335:          blk.37.attn_norm.weight f32      [  5120,     1,     1,     1 ]\n",
      "llama_model_loader: - tensor  336:           blk.37.ffn_down.weight q4_0     [ 13824,  5120,     1,     1 ]\n",
      "llama_model_loader: - tensor  337:           blk.37.ffn_gate.weight q4_0     [  5120, 13824,     1,     1 ]\n",
      "llama_model_loader: - tensor  338:             blk.37.ffn_up.weight q4_0     [  5120, 13824,     1,     1 ]\n",
      "llama_model_loader: - tensor  339:           blk.37.ffn_norm.weight f32      [  5120,     1,     1,     1 ]\n",
      "llama_model_loader: - tensor  340:             blk.37.attn_k.weight q4_0     [  5120,  5120,     1,     1 ]\n",
      "llama_model_loader: - tensor  341:        blk.37.attn_output.weight q4_0     [  5120,  5120,     1,     1 ]\n",
      "llama_model_loader: - tensor  342:             blk.37.attn_q.weight q4_0     [  5120,  5120,     1,     1 ]\n",
      "llama_model_loader: - tensor  343:             blk.37.attn_v.weight q4_0     [  5120,  5120,     1,     1 ]\n",
      "llama_model_loader: - tensor  344:          blk.38.attn_norm.weight f32      [  5120,     1,     1,     1 ]\n",
      "llama_model_loader: - tensor  345:           blk.38.ffn_down.weight q4_0     [ 13824,  5120,     1,     1 ]\n",
      "llama_model_loader: - tensor  346:           blk.38.ffn_gate.weight q4_0     [  5120, 13824,     1,     1 ]\n",
      "llama_model_loader: - tensor  347:             blk.38.ffn_up.weight q4_0     [  5120, 13824,     1,     1 ]\n",
      "llama_model_loader: - tensor  348:           blk.38.ffn_norm.weight f32      [  5120,     1,     1,     1 ]\n",
      "llama_model_loader: - tensor  349:             blk.38.attn_k.weight q4_0     [  5120,  5120,     1,     1 ]\n",
      "llama_model_loader: - tensor  350:        blk.38.attn_output.weight q4_0     [  5120,  5120,     1,     1 ]\n",
      "llama_model_loader: - tensor  351:             blk.38.attn_q.weight q4_0     [  5120,  5120,     1,     1 ]\n",
      "llama_model_loader: - tensor  352:             blk.38.attn_v.weight q4_0     [  5120,  5120,     1,     1 ]\n",
      "llama_model_loader: - tensor  353:          blk.39.attn_norm.weight f32      [  5120,     1,     1,     1 ]\n",
      "llama_model_loader: - tensor  354:           blk.39.ffn_down.weight q4_0     [ 13824,  5120,     1,     1 ]\n",
      "llama_model_loader: - tensor  355:           blk.39.ffn_gate.weight q4_0     [  5120, 13824,     1,     1 ]\n",
      "llama_model_loader: - tensor  356:             blk.39.ffn_up.weight q4_0     [  5120, 13824,     1,     1 ]\n",
      "llama_model_loader: - tensor  357:           blk.39.ffn_norm.weight f32      [  5120,     1,     1,     1 ]\n",
      "llama_model_loader: - tensor  358:             blk.39.attn_k.weight q4_0     [  5120,  5120,     1,     1 ]\n",
      "llama_model_loader: - tensor  359:        blk.39.attn_output.weight q4_0     [  5120,  5120,     1,     1 ]\n",
      "llama_model_loader: - tensor  360:             blk.39.attn_q.weight q4_0     [  5120,  5120,     1,     1 ]\n",
      "llama_model_loader: - tensor  361:             blk.39.attn_v.weight q4_0     [  5120,  5120,     1,     1 ]\n",
      "llama_model_loader: - tensor  362:               output_norm.weight f32      [  5120,     1,     1,     1 ]\n",
      "llama_model_loader: - kv   0:                       general.architecture str     \n",
      "llama_model_loader: - kv   1:                               general.name str     \n",
      "llama_model_loader: - kv   2:                       llama.context_length u32     \n",
      "llama_model_loader: - kv   3:                     llama.embedding_length u32     \n",
      "llama_model_loader: - kv   4:                          llama.block_count u32     \n",
      "llama_model_loader: - kv   5:                  llama.feed_forward_length u32     \n",
      "llama_model_loader: - kv   6:                 llama.rope.dimension_count u32     \n",
      "llama_model_loader: - kv   7:                 llama.attention.head_count u32     \n",
      "llama_model_loader: - kv   8:              llama.attention.head_count_kv u32     \n",
      "llama_model_loader: - kv   9:     llama.attention.layer_norm_rms_epsilon f32     \n",
      "llama_model_loader: - kv  10:                          general.file_type u32     \n",
      "llama_model_loader: - kv  11:                       tokenizer.ggml.model str     \n",
      "llama_model_loader: - kv  12:                      tokenizer.ggml.tokens arr     \n",
      "llama_model_loader: - kv  13:                      tokenizer.ggml.scores arr     \n",
      "llama_model_loader: - kv  14:                  tokenizer.ggml.token_type arr     \n",
      "llama_model_loader: - kv  15:                tokenizer.ggml.bos_token_id u32     \n",
      "llama_model_loader: - kv  16:                tokenizer.ggml.eos_token_id u32     \n",
      "llama_model_loader: - kv  17:            tokenizer.ggml.unknown_token_id u32     \n",
      "llama_model_loader: - kv  18:               general.quantization_version u32     \n",
      "llama_model_loader: - type  f32:   81 tensors\n",
      "llama_model_loader: - type q4_0:  281 tensors\n",
      "llama_model_loader: - type q6_K:    1 tensors\n",
      "llm_load_vocab: special tokens definition check successful ( 259/32000 ).\n",
      "llm_load_print_meta: format           = GGUF V2\n",
      "llm_load_print_meta: arch             = llama\n",
      "llm_load_print_meta: vocab type       = SPM\n",
      "llm_load_print_meta: n_vocab          = 32000\n",
      "llm_load_print_meta: n_merges         = 0\n",
      "llm_load_print_meta: n_ctx_train      = 4096\n",
      "llm_load_print_meta: n_embd           = 5120\n",
      "llm_load_print_meta: n_head           = 40\n",
      "llm_load_print_meta: n_head_kv        = 40\n",
      "llm_load_print_meta: n_layer          = 40\n",
      "llm_load_print_meta: n_rot            = 128\n",
      "llm_load_print_meta: n_gqa            = 1\n",
      "llm_load_print_meta: f_norm_eps       = 0.0e+00\n",
      "llm_load_print_meta: f_norm_rms_eps   = 1.0e-05\n",
      "llm_load_print_meta: f_clamp_kqv      = 0.0e+00\n",
      "llm_load_print_meta: f_max_alibi_bias = 0.0e+00\n",
      "llm_load_print_meta: n_ff             = 13824\n",
      "llm_load_print_meta: rope scaling     = linear\n",
      "llm_load_print_meta: freq_base_train  = 10000.0\n",
      "llm_load_print_meta: freq_scale_train = 1\n",
      "llm_load_print_meta: n_yarn_orig_ctx  = 4096\n",
      "llm_load_print_meta: rope_finetuned   = unknown\n",
      "llm_load_print_meta: model type       = 13B\n",
      "llm_load_print_meta: model ftype      = mostly Q4_0\n",
      "llm_load_print_meta: model params     = 13.02 B\n",
      "llm_load_print_meta: model size       = 6.86 GiB (4.53 BPW) \n",
      "llm_load_print_meta: general.name   = LLaMA v2\n",
      "llm_load_print_meta: BOS token = 1 '<s>'\n",
      "llm_load_print_meta: EOS token = 2 '</s>'\n",
      "llm_load_print_meta: UNK token = 0 '<unk>'\n",
      "llm_load_print_meta: LF token  = 13 '<0x0A>'\n",
      "llm_load_tensors: ggml ctx size =    0.13 MB\n",
      "llm_load_tensors: mem required  = 7024.03 MB\n",
      "...................................................................................................\n",
      "llama_new_context_with_model: n_ctx      = 3900\n",
      "llama_new_context_with_model: freq_base  = 10000.0\n",
      "llama_new_context_with_model: freq_scale = 1\n",
      "llama_new_context_with_model: kv self size  = 3046.88 MB\n",
      "llama_build_graph: non-view tensors processed: 924/924\n",
      "ggml_metal_init: allocating\n",
      "ggml_metal_init: found device: Apple M1 Pro\n",
      "ggml_metal_init: picking default device: Apple M1 Pro\n",
      "ggml_metal_init: default.metallib not found, loading from source\n",
      "ggml_metal_init: loading '/Users/richy/.pyenv/versions/3.8.10/envs/llm/lib/python3.8/site-packages/llama_cpp/ggml-metal.metal'\n",
      "ggml_metal_init: GPU name:   Apple M1 Pro\n",
      "ggml_metal_init: GPU family: MTLGPUFamilyApple7 (1007)\n",
      "ggml_metal_init: hasUnifiedMemory              = true\n",
      "ggml_metal_init: recommendedMaxWorkingSetSize  = 10922.67 MB\n",
      "ggml_metal_init: maxTransferRate               = built-in GPU\n",
      "llama_new_context_with_model: compute buffer total size = 348.93 MB\n",
      "llama_new_context_with_model: max tensor size =   128.17 MB\n",
      "ggml_metal_add_buffer: allocated 'data            ' buffer, size =  7024.61 MB, ( 8081.25 / 10922.67)\n",
      "ggml_metal_add_buffer: allocated 'kv              ' buffer, size =  3046.89 MB, (11128.14 / 10922.67), warning: current allocated size is greater than the recommended max working set size\n",
      "ggml_metal_add_buffer: allocated 'alloc           ' buffer, size =   342.31 MB, (11470.45 / 10922.67), warning: current allocated size is greater than the recommended max working set size\n",
      "AVX = 0 | AVX2 = 0 | AVX512 = 0 | AVX512_VBMI = 0 | AVX512_VNNI = 0 | FMA = 0 | NEON = 1 | ARM_FMA = 1 | F16C = 0 | FP16_VA = 1 | WASM_SIMD = 0 | BLAS = 1 | SSE3 = 0 | SSSE3 = 0 | VSX = 0 | \n"
     ]
    }
   ],
   "source": [
    "from llama_index.llms import LlamaCPP\n",
    "\n",
    "# model_url = \"https://huggingface.co/TheBloke/Llama-2-13B-chat-GGML/resolve/main/llama-2-13b-chat.ggmlv3.q4_0.bin\"\n",
    "model_url = \"https://huggingface.co/TheBloke/Llama-2-13B-chat-GGUF/resolve/main/llama-2-13b-chat.Q4_0.gguf\"\n",
    "\n",
    "llm = LlamaCPP(\n",
    "    # You can pass in the URL to a GGML model to download it automatically\n",
    "    model_url=model_url,\n",
    "    # optionally, you can set the path to a pre-downloaded model instead of model_url\n",
    "    model_path=None,\n",
    "    temperature=0.1,\n",
    "    max_new_tokens=256,\n",
    "    # llama2 has a context window of 4096 tokens, but we set it lower to allow for some wiggle room\n",
    "    context_window=3900,\n",
    "    # kwargs to pass to __call__()\n",
    "    generate_kwargs={},\n",
    "    # kwargs to pass to __init__()\n",
    "    # set to at least 1 to use GPU\n",
    "    model_kwargs={\"n_gpu_layers\": 1},\n",
    "    verbose=True,\n",
    ")"
   ]
  },
  {
   "cell_type": "markdown",
   "id": "3273ff8e-7b9a-427a-ad1d-aa3099e9d9b8",
   "metadata": {
    "id": "3273ff8e-7b9a-427a-ad1d-aa3099e9d9b8"
   },
   "source": [
    "#### Define Service Context"
   ]
  },
  {
   "cell_type": "code",
   "execution_count": 3,
   "id": "1746a171-5b20-4853-8574-71f1547bce30",
   "metadata": {
    "id": "1746a171-5b20-4853-8574-71f1547bce30"
   },
   "outputs": [],
   "source": [
    "from llama_index import ServiceContext\n",
    "\n",
    "service_context = ServiceContext.from_defaults(\n",
    "    llm=llm, embed_model=embed_model\n",
    ")"
   ]
  },
  {
   "cell_type": "markdown",
   "id": "ba02cfe2-8b51-4e01-a840-d6508c76ade3",
   "metadata": {
    "id": "ba02cfe2-8b51-4e01-a840-d6508c76ade3"
   },
   "source": [
    "#### Initialize Postgres\n",
    "\n",
    "Using an existing postgres running at localhost, create the database we'll be using.\n",
    "\n",
    "**NOTE**: Of course there are plenty of other open-source/self-hosted databases you can use! e.g. Chroma, Qdrant, Weaviate, and many more. Take a look at our [vector store guide](https://gpt-index.readthedocs.io/en/stable/core_modules/data_modules/storage/vector_stores.html).\n",
    "\n",
    "**NOTE**: You will need to setup postgres on your local system. Here's an example of how to set it up on OSX: https://www.sqlshack.com/setting-up-a-postgresql-database-on-mac/.\n",
    "\n",
    "**NOTE**: You will also need to install pgvector (https://github.com/pgvector/pgvector).\n",
    "\n",
    "You can add a role like the following:\n",
    "```\n",
    "CREATE ROLE <user> WITH LOGIN PASSWORD '<password>';\n",
    "ALTER ROLE <user> SUPERUSER;\n",
    "```"
   ]
  },
  {
   "cell_type": "code",
   "execution_count": 77,
   "id": "8e730f40-5aa4-4e89-b4ff-26d84183dfed",
   "metadata": {
    "id": "8e730f40-5aa4-4e89-b4ff-26d84183dfed"
   },
   "outputs": [],
   "source": [
    "import psycopg2\n",
    "\n",
    "db_name = \"vector_db\"\n",
    "host = \"localhost\"\n",
    "password = \"123\"\n",
    "port = \"5432\"\n",
    "user = \"richyc\"\n",
    "# conn = psycopg2.connect(connection_string)\n",
    "conn = psycopg2.connect(\n",
    "    dbname=\"postgres\",\n",
    "    host=host,\n",
    "    password=password,\n",
    "    port=port,\n",
    "    user=user,\n",
    ")\n",
    "conn.autocommit = True\n",
    "\n",
    "with conn.cursor() as c:\n",
    "    c.execute(f\"DROP DATABASE IF EXISTS {db_name}\")\n",
    "    c.execute(f\"CREATE DATABASE {db_name}\")"
   ]
  },
  {
   "cell_type": "code",
   "execution_count": 88,
   "id": "6ba2d25a-a0aa-4d11-93b0-6288dc008148",
   "metadata": {
    "id": "6ba2d25a-a0aa-4d11-93b0-6288dc008148"
   },
   "outputs": [],
   "source": [
    "from sqlalchemy import make_url\n",
    "from llama_index.vector_stores import PGVectorStore\n",
    "\n",
    "vector_store = PGVectorStore.from_params(\n",
    "    database=db_name,\n",
    "    host=host,\n",
    "    password=password,\n",
    "    port=port,\n",
    "    user=user,\n",
    "    table_name=\"llama2_paper\",\n",
    "    embed_dim=384,  # openai embedding dimension\n",
    ")"
   ]
  },
  {
   "cell_type": "markdown",
   "id": "e65e0a69-0668-4df4-a809-71f38695cfea",
   "metadata": {
    "id": "e65e0a69-0668-4df4-a809-71f38695cfea"
   },
   "source": [
    "## Build an Ingestion Pipeline from Scratch\n",
    "\n",
    "We show how to build an ingestion pipeline as mentioned in the introduction.\n",
    "\n",
    "We fast-track the steps here (can skip metadata extraction). More details can be found [in our dedicated ingestion guide](https://gpt-index.readthedocs.io/en/latest/examples/low_level/ingestion.html)."
   ]
  },
  {
   "cell_type": "markdown",
   "id": "48febfa0-6a5a-44c9-900e-4316c35d8e81",
   "metadata": {
    "id": "48febfa0-6a5a-44c9-900e-4316c35d8e81"
   },
   "source": [
    "### 1. Load Data"
   ]
  },
  {
   "cell_type": "code",
   "execution_count": 79,
   "id": "c99ea359-6bc8-4489-a595-a6278503d91d",
   "metadata": {},
   "outputs": [
    {
     "name": "stderr",
     "output_type": "stream",
     "text": [
      "huggingface/tokenizers: The current process just got forked, after parallelism has already been used. Disabling parallelism to avoid deadlocks...\n",
      "To disable this warning, you can either:\n",
      "\t- Avoid using `tokenizers` before the fork if possible\n",
      "\t- Explicitly set the environment variable TOKENIZERS_PARALLELISM=(true | false)\n"
     ]
    },
    {
     "name": "stdout",
     "output_type": "stream",
     "text": [
      "Requirement already satisfied: nest_asyncio in /Users/richy/.pyenv/versions/3.8.10/envs/llm/lib/python3.8/site-packages (1.5.8)\n"
     ]
    }
   ],
   "source": [
    "!pip install nest_asyncio"
   ]
  },
  {
   "cell_type": "code",
   "execution_count": 80,
   "id": "640fcc02-0d50-4443-b8c7-f3953e006461",
   "metadata": {
    "id": "640fcc02-0d50-4443-b8c7-f3953e006461"
   },
   "outputs": [],
   "source": [
    "from llama_index import download_loader\n",
    "import nest_asyncio\n",
    "nest_asyncio.apply()\n",
    "\n",
    "AsyncWebPageReader = download_loader(\"AsyncWebPageReader\")"
   ]
  },
  {
   "cell_type": "code",
   "execution_count": 81,
   "id": "d9c64ce4-b778-4f3b-bc7e-266e0e124308",
   "metadata": {
    "id": "d9c64ce4-b778-4f3b-bc7e-266e0e124308"
   },
   "outputs": [],
   "source": [
    "loader = AsyncWebPageReader()\n",
    "documents = loader.load_data(urls=['https://insurify.com/car-insurance'])"
   ]
  },
  {
   "cell_type": "markdown",
   "id": "9c001b7c-3e79-4d11-bd0e-dc774da25de1",
   "metadata": {
    "id": "9c001b7c-3e79-4d11-bd0e-dc774da25de1"
   },
   "source": [
    "### 2. Use a Text Splitter to Split Documents"
   ]
  },
  {
   "cell_type": "code",
   "execution_count": 82,
   "id": "c8125e1e-097a-4588-a65a-102dba5b8eff",
   "metadata": {
    "id": "c8125e1e-097a-4588-a65a-102dba5b8eff"
   },
   "outputs": [],
   "source": [
    "from llama_index.text_splitter import SentenceSplitter"
   ]
  },
  {
   "cell_type": "code",
   "execution_count": 83,
   "id": "f2519370-c907-4c46-9afb-a1295f69dbb0",
   "metadata": {
    "id": "f2519370-c907-4c46-9afb-a1295f69dbb0"
   },
   "outputs": [],
   "source": [
    "text_splitter = SentenceSplitter(\n",
    "    chunk_size=1024,\n",
    "    # separator=\" \",\n",
    ")"
   ]
  },
  {
   "cell_type": "code",
   "execution_count": 84,
   "id": "972b4008-eb9f-48e6-95c8-1328e231f98b",
   "metadata": {
    "id": "972b4008-eb9f-48e6-95c8-1328e231f98b"
   },
   "outputs": [],
   "source": [
    "text_chunks = []\n",
    "# maintain relationship with source doc index, to help inject doc metadata in (3)\n",
    "doc_idxs = []\n",
    "for doc_idx, doc in enumerate(documents):\n",
    "    cur_text_chunks = text_splitter.split_text(doc.text)\n",
    "    text_chunks.extend(cur_text_chunks)\n",
    "    doc_idxs.extend([doc_idx] * len(cur_text_chunks))"
   ]
  },
  {
   "cell_type": "markdown",
   "id": "5aaae403-d46e-450b-b19f-27ca66e28f1c",
   "metadata": {
    "id": "5aaae403-d46e-450b-b19f-27ca66e28f1c"
   },
   "source": [
    "### 3. Manually Construct Nodes from Text Chunks"
   ]
  },
  {
   "cell_type": "code",
   "execution_count": 85,
   "id": "ee261129-0f56-4672-9804-a38ea05244cb",
   "metadata": {
    "id": "ee261129-0f56-4672-9804-a38ea05244cb"
   },
   "outputs": [],
   "source": [
    "from llama_index.schema import TextNode\n",
    "\n",
    "nodes = []\n",
    "for idx, text_chunk in enumerate(text_chunks):\n",
    "    node = TextNode(\n",
    "        text=text_chunk,\n",
    "    )\n",
    "    src_doc = documents[doc_idxs[idx]]\n",
    "    node.metadata = src_doc.metadata\n",
    "    nodes.append(node)"
   ]
  },
  {
   "cell_type": "markdown",
   "id": "65eac30b-27ec-4206-947c-81104dc8babe",
   "metadata": {
    "id": "65eac30b-27ec-4206-947c-81104dc8babe"
   },
   "source": [
    "### 4. Generate Embeddings for each Node\n",
    "\n",
    "Here we generate embeddings for each Node using a sentence_transformers model."
   ]
  },
  {
   "cell_type": "code",
   "execution_count": 86,
   "id": "82ef7573-a608-420d-91ab-9fbf17af3e9d",
   "metadata": {
    "id": "82ef7573-a608-420d-91ab-9fbf17af3e9d"
   },
   "outputs": [],
   "source": [
    "for node in nodes:\n",
    "    node_embedding = embed_model.get_text_embedding(\n",
    "        node.get_content(metadata_mode=\"all\")\n",
    "    )\n",
    "    node.embedding = node_embedding"
   ]
  },
  {
   "cell_type": "markdown",
   "id": "e7fe354a-4f87-4b13-aae4-f7b7b1fe118e",
   "metadata": {
    "id": "e7fe354a-4f87-4b13-aae4-f7b7b1fe118e"
   },
   "source": [
    "### 5. Load Nodes into a Vector Store\n",
    "\n",
    "We now insert these nodes into our `PostgresVectorStore`.\n",
    "\n",
    "Note: if vector extension does not exist, run `brew install pgvector` and then `CREATE EXTENSION IF NOT EXISTS vector` in postgres."
   ]
  },
  {
   "cell_type": "code",
   "execution_count": 87,
   "id": "44add008-616b-4e47-8f61-553befeb7ca4",
   "metadata": {
    "id": "44add008-616b-4e47-8f61-553befeb7ca4",
    "scrolled": true
   },
   "outputs": [
    {
     "data": {
      "text/plain": [
       "['39fb6374-1ec6-4f9e-9dc4-01ee22b752e9',\n",
       " '570d9e42-66af-45df-95ba-b6bb23efce16',\n",
       " '994c63fd-451d-4995-9596-a46a0a5047a7',\n",
       " '5a135de6-f92a-462c-9390-9854149fb952',\n",
       " '45c7fe1c-a390-4c49-98c6-218c60e38145',\n",
       " '4485e964-f7a0-45da-832b-0316774bf1db',\n",
       " 'e0ec5d5a-051d-4bb3-bb03-ea5258a848fd',\n",
       " 'adb3ea1f-9185-4a47-b278-131e3aa3bab2',\n",
       " 'e35432ef-3fc2-456f-a6ce-5132a2c5f94c',\n",
       " '64606823-211b-4791-9322-a7d9caa6ae1b',\n",
       " 'bea3f04c-613c-49f8-aa01-1613c7aaa0d5',\n",
       " '05b7fc00-e2e4-4b33-be5e-64d876d0faab',\n",
       " '57599ee4-1c2c-4ca5-9de1-75229a27b5ae',\n",
       " '02b88156-1358-499d-b62b-d8f78d3f7478',\n",
       " 'b03dc1b4-935e-41a6-8edd-513d975cdf31',\n",
       " '09c6c608-76d2-4696-ab9f-8766f8ac6462',\n",
       " 'fd005988-2114-4123-a47e-ccce11e77632',\n",
       " '10ed4b92-6741-4920-8023-e22353400bb3',\n",
       " '191a756d-48a9-443a-9ddf-da22335b9385',\n",
       " '80ba508c-3fb8-471f-bff4-816bf0edd48f',\n",
       " 'd6a712b4-85d5-403b-801e-0e1aa48850a0',\n",
       " 'a56d5dc0-db15-4501-8ca2-42af268ee42a',\n",
       " '56721c90-f793-4537-976b-1e2df6456953',\n",
       " 'a47bf8e2-f25f-4b6b-a9ec-1c78f52533cb',\n",
       " '56ba97a4-b086-4fdc-a297-fd268b55d81e',\n",
       " 'e4064c01-f6fa-4452-8241-5bdc339407e9',\n",
       " '3b2c1824-1b02-42e4-adce-4fe4674630c2',\n",
       " 'f2f7a85c-8530-4cf1-864c-a0446f4c8e31',\n",
       " 'aa3cdaba-2c76-4051-9552-2afa90a1da6f',\n",
       " 'f365ca83-aad2-45df-a6b7-9497ba6dcbde',\n",
       " 'dcbcbd2e-a226-4f29-8754-724015c74023',\n",
       " '4cd5d42a-7171-4c16-92d8-e28f03acef02',\n",
       " '756f91ea-baaa-4c2c-98c4-26dd8b635c62',\n",
       " '7c09f5e5-70e3-4a5a-8ad4-f45e2baa24a1',\n",
       " 'de9e0cd8-8fe6-4167-b138-b064fbdf3283',\n",
       " '2f1d296d-8fd9-415c-abcb-6d954eb739b6',\n",
       " 'e709b83f-3bb3-45b4-a5a8-ee096a3b7166',\n",
       " 'bc17476c-a9dc-436f-b973-a681c06caad4',\n",
       " '87c8eb6e-55c9-45b6-b53e-914c3b4acdaf',\n",
       " '7bbe45ef-cca9-4e30-aae7-9908f9d833f0',\n",
       " '1e03b9d1-b6fb-415f-b709-67b55b502b10',\n",
       " '134fab22-6333-4f98-92bd-31a509ae6038',\n",
       " 'eb93379b-c116-4b56-99a4-387202836c55',\n",
       " '88315242-7d15-4792-a649-63358bad60ba',\n",
       " 'b745a048-77a9-428c-be37-51f77c0b0309',\n",
       " '073cdf66-e182-4a25-aca7-0a27401d8b1c',\n",
       " 'ba162b29-1f37-4135-98a7-af20aa2662b2',\n",
       " '94d59900-3ccd-4706-9108-0a1be2935eb7',\n",
       " '87945372-6812-4264-87c5-6c5bd7df6fa3',\n",
       " 'a9ba1748-3ce3-4a89-81bc-0f18f7a41cfa',\n",
       " '1f1c9b62-f41f-4803-b56a-befadc823c04',\n",
       " '8eb7f120-2b53-4fe7-8f52-dc92e85e8cbc',\n",
       " 'e948b844-e78c-4039-85f2-5b04f518b491',\n",
       " '7a10118c-1296-42ec-ad1c-36be21273983',\n",
       " '9d450871-5f5b-4c93-975e-12df5b357a63',\n",
       " 'ad357539-979b-4b61-96f4-ffbef79ab1bc',\n",
       " '48e9647b-4b4b-412f-a8fa-ef122a7f683a',\n",
       " '9883d92b-b2a1-4737-b549-471a0d38c0b1',\n",
       " 'dfc2342d-d3fd-46e4-8133-5248b6404710',\n",
       " '14274dd3-c18c-4333-b5b8-385f093c5b44',\n",
       " 'a7a97813-966c-4435-a1cf-21882732021e',\n",
       " '29b074e2-14b4-4141-ab59-804b99400fb5',\n",
       " 'e6f9ed5c-bc2b-45ae-80c8-076fc4ca8d43',\n",
       " '80c4ec8c-7189-4bb2-91d6-5c08d894eddc',\n",
       " '6a912e6b-3ff7-4026-984f-ed69af81fe8b',\n",
       " '097353a8-9086-4ade-8344-07cc2f8c9d6d',\n",
       " '5f2817e2-66c0-42be-bce5-ad191bd02c91',\n",
       " 'b4918774-d7bb-4866-a1cd-7cd2389d524d',\n",
       " '6c534c6f-3070-489f-8b1a-c2d066d79b6d',\n",
       " '0c1d0126-4413-413d-a05b-aa08c739f746',\n",
       " '1e7627c8-5ad7-40f1-b61d-54a87813dac6',\n",
       " '17e330c9-8dc9-480b-a79f-a7069f5a01cc',\n",
       " '0b5a1685-6b80-4f6a-b309-b0daa2467e74',\n",
       " '794313d7-db7b-46bb-8508-4fb99d105b9b',\n",
       " 'f0ced9c9-5689-4498-8b88-babaa96fd424',\n",
       " '9a6ee643-50e6-4231-83e8-cd6bb7c74748',\n",
       " '456f247c-f4f8-49b9-8832-985b4a55d618',\n",
       " 'cbfdfc60-9564-4e50-8122-4755340befac',\n",
       " 'e64ef7b3-9f3a-4a47-b616-85dfccc55a7e',\n",
       " 'cd24713e-7ddf-494e-b8fe-21777bfbf0af',\n",
       " '21d99ccf-9bcc-4790-a6e1-a03b4bdba7e4',\n",
       " '4f996ca8-5031-4bc3-8b2c-070b0b218497',\n",
       " 'fb965b8d-3d39-482c-9758-e6db3dd5a63d',\n",
       " 'd14994f5-961c-4b14-aa3d-ee1d4c98281b',\n",
       " '484f2e54-0e9c-4a30-866d-f5fc19f63d38',\n",
       " 'f8de4358-3f3a-46a4-b28a-d8561db6a845',\n",
       " '38bb8de7-51ed-4af7-9066-1aa498ac782c',\n",
       " '4591edec-b5e2-4069-9ab7-676b7e532586',\n",
       " 'cbe6e5b6-1ecd-4a34-95bb-554d02b9d744',\n",
       " '6e104a50-c8ae-402b-8076-934d7f957e1c',\n",
       " 'dc6bafb8-d794-426a-b327-2a7bf308d4cd',\n",
       " '971154de-5d2e-48e3-822f-47e2bf5a3d88',\n",
       " 'cc592ccd-7368-46d2-a8c2-6cfa4e062445',\n",
       " '32353c09-e415-4650-87e6-6a584a3d78a1',\n",
       " 'b62c88a1-78c8-4589-8b6b-fb7303dfac53',\n",
       " 'a13b3157-1282-4a4e-aa68-98e528eb6438',\n",
       " 'ae0d928c-b0d8-4214-9703-643d4d058097',\n",
       " 'e0861bcc-6811-466d-96a4-b798cba820c8',\n",
       " 'd8e4f0dd-839f-4823-91f4-dc8eef7ea2d8',\n",
       " 'bb484233-34ea-436d-a07b-30200d02810f',\n",
       " '51dd117a-af1c-47a5-8638-c05de40e4e09',\n",
       " '68b439cb-bea9-434e-b87e-3c9b6d146ef5',\n",
       " '40bd309b-24f3-4f06-9215-337478299c54',\n",
       " 'a45c1ab6-4daf-4025-ac38-5a9f1fc570c2',\n",
       " '622af9ae-0b50-43b2-bda8-96fef35e0c14',\n",
       " '0bb64bb9-3d12-4915-9e24-a270545a572a',\n",
       " '0c8c0bf6-3c2c-4e9b-b168-676779dc401d',\n",
       " '2af91a6a-84c2-4c21-9c36-13fffa5a463b',\n",
       " '5fc8e8e0-0d39-49ea-b43f-af42e308a9d4',\n",
       " 'c0b1912e-c439-4f8b-86a8-749e697c0c85',\n",
       " '53b121f2-ac4c-4812-9596-5a97a7c53148',\n",
       " '57d5efb2-9414-4067-a7b5-5b33e25b8681',\n",
       " 'd79ea2ec-b9a6-450b-87fb-5e969e3af4c9',\n",
       " '37134b04-22ed-4599-93f5-632da5d87825',\n",
       " '4342bbfe-6b78-4f6f-821a-53b12b4a603a',\n",
       " 'edf4a383-5d7a-4df5-9fb5-bb1d617f7fdb',\n",
       " '50604806-0d21-4315-a942-d51bdd29c608',\n",
       " '9ca40ea5-9dca-458d-a2e9-eb60248f6b8b',\n",
       " '92cc5081-2775-40a5-ba84-7bde0f4bcb7d',\n",
       " '7ee29479-a4fe-4368-a26a-039243d9a96e',\n",
       " '54579fb0-89ea-4582-8c00-f889f25b359d',\n",
       " '88371fc1-71b2-407c-8459-0787baac0caa',\n",
       " '191c2a64-ed85-4738-a4dc-5f2f3f64cc05',\n",
       " '97621358-a0ac-4573-876d-d282f26f484d',\n",
       " '09ac3a2a-5dbf-4bae-9409-e237d514f3af',\n",
       " 'b1ccf5cd-692e-4ecd-93e9-66c65404af3d',\n",
       " '7e4efc65-fe6b-4730-b572-e9904a176086',\n",
       " 'c33c8bd2-7fef-4ff3-9e7d-e08a1dc17692',\n",
       " '8e336de2-129f-4d11-95aa-226ac2c4ef8d',\n",
       " '8548cbe8-6e5e-4d84-8a6f-12e6ca44d4b1',\n",
       " 'f9c97d96-8508-4392-88d5-b31be036b518',\n",
       " 'a8986249-99b7-4890-af79-bb06105dae2d',\n",
       " 'e79f96cd-cd22-4187-ad19-31c36813e237',\n",
       " '4c1cf76a-5492-4d3d-9b1d-2130a021807b',\n",
       " '0123b5f8-674e-4f37-aedd-64765cbc45c9',\n",
       " 'a49d6f5f-a369-430a-a3aa-8e71b7bb83d6',\n",
       " 'c872d82b-f1df-4e45-a15c-2c9cb34d5d87',\n",
       " 'c2869238-c73e-4beb-af1d-c434d19c2c1b',\n",
       " 'aa4b62f2-c489-403d-abb5-f46e0d453631',\n",
       " '7e54f722-5e02-40dc-83ab-5afed2a86599',\n",
       " 'e19aabbb-5dac-4a64-ab9b-bdd979be4a92',\n",
       " '0ce07966-2c4b-4d66-bee2-60ce76b07c13',\n",
       " '480d5654-7174-4710-9446-020617d7d10a',\n",
       " '1c9779b3-456f-43f6-b54f-54ee890a8083',\n",
       " 'b35e3791-2c83-44f4-b986-4e27dd79f0db',\n",
       " 'd80592f7-dfe3-401e-982f-34732665d828',\n",
       " '3b20acec-9798-49cb-8c94-dc685fea0f1e',\n",
       " 'ebd13651-83b3-4c73-8455-c167a5d7e36a',\n",
       " '055aa5ac-3edc-48bf-b078-d0bd49babe21',\n",
       " 'be5f5ded-326f-4f17-8192-ac4b0a869f05',\n",
       " '11498ddc-4f94-4640-94fd-dead09f51fd6',\n",
       " '19b85242-b094-4366-9fe8-87b2efbbaa49',\n",
       " 'fae5363f-273e-406a-a019-fa7f6a4f8f67',\n",
       " '5e6d99a4-2aa3-4b1d-9195-b4be6863c44d',\n",
       " '1ea74245-a1c5-47a9-87a5-6333570444fe',\n",
       " '9c71f76b-892c-4bb6-9c6b-9cdcbfc62496',\n",
       " 'aacbbc6a-234e-4e94-b253-61f8d6ef8efa',\n",
       " '401122a7-d50d-4a0a-a334-1380b0a57d73',\n",
       " 'f3dc6a68-5c7f-43f7-b99c-94398a59e7f5',\n",
       " '256bcdf4-cf5d-45b7-af87-01459a692510',\n",
       " 'c4572376-cec0-47ff-8197-b604ac3a76bf',\n",
       " 'a93919ca-f5b9-4b3f-9d8b-f2c168e0639e',\n",
       " '565de2b3-6f52-44e3-a9a1-b8b15a7c3232',\n",
       " '193443b1-8320-4b73-a5dd-4701735b5acf',\n",
       " '74b4dff5-c579-4efe-906e-3c011e100e29',\n",
       " '627a1e64-6d6d-4174-942d-2b1931efa11d',\n",
       " '32f9a1b0-7f35-4c49-85b9-bb557e6654a2',\n",
       " '7e95babc-7d2b-49b9-8ec0-187cb2ba4163',\n",
       " '812b136a-296f-48e4-ab86-65cbeed2f5df',\n",
       " '83def72b-fb16-4bb3-adfa-147714cb8bfa',\n",
       " '1d8d7d22-2f09-4ca5-a0cb-f369c3ece946',\n",
       " 'b62264db-3126-477f-b1b1-e23686a87229',\n",
       " '1a7b4262-a4cb-4d73-9f00-ed42716b1eed',\n",
       " '8b308bd7-405c-4ceb-93f2-c4a9aed9c522',\n",
       " 'c11564e2-ee7b-42d3-8ccd-30f7200cb2e1',\n",
       " '4de189c4-4ff5-4177-948b-d5329c643cd7',\n",
       " '71542a83-abc6-4485-be2f-efaf521945ef',\n",
       " '03f34d25-d92d-4f6d-abe1-161a71e6d6be',\n",
       " '4477e08e-f599-44bf-ae88-d7b7199887bd',\n",
       " 'f839c142-7024-4ce2-a0f9-7137c7e80312',\n",
       " '8ceb14b5-320b-4e9c-8ded-6d21fb7717e0',\n",
       " '2bd29797-dfbe-44fb-bf57-ace8f346e69a',\n",
       " 'a58963ea-f010-4d9c-aab5-3dbbf6759109',\n",
       " '9493e84d-ac62-431c-bd9f-84afdbf1fe25',\n",
       " '48aa5660-5824-4030-9a3e-797a74859562',\n",
       " '584867a5-4ab9-47fe-b83e-b4cb74693efc',\n",
       " '838db97a-a9be-4f1d-be0d-c2aa56242296',\n",
       " '171375ee-bc04-4e9a-90ce-1e0714ee3a85',\n",
       " '39ebf529-b002-4a90-bc59-611ae5d34cf5',\n",
       " '109e6c69-2f58-4599-86aa-b4a95edc184b',\n",
       " '63d86be6-aa8d-4550-9728-92a683a8ba56',\n",
       " 'f7cb9d59-2d8b-4852-b6b1-143fec66ba77',\n",
       " '6c684079-db70-4f1c-bcb7-196e7f77f202',\n",
       " '11623ee4-f70e-4ea6-ab6e-9eba5da034b9',\n",
       " '9adcdaac-b2a3-475c-af30-5deb01ba1a0d',\n",
       " '5a451b19-372f-45c9-a0f0-cb7ed20f0800',\n",
       " '3412d8f1-e7f0-462a-be11-556e03e47bd7',\n",
       " 'c2fce73f-06ff-4737-a84d-10a70c52a8b8',\n",
       " '04682fcf-b5c3-4bc6-a400-5d87b67d54d1',\n",
       " 'e8fd2dd0-d60b-46d5-9509-bcd58aa263de',\n",
       " 'e2bfa212-7d9f-4bf2-ac10-606b6cdd642b',\n",
       " '63fcbc32-ff90-489a-9445-b63324e67f39',\n",
       " 'c5349d8d-fbf0-4708-953b-835a3d3c7ec4',\n",
       " '4b1ef7cc-2d25-49fc-8da1-daa5c5a49dbd',\n",
       " '9a997959-4049-4852-bae2-5e30f8b57651',\n",
       " '983ffc87-ef44-49fc-accd-e042bfe32d76',\n",
       " 'aaeb831b-f180-4a56-99b3-111731e1ca64',\n",
       " 'd911c15f-2fa9-482a-8e6e-ed85af21982c',\n",
       " 'cf3695b8-34db-4de4-acf7-3bf512691695',\n",
       " '147a62dc-b9b2-4c3a-ac23-c5dc15c26f04',\n",
       " '9932bc61-6494-4ba9-90c5-87533b22730c']"
      ]
     },
     "execution_count": 87,
     "metadata": {},
     "output_type": "execute_result"
    }
   ],
   "source": [
    "vector_store.add(nodes)"
   ]
  },
  {
   "cell_type": "markdown",
   "id": "d574a062-1900-4b74-be9a-6248ffb8bbbe",
   "metadata": {
    "id": "d574a062-1900-4b74-be9a-6248ffb8bbbe"
   },
   "source": [
    "## Build Retrieval Pipeline from Scratch\n",
    "\n",
    "We show how to build a retrieval pipeline. Similar to ingestion, we fast-track the steps. Take a look at our [retrieval guide](https://gpt-index.readthedocs.io/en/latest/examples/low_level/retrieval.html) for more details!"
   ]
  },
  {
   "cell_type": "code",
   "execution_count": 59,
   "id": "cd7a7465-6a3a-4379-8ac9-1dad7d8441e2",
   "metadata": {
    "id": "cd7a7465-6a3a-4379-8ac9-1dad7d8441e2"
   },
   "outputs": [],
   "source": [
    "query_str = \"Can you tell me about the types of car insurance coverage?\""
   ]
  },
  {
   "cell_type": "markdown",
   "id": "20b076aa-4ebb-4f26-8b31-387a01a47405",
   "metadata": {
    "id": "20b076aa-4ebb-4f26-8b31-387a01a47405"
   },
   "source": [
    "### 1. Generate a Query Embedding"
   ]
  },
  {
   "cell_type": "code",
   "execution_count": 60,
   "id": "159bda45-beb5-48bc-bf33-b9d1c44188b9",
   "metadata": {
    "id": "159bda45-beb5-48bc-bf33-b9d1c44188b9"
   },
   "outputs": [],
   "source": [
    "query_embedding = embed_model.get_query_embedding(query_str)"
   ]
  },
  {
   "cell_type": "markdown",
   "id": "cf2c8594-bc95-41b0-a0bb-35b4f02a734f",
   "metadata": {
    "id": "cf2c8594-bc95-41b0-a0bb-35b4f02a734f"
   },
   "source": [
    "### 2. Query the Vector Database"
   ]
  },
  {
   "cell_type": "code",
   "execution_count": 89,
   "id": "b5c62ffc-2092-4fd0-85c4-acde0b6c3b4f",
   "metadata": {
    "id": "b5c62ffc-2092-4fd0-85c4-acde0b6c3b4f"
   },
   "outputs": [],
   "source": [
    "# construct vector store query\n",
    "from llama_index.vector_stores import VectorStoreQuery\n",
    "\n",
    "query_mode = \"default\"\n",
    "# query_mode = \"sparse\"\n",
    "# query_mode = \"hybrid\"\n",
    "\n",
    "vector_store_query = VectorStoreQuery(\n",
    "    query_embedding=query_embedding, similarity_top_k=2, mode=query_mode\n",
    ")"
   ]
  },
  {
   "cell_type": "code",
   "execution_count": 90,
   "id": "06051002-db44-404b-a946-2b37b3b6ca67",
   "metadata": {
    "id": "06051002-db44-404b-a946-2b37b3b6ca67"
   },
   "outputs": [
    {
     "name": "stdout",
     "output_type": "stream",
     "text": [
      "It’s typically just enough coverage to meet your state’s minimum requirements, and nothing more. It provides essential financial protection for bodily injury and property damage liability if you’re in an accident. When you choose this minimum coverage, you don’t get protection for your own vehicle.</p><p>A liability-only policy may make sense if the cost to repair or replace your vehicle doesn’t justify the additional expense of full coverage, or if you’re on a tight budget and prioritize lower premiums over comprehensive protection. It may also be suitable if you frequently use public transportation and don’t spend much time behind the wheel.</p></div></div></li><li><div class=\"dC_yF\"><img alt=\"illustration card https://a.storyblok.com/f/162273/x/38dc81ba93/drive-1.svg\" loading=\"lazy\" width=\"48\" height=\"48\" src=\"https://a.storyblok.com/f/162273/x/38dc81ba93/drive-1.svg/m/48x48/smart/\"/><div><h4>Full coverage: Good for drivers who want more coverage for their own vehicle</h4><p><a href=\"/car-insurance/coverage/full-coverage/\" target=\"_self\"><strong>Full-coverage car insurance</strong></a> includes liability coverage for at least your state’s minimum insurance requirements, plus comprehensive and collision coverage for your car. In addition to covering damages you cause to others in an accident, a full-coverage policy can help pay to repair or replace your own vehicle.</p><p>Full coverage is a great option for new or high-value vehicles. Collision and comprehensive coverages can save you from significant financial losses due to accidents, theft, and natural disasters. If you lease or finance your car, your lender or leasing company will require you to carry full coverage.</p></div></div></li></ul><h3 id=\"additional-car-insurance-coverages-to-consider\">Additional car insurance coverages to consider</h3><p>In addition to liability, comprehensive, and collision coverage, most insurance companies offer a range of supplemental coverages, including:</p><ul class=\"fj_Cp\"><li><div class=\"dC_yF\"><img alt=\"illustration card https://a.storyblok.com/f/162273/x/5285c4cd74/uninsured-or-underinsured-motorist-coverage.svg\" loading=\"lazy\" width=\"48\" height=\"48\" src=\"https://a.storyblok.com/f/162273/x/5285c4cd74/uninsured-or-underinsured-motorist-coverage.svg/m/48x48/smart/\"/><div><h4>Uninsured and underinsured motorist coverage</h4><p>You can’t control another driver’s insurance decisions. Uninsured and underinsured motorist coverage protects you against drivers who don’t have adequate coverage. If they don’t have insurance to pay for the damage they cause, this coverage steps in for you. UM/UIM also provides coverage for hit-and-runs.</p></div></div></li><li><div class=\"dC_yF\"><img alt=\"illustration card https://a.storyblok.com/f/162273/x/4c9753bdbe/medical-payments.svg\" loading=\"lazy\" width=\"48\" height=\"48\" src=\"https://a.storyblok.com/f/162273/x/4c9753bdbe/medical-payments.svg/m/48x48/smart/\"/><div><h4>Medical payments coverage</h4><p>When accidents result in medical bills, medical payments coverage can help. It’s financial protection for you and your passengers, no matter who’s at fault for the accident.\n"
     ]
    }
   ],
   "source": [
    "# returns a VectorStoreQueryResult\n",
    "query_result = vector_store.query(vector_store_query)\n",
    "print(query_result.nodes[0].get_content())"
   ]
  },
  {
   "cell_type": "markdown",
   "id": "dff153ee-5774-4374-98a6-038775fb1d6a",
   "metadata": {
    "id": "dff153ee-5774-4374-98a6-038775fb1d6a"
   },
   "source": [
    "### 3. Parse Result into a Set of Nodes"
   ]
  },
  {
   "cell_type": "code",
   "execution_count": 63,
   "id": "9efda092-69ee-404e-8667-28e866c0e4d1",
   "metadata": {
    "id": "9efda092-69ee-404e-8667-28e866c0e4d1"
   },
   "outputs": [],
   "source": [
    "from llama_index.schema import NodeWithScore\n",
    "from typing import Optional\n",
    "\n",
    "nodes_with_scores = []\n",
    "for index, node in enumerate(query_result.nodes):\n",
    "    score: Optional[float] = None\n",
    "    if query_result.similarities is not None:\n",
    "        score = query_result.similarities[index]\n",
    "    nodes_with_scores.append(NodeWithScore(node=node, score=score))"
   ]
  },
  {
   "cell_type": "markdown",
   "id": "445ee65d-bd12-46e5-817d-e21d97718338",
   "metadata": {
    "id": "445ee65d-bd12-46e5-817d-e21d97718338"
   },
   "source": [
    "### 4. Put into a Retriever"
   ]
  },
  {
   "cell_type": "code",
   "execution_count": 64,
   "id": "f817dbf4-926c-4aa2-a3b6-946c45df0893",
   "metadata": {
    "id": "f817dbf4-926c-4aa2-a3b6-946c45df0893"
   },
   "outputs": [],
   "source": [
    "from llama_index import QueryBundle\n",
    "from llama_index.retrievers import BaseRetriever\n",
    "from typing import Any, List\n",
    "\n",
    "\n",
    "class VectorDBRetriever(BaseRetriever):\n",
    "    \"\"\"Retriever over a postgres vector store.\"\"\"\n",
    "\n",
    "    def __init__(\n",
    "        self,\n",
    "        vector_store: PGVectorStore,\n",
    "        embed_model: Any,\n",
    "        query_mode: str = \"default\",\n",
    "        similarity_top_k: int = 2,\n",
    "    ) -> None:\n",
    "        \"\"\"Init params.\"\"\"\n",
    "        self._vector_store = vector_store\n",
    "        self._embed_model = embed_model\n",
    "        self._query_mode = query_mode\n",
    "        self._similarity_top_k = similarity_top_k\n",
    "\n",
    "    def _retrieve(self, query_bundle: QueryBundle) -> List[NodeWithScore]:\n",
    "        \"\"\"Retrieve.\"\"\"\n",
    "        query_embedding = embed_model.get_query_embedding(query_str)\n",
    "        vector_store_query = VectorStoreQuery(\n",
    "            query_embedding=query_embedding,\n",
    "            similarity_top_k=self._similarity_top_k,\n",
    "            mode=self._query_mode,\n",
    "        )\n",
    "        query_result = vector_store.query(vector_store_query)\n",
    "\n",
    "        nodes_with_scores = []\n",
    "        for index, node in enumerate(query_result.nodes):\n",
    "            score: Optional[float] = None\n",
    "            if query_result.similarities is not None:\n",
    "                score = query_result.similarities[index]\n",
    "            nodes_with_scores.append(NodeWithScore(node=node, score=score))\n",
    "\n",
    "        return nodes_with_scores"
   ]
  },
  {
   "cell_type": "code",
   "execution_count": 65,
   "id": "6dbaf309-a3fb-4d01-bc7b-4efab92e6e3d",
   "metadata": {
    "id": "6dbaf309-a3fb-4d01-bc7b-4efab92e6e3d"
   },
   "outputs": [],
   "source": [
    "retriever = VectorDBRetriever(\n",
    "    vector_store, embed_model, query_mode=\"default\", similarity_top_k=2\n",
    ")"
   ]
  },
  {
   "cell_type": "markdown",
   "id": "977c28a6-065a-408a-b007-e611d2d99153",
   "metadata": {
    "id": "977c28a6-065a-408a-b007-e611d2d99153"
   },
   "source": [
    "## Plug this into our RetrieverQueryEngine to synthesize a response"
   ]
  },
  {
   "cell_type": "code",
   "execution_count": 66,
   "id": "ae459e87-daff-433d-a2bd-fd4a934357ef",
   "metadata": {
    "id": "ae459e87-daff-433d-a2bd-fd4a934357ef"
   },
   "outputs": [],
   "source": [
    "from llama_index.query_engine import RetrieverQueryEngine\n",
    "\n",
    "query_engine = RetrieverQueryEngine.from_args(\n",
    "    retriever, service_context=service_context\n",
    ")"
   ]
  },
  {
   "cell_type": "code",
   "execution_count": 67,
   "id": "312bdaba-6a91-4601-96f9-c64d1ae09007",
   "metadata": {
    "id": "312bdaba-6a91-4601-96f9-c64d1ae09007",
    "outputId": "55c8447e-73b0-4274-9120-2e8598f06971"
   },
   "outputs": [
    {
     "name": "stderr",
     "output_type": "stream",
     "text": [
      "Llama.generate: prefix-match hit\n",
      "\n",
      "llama_print_timings:        load time =   18266.67 ms\n",
      "llama_print_timings:      sample time =      13.55 ms /   103 runs   (    0.13 ms per token,  7600.92 tokens per second)\n",
      "llama_print_timings: prompt eval time =   37336.94 ms /  1991 tokens (   18.75 ms per token,    53.33 tokens per second)\n",
      "llama_print_timings:        eval time =    6782.37 ms /   102 runs   (   66.49 ms per token,    15.04 tokens per second)\n",
      "llama_print_timings:       total time =   44385.95 ms\n"
     ]
    }
   ],
   "source": [
    "query_str = \"Can you tell me about the types of car insurance coverage?\"\n",
    "\n",
    "response = query_engine.query(query_str)"
   ]
  },
  {
   "cell_type": "code",
   "execution_count": 68,
   "id": "72f1096f-96b6-4a90-8524-b9ebe4532661",
   "metadata": {
    "id": "72f1096f-96b6-4a90-8524-b9ebe4532661",
    "outputId": "2da20c0e-6956-4bc5-f27e-ec962a69c0da"
   },
   "outputs": [
    {
     "name": "stdout",
     "output_type": "stream",
     "text": [
      " Sure! There are several types of car insurance coverage available, including liability-only, full coverage, uninsured or underinsured motorist coverage, medical payments coverage, and comprehensive and collision coverage. Each type of coverage provides different levels of protection for your vehicle and your financial assets in the event of an accident or other loss. It's important to carefully consider your needs and budget when selecting car insurance coverage to ensure you have the right level of protection for your specific situation.\n"
     ]
    }
   ],
   "source": [
    "print(str(response))"
   ]
  },
  {
   "cell_type": "code",
   "execution_count": 70,
   "id": "f7838289-5a59-4042-b4b7-037f66d99be4",
   "metadata": {
    "id": "f7838289-5a59-4042-b4b7-037f66d99be4"
   },
   "outputs": [
    {
     "name": "stdout",
     "output_type": "stream",
     "text": [
      "{'Source': 'https://insurify.com/car-insurance/'}\n"
     ]
    }
   ],
   "source": [
    "print(response.source_nodes[0].metadata)"
   ]
  },
  {
   "cell_type": "code",
   "execution_count": 71,
   "id": "8b3b6435-75f1-426b-a719-50598ff5ba16",
   "metadata": {},
   "outputs": [
    {
     "data": {
      "text/plain": [
       "2"
      ]
     },
     "execution_count": 71,
     "metadata": {},
     "output_type": "execute_result"
    }
   ],
   "source": [
    "len(response.source_nodes)"
   ]
  },
  {
   "cell_type": "code",
   "execution_count": null,
   "id": "f303dfd6-343c-4bbe-a281-6aef862760fa",
   "metadata": {},
   "outputs": [],
   "source": []
  }
 ],
 "metadata": {
  "colab": {
   "provenance": []
  },
  "kernelspec": {
   "display_name": "Python 3 (ipykernel)",
   "language": "python",
   "name": "python3"
  },
  "language_info": {
   "codemirror_mode": {
    "name": "ipython",
    "version": 3
   },
   "file_extension": ".py",
   "mimetype": "text/x-python",
   "name": "python",
   "nbconvert_exporter": "python",
   "pygments_lexer": "ipython3",
   "version": "3.8.10"
  }
 },
 "nbformat": 4,
 "nbformat_minor": 5
}
